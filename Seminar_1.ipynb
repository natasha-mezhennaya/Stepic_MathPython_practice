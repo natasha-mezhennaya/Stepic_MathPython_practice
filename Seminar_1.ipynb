{
 "cells": [
  {
   "cell_type": "code",
   "execution_count": null,
   "metadata": {},
   "outputs": [],
   "source": [
    "## Предел функции"
   ]
  },
  {
   "cell_type": "code",
   "execution_count": 1,
   "metadata": {},
   "outputs": [],
   "source": [
    "from math import exp"
   ]
  },
  {
   "cell_type": "code",
   "execution_count": 3,
   "metadata": {},
   "outputs": [],
   "source": [
    "def f(x):\n",
    "    return (exp(x) - 1) / x"
   ]
  },
  {
   "cell_type": "code",
   "execution_count": 6,
   "metadata": {},
   "outputs": [
    {
     "name": "stdout",
     "output_type": "stream",
     "text": [
      "1.718281828459045\n",
      "1.0517091807564771\n",
      "1.005016708416795\n",
      "1.0005001667083846\n"
     ]
    }
   ],
   "source": [
    "x0 = 0\n",
    "dx_list = [1, 0.1, 0.01, 0.001]\n",
    "for dx in dx_list:\n",
    "    print(f(x0+dx))"
   ]
  },
  {
   "cell_type": "code",
   "execution_count": 7,
   "metadata": {},
   "outputs": [],
   "source": [
    "def f(x):\n",
    "    return x**2"
   ]
  },
  {
   "cell_type": "code",
   "execution_count": 10,
   "metadata": {},
   "outputs": [
    {
     "name": "stdout",
     "output_type": "stream",
     "text": [
      "7.0\n",
      "6.100000000000012\n",
      "6.009999999999849\n",
      "6.000999999999479\n"
     ]
    }
   ],
   "source": [
    "x0 = 3\n",
    "dx_list = [1, 0.1, 0.01, 0.001]\n",
    "for dx in dx_list:\n",
    "    print((f(x0+dx) - f(x0)) / dx)"
   ]
  },
  {
   "cell_type": "code",
   "execution_count": 11,
   "metadata": {},
   "outputs": [],
   "source": [
    "def g(x):\n",
    "    return a*x + b"
   ]
  },
  {
   "cell_type": "code",
   "execution_count": 18,
   "metadata": {},
   "outputs": [
    {
     "name": "stdout",
     "output_type": "stream",
     "text": [
      "a 2.000099999999172\n",
      "b -1.000099999999172\n"
     ]
    }
   ],
   "source": [
    "def f(x):\n",
    "    return x**2\n",
    "\n",
    "#касательная в точке х\n",
    "def g(x):\n",
    "    return a*x + b\n",
    "\n",
    "x0 = 1\n",
    "dx = 0.0001\n",
    "\n",
    "\n",
    "# a - это производная, возьмем по определению\n",
    "a  = (f(x0+dx) - f(x0)) / dx\n",
    "print('a', a)\n",
    "\n",
    "b = f(x0) - a*x0\n",
    "print('b', b)"
   ]
  },
  {
   "cell_type": "code",
   "execution_count": 19,
   "metadata": {},
   "outputs": [
    {
     "data": {
      "text/plain": [
       "[<matplotlib.lines.Line2D at 0x11a8bbe48>]"
      ]
     },
     "execution_count": 19,
     "metadata": {},
     "output_type": "execute_result"
    },
    {
     "data": {
      "image/png": "[encoded data removed]",
      "text/plain": [
       "<Figure size 432x288 with 1 Axes>"
      ]
     },
     "metadata": {
      "needs_background": "light"
     },
     "output_type": "display_data"
    }
   ],
   "source": [
    "# построим график\n",
    "import numpy as np\n",
    "import matplotlib.pyplot as plt\n",
    "%matplotlib inline\n",
    "\n",
    "x = np.arange(-1, 2, 0.01)\n",
    "\n",
    "plt.plot(x, f(x))\n",
    "plt.plot(x, g(x))\n"
   ]
  },
  {
   "cell_type": "code",
   "execution_count": null,
   "metadata": {},
   "outputs": [],
   "source": []
  }
 ],
 "metadata": {
  "kernelspec": {
   "display_name": "Python 3",
   "language": "python",
   "name": "python3"
  },
  "language_info": {
   "codemirror_mode": {
    "name": "ipython",
    "version": 3
   },
   "file_extension": ".py",
   "mimetype": "text/x-python",
   "name": "python",
   "nbconvert_exporter": "python",
   "pygments_lexer": "ipython3",
   "version": "3.7.3"
  }
 },
 "nbformat": 4,
 "nbformat_minor": 4
}
