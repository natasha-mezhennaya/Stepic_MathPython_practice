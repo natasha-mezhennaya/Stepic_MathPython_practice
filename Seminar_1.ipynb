{
 "cells": [
  {
   "cell_type": "markdown",
   "metadata": {},
   "source": [
    "## Предел функции"
   ]
  },
  {
   "cell_type": "code",
   "execution_count": 1,
   "metadata": {},
   "outputs": [],
   "source": [
    "from math import exp"
   ]
  },
  {
   "cell_type": "code",
   "execution_count": 3,
   "metadata": {},
   "outputs": [],
   "source": [
    "def f(x):\n",
    "    return (exp(x) - 1) / x"
   ]
  },
  {
   "cell_type": "code",
   "execution_count": 6,
   "metadata": {},
   "outputs": [
    {
     "name": "stdout",
     "output_type": "stream",
     "text": [
      "1.718281828459045\n",
      "1.0517091807564771\n",
      "1.005016708416795\n",
      "1.0005001667083846\n"
     ]
    }
   ],
   "source": [
    "x0 = 0\n",
    "dx_list = [1, 0.1, 0.01, 0.001]\n",
    "for dx in dx_list:\n",
    "    print(f(x0+dx))"
   ]
  },
  {
   "cell_type": "code",
   "execution_count": 7,
   "metadata": {},
   "outputs": [],
   "source": [
    "def f(x):\n",
    "    return x**2"
   ]
  },
  {
   "cell_type": "code",
   "execution_count": 10,
   "metadata": {},
   "outputs": [
    {
     "name": "stdout",
     "output_type": "stream",
     "text": [
      "7.0\n",
      "6.100000000000012\n",
      "6.009999999999849\n",
      "6.000999999999479\n"
     ]
    }
   ],
   "source": [
    "x0 = 3\n",
    "dx_list = [1, 0.1, 0.01, 0.001]\n",
    "for dx in dx_list:\n",
    "    print((f(x0+dx) - f(x0)) / dx)"
   ]
  },
  {
   "cell_type": "markdown",
   "metadata": {},
   "source": [
    "## Производная функции (по определению)"
   ]
  },
  {
   "cell_type": "code",
   "execution_count": 11,
   "metadata": {},
   "outputs": [],
   "source": [
    "def g(x):\n",
    "    return a*x + b"
   ]
  },
  {
   "cell_type": "code",
   "execution_count": 18,
   "metadata": {},
   "outputs": [
    {
     "name": "stdout",
     "output_type": "stream",
     "text": [
      "a 2.000099999999172\n",
      "b -1.000099999999172\n"
     ]
    }
   ],
   "source": [
    "def f(x):\n",
    "    return x**2\n",
    "\n",
    "#касательная в точке х\n",
    "def g(x):\n",
    "    return a*x + b\n",
    "\n",
    "x0 = 1\n",
    "dx = 0.0001\n",
    "\n",
    "\n",
    "# a - это производная, возьмем по определению\n",
    "a  = (f(x0+dx) - f(x0)) / dx\n",
    "print('a', a)\n",
    "\n",
    "b = f(x0) - a*x0\n",
    "print('b', b)"
   ]
  },
  {
   "cell_type": "markdown",
   "metadata": {},
   "source": [
    "## Построение графика 2-х функций"
   ]
  },
  {
   "cell_type": "code",
   "execution_count": 19,
   "metadata": {},
   "outputs": [
    {
     "data": {
      "text/plain": [
       "[<matplotlib.lines.Line2D at 0x11a8bbe48>]"
      ]
     },
     "execution_count": 19,
     "metadata": {},
     "output_type": "execute_result"
    },
    {
     "data": {
      "image/png": "[encoded data removed]",
      "text/plain": [
       "<Figure size 432x288 with 1 Axes>"
      ]
     },
     "metadata": {
      "needs_background": "light"
     },
     "output_type": "display_data"
    }
   ],
   "source": [
    "# построим график\n",
    "import numpy as np\n",
    "import matplotlib.pyplot as plt\n",
    "%matplotlib inline\n",
    "\n",
    "x = np.arange(-1, 2, 0.01)\n",
    "\n",
    "plt.plot(x, f(x))\n",
    "plt.plot(x, g(x))\n"
   ]
  },
  {
   "cell_type": "markdown",
   "metadata": {},
   "source": [
    "## Поменять содержимое переменных местами"
   ]
  },
  {
   "cell_type": "code",
   "execution_count": 22,
   "metadata": {},
   "outputs": [],
   "source": [
    "a = 5\n",
    "b = 10"
   ]
  },
  {
   "cell_type": "code",
   "execution_count": 21,
   "metadata": {},
   "outputs": [
    {
     "data": {
      "text/plain": [
       "(10, 5)"
      ]
     },
     "execution_count": 21,
     "metadata": {},
     "output_type": "execute_result"
    }
   ],
   "source": [
    "# работает только с числами\n",
    "a = a + b\n",
    "b = a - b\n",
    "a = a - b\n",
    "a, b"
   ]
  },
  {
   "cell_type": "markdown",
   "metadata": {},
   "source": [
    "**правильный способ**\n",
    "для любых типов элементов и в любом количестве\n",
    "\n",
    "a, b = b, a"
   ]
  },
  {
   "cell_type": "code",
   "execution_count": 24,
   "metadata": {},
   "outputs": [
    {
     "name": "stdout",
     "output_type": "stream",
     "text": [
      "dfhdsf [22, 'sdsd'] 111\n"
     ]
    }
   ],
   "source": [
    "a = 111\n",
    "b = 'dfhdsf'\n",
    "c = [22, 'sdsd']\n",
    "a, b, c = b, c, a\n",
    "print(a, b, c)"
   ]
  },
  {
   "cell_type": "markdown",
   "metadata": {},
   "source": [
    "## Максимальное значение в списке"
   ]
  },
  {
   "cell_type": "code",
   "execution_count": 26,
   "metadata": {},
   "outputs": [
    {
     "name": "stdout",
     "output_type": "stream",
     "text": [
      "999\n"
     ]
    }
   ],
   "source": [
    "ls = [1, 7, -9, 45, 67, 999, 0]\n",
    "print(max(ls))"
   ]
  },
  {
   "cell_type": "markdown",
   "metadata": {},
   "source": [
    "**key**"
   ]
  },
  {
   "cell_type": "code",
   "execution_count": 29,
   "metadata": {},
   "outputs": [
    {
     "name": "stdout",
     "output_type": "stream",
     "text": [
      "xyz\n",
      "abcdef\n"
     ]
    }
   ],
   "source": [
    "ls = ['a', 'b', 'xyz', 'abcdef']\n",
    "print(max(ls))\n",
    "\n",
    "print(max(ls, key=len))"
   ]
  },
  {
   "cell_type": "markdown",
   "metadata": {},
   "source": [
    "## Сортировка списка"
   ]
  },
  {
   "cell_type": "code",
   "execution_count": 32,
   "metadata": {},
   "outputs": [
    {
     "name": "stdout",
     "output_type": "stream",
     "text": [
      "['a', 'ab', 'abcdef', 'b', 'bc', 'xyz']\n"
     ]
    }
   ],
   "source": [
    "ls = ['a', 'b', 'bc', 'ab', 'xyz', 'abcdef']\n",
    "print(sorted(ls))"
   ]
  },
  {
   "cell_type": "code",
   "execution_count": 33,
   "metadata": {},
   "outputs": [
    {
     "name": "stdout",
     "output_type": "stream",
     "text": [
      "['a', 'b', 'bc', 'ab', 'xyz', 'abcdef']\n"
     ]
    }
   ],
   "source": [
    "print(sorted(ls, key=len))"
   ]
  },
  {
   "cell_type": "markdown",
   "metadata": {},
   "source": [
    "## Удаление дубликатов из списка"
   ]
  },
  {
   "cell_type": "code",
   "execution_count": 34,
   "metadata": {},
   "outputs": [],
   "source": [
    "ls = [1, 7, -9, 45, 67, 999, 0, 2, 3, 1, 34, 1, 3]"
   ]
  },
  {
   "cell_type": "code",
   "execution_count": 40,
   "metadata": {},
   "outputs": [
    {
     "name": "stdout",
     "output_type": "stream",
     "text": [
      "[1, 7, -9, 45, 67, 999, 0, 2, 3, 34]\n",
      "CPU times: user 67 µs, sys: 13 µs, total: 80 µs\n",
      "Wall time: 83.9 µs\n"
     ]
    }
   ],
   "source": [
    "%%time\n",
    "ls_new = []\n",
    "for el in ls:\n",
    "    if el not in ls_new:\n",
    "        ls_new.append(el)\n",
    "        \n",
    "print(ls_new)"
   ]
  },
  {
   "cell_type": "code",
   "execution_count": 41,
   "metadata": {},
   "outputs": [
    {
     "name": "stdout",
     "output_type": "stream",
     "text": [
      "{0, 1, 2, 67, 3, 34, 7, 999, 45, -9}\n",
      "CPU times: user 58 µs, sys: 14 µs, total: 72 µs\n",
      "Wall time: 75.8 µs\n"
     ]
    }
   ],
   "source": [
    "%%time\n",
    "print(set(ls))"
   ]
  },
  {
   "cell_type": "markdown",
   "metadata": {},
   "source": [
    "## Задачи от Google"
   ]
  },
  {
   "cell_type": "markdown",
   "metadata": {},
   "source": [
    "Подсчитать слова, у которых первый и последний символ одинаковые"
   ]
  },
  {
   "cell_type": "code",
   "execution_count": 42,
   "metadata": {},
   "outputs": [],
   "source": [
    "words = ['a', 'aa', 'aaa', 'ahhhjsa', 'shdfjhdf', 'cat']"
   ]
  },
  {
   "cell_type": "code",
   "execution_count": 43,
   "metadata": {},
   "outputs": [],
   "source": [
    "def math_ends(ls):\n",
    "    count = 0\n",
    "    for el in ls:\n",
    "        if el[0] == el[-1]:\n",
    "            count += 1\n",
    "    return count"
   ]
  },
  {
   "cell_type": "code",
   "execution_count": 44,
   "metadata": {},
   "outputs": [
    {
     "data": {
      "text/plain": [
       "4"
      ]
     },
     "execution_count": 44,
     "metadata": {},
     "output_type": "execute_result"
    }
   ],
   "source": [
    "math_ends(words)"
   ]
  },
  {
   "cell_type": "markdown",
   "metadata": {},
   "source": [
    "отсортировать список, чтобы в начале шли слова на букву х"
   ]
  },
  {
   "cell_type": "code",
   "execution_count": 45,
   "metadata": {},
   "outputs": [],
   "source": [
    "words = ['a', 'xaa', 'xdfaaa', 'xahhhjsa', 'shdfjhdf', 'cat']"
   ]
  },
  {
   "cell_type": "code",
   "execution_count": 46,
   "metadata": {},
   "outputs": [
    {
     "name": "stdout",
     "output_type": "stream",
     "text": [
      "['xaa', 'xdfaaa', 'xahhhjsa']\n"
     ]
    }
   ],
   "source": [
    "x = []\n",
    "for word in words:\n",
    "    if word[0] == 'x':\n",
    "        x.append(word)\n",
    "print(x)"
   ]
  },
  {
   "cell_type": "code",
   "execution_count": 49,
   "metadata": {},
   "outputs": [
    {
     "name": "stdout",
     "output_type": "stream",
     "text": [
      "['xaa', 'xdfaaa', 'xahhhjsa']\n"
     ]
    }
   ],
   "source": [
    "x = [word for word in words if word[0] == 'x' ]\n",
    "print(x)"
   ]
  },
  {
   "cell_type": "code",
   "execution_count": 53,
   "metadata": {},
   "outputs": [
    {
     "data": {
      "text/plain": [
       "['xaa', 'xahhhjsa', 'xdfaaa', 'a', 'cat', 'shdfjhdf']"
      ]
     },
     "execution_count": 53,
     "metadata": {},
     "output_type": "execute_result"
    }
   ],
   "source": [
    "words = ['a', 'xaa', 'xdfaaa', 'xahhhjsa', 'shdfjhdf', 'cat']\n",
    "\n",
    "def start_x(ls):\n",
    "    x = [word for word in words if word[0] == 'x']\n",
    "    not_x = [word for word in words if word[0] != 'x']\n",
    "    return sorted(x) + sorted(not_x)\n",
    "\n",
    "start_x(words)"
   ]
  },
  {
   "cell_type": "markdown",
   "metadata": {},
   "source": [
    "отсортировать список кортежей по последнему элементу из каждого кортежа"
   ]
  },
  {
   "cell_type": "code",
   "execution_count": 62,
   "metadata": {},
   "outputs": [],
   "source": [
    "tuples = [(1, 2), (3, 2), (3, 4, 1), (0,)]"
   ]
  },
  {
   "cell_type": "code",
   "execution_count": 63,
   "metadata": {},
   "outputs": [
    {
     "data": {
      "text/plain": [
       "[(0,), (1, 2), (3, 2), (3, 4, 1)]"
      ]
     },
     "execution_count": 63,
     "metadata": {},
     "output_type": "execute_result"
    }
   ],
   "source": [
    "sorted(tuples)"
   ]
  },
  {
   "cell_type": "code",
   "execution_count": 65,
   "metadata": {},
   "outputs": [
    {
     "data": {
      "text/plain": [
       "[(0,), (3, 4, 1), (1, 2), (3, 2)]"
      ]
     },
     "execution_count": 65,
     "metadata": {},
     "output_type": "execute_result"
    }
   ],
   "source": [
    "def last(elem):\n",
    "    return elem[-1]\n",
    "\n",
    "sorted(tuples, key = last)"
   ]
  },
  {
   "cell_type": "code",
   "execution_count": 66,
   "metadata": {},
   "outputs": [
    {
     "data": {
      "text/plain": [
       "[(0,), (3, 4, 1), (1, 2), (3, 2)]"
      ]
     },
     "execution_count": 66,
     "metadata": {},
     "output_type": "execute_result"
    }
   ],
   "source": [
    "sorted(tuples, key = lambda elem: elem[-1])"
   ]
  },
  {
   "cell_type": "markdown",
   "metadata": {},
   "source": [
    "# Домашнее задание"
   ]
  },
  {
   "cell_type": "markdown",
   "metadata": {},
   "source": [
    "Реализуйте функцию f(x):\n",
    "\n",
    "f(x) = 2arctg(x)\n",
    "\n",
    "Найдите предел функции (ответ округлите до 3 знака после запятой) при x→+∞\n",
    "\n",
    "lim 2arctg(x)\n",
    "\n",
    "\n",
    "Hint: Арктангенс доступен в модуле math под именем atan."
   ]
  },
  {
   "cell_type": "code",
   "execution_count": 68,
   "metadata": {},
   "outputs": [
    {
     "name": "stdout",
     "output_type": "stream",
     "text": [
      "3.142\n"
     ]
    }
   ],
   "source": [
    "from math import atan\n",
    "\n",
    "def f(x):\n",
    "    return 2 * atan(x)\n",
    "\n",
    "x0 = 1000000000\n",
    "dx_list = 0.001\n",
    "\n",
    "lim = f(x0+dx)\n",
    "\n",
    "print (round(lim, 3))"
   ]
  },
  {
   "cell_type": "code",
   "execution_count": 69,
   "metadata": {},
   "outputs": [
    {
     "name": "stdout",
     "output_type": "stream",
     "text": [
      "3.142\n"
     ]
    }
   ],
   "source": [
    "from math import atan\n",
    "\n",
    "def f(x):\n",
    "    return 2 * atan(x)\n",
    "\n",
    "x = 1\n",
    "while f(x*10) - f(x) > 1e-4 :\n",
    "    x *= 10\n",
    "\n",
    "print(f'{f(x):.3f}')"
   ]
  },
  {
   "cell_type": "markdown",
   "metadata": {},
   "source": [
    "Проверьте (для нескольких разных точек), что производная от e^x\n",
    "  совпадает с исходной функцией, т.е. (e^x)' = e^x\n",
    "\n",
    "\n",
    "Для этого реализуйте функцию def_e(x), находящую численное значение производной (с точностью до 3 знака) в точке x.\n",
    "\n",
    "\n",
    "Примечание. Пример вывода дан для x = 3\n",
    "\n",
    "В данной задаче не требуется осуществлять вывод - проверка производится для разных точек!"
   ]
  },
  {
   "cell_type": "code",
   "execution_count": 77,
   "metadata": {},
   "outputs": [
    {
     "name": "stdout",
     "output_type": "stream",
     "text": [
      "20.086\n"
     ]
    }
   ],
   "source": [
    "from math import exp\n",
    "\n",
    "def def_e(x0):\n",
    "    dx = 0.01\n",
    "    while exp(x0+dx) - exp(x0) > 0.0001 :\n",
    "        dx *= 0.1\n",
    "        \n",
    "    return round((exp(x0+dx) - exp(x0)) / dx, 3)"
   ]
  },
  {
   "cell_type": "code",
   "execution_count": 75,
   "metadata": {},
   "outputs": [
    {
     "data": {
      "text/plain": [
       "0.0001"
      ]
     },
     "execution_count": 75,
     "metadata": {},
     "output_type": "execute_result"
    }
   ],
   "source": [
    "Напишите функцию even_indeces(L), которая будет возвращать только элементы с чётными индексами.\n",
    "\n",
    "Примечание. Пример вывода дан для L = [1, 1, 2, 3, 5, 8, 13, 21, 34]\n",
    "\n",
    "В данной задаче не требуется осуществлять вывод - проверка производится для разных списков!"
   ]
  },
  {
   "cell_type": "code",
   "execution_count": 78,
   "metadata": {},
   "outputs": [
    {
     "data": {
      "text/plain": [
       "[1, 2, 5, 13, 34]"
      ]
     },
     "execution_count": 78,
     "metadata": {},
     "output_type": "execute_result"
    }
   ],
   "source": [
    "def even_indeces(L):\n",
    "    return L[::2]\n",
    "\n",
    "even_indeces([1, 1, 2, 3, 5, 8, 13, 21, 34])"
   ]
  },
  {
   "cell_type": "markdown",
   "metadata": {},
   "source": [
    "Напишите функцию even_elements(l), которая возвращает только чётные элементы списка.\n",
    "\n",
    "Примечание. Пример вывода дан для l = [1, 1, 2, 3, 5, 8, 13, 21, 34]\n",
    "\n",
    "В данной задаче не требуется осуществлять вывод - проверка производится для разных списков!"
   ]
  },
  {
   "cell_type": "code",
   "execution_count": 79,
   "metadata": {},
   "outputs": [
    {
     "data": {
      "text/plain": [
       "[2, 8, 34]"
      ]
     },
     "execution_count": 79,
     "metadata": {},
     "output_type": "execute_result"
    }
   ],
   "source": [
    "def even_indeces(L):\n",
    "    return [el for el in L if not el % 2]\n",
    "even_indeces([1, 1, 2, 3, 5, 8, 13, 21, 34])"
   ]
  },
  {
   "cell_type": "markdown",
   "metadata": {},
   "source": [
    "Напишите функцию last_to_first(l), которая вернёт список в обратном порядке.\n",
    "\n",
    "\n",
    "\n",
    "Примечание. Пример вывода дан для l = [1, 1, 2, 3, 5, 8, 13, 21, 34]\n",
    "\n",
    "В данной задаче не требуется осуществлять вывод - проверка производится для разных списков!"
   ]
  },
  {
   "cell_type": "code",
   "execution_count": 106,
   "metadata": {},
   "outputs": [
    {
     "data": {
      "text/plain": [
       "[34, 21, 13, 8, 5, 3, 2, 1, 1]"
      ]
     },
     "execution_count": 106,
     "metadata": {},
     "output_type": "execute_result"
    }
   ],
   "source": [
    "def last_to_first(ls):\n",
    "    return ls[::-1]\n",
    "\n",
    "last_to_first([1, 1, 2, 3, 5, 8, 13, 21, 34])"
   ]
  },
  {
   "cell_type": "markdown",
   "metadata": {},
   "source": [
    "Считайте строку (используйте input()), содержащую 1 натуральное число n\n",
    "\n",
    "Найдите сумму всех чисел от 0 до n, которые делятся на 5, но не делятся на 3"
   ]
  },
  {
   "cell_type": "code",
   "execution_count": 112,
   "metadata": {},
   "outputs": [
    {
     "name": "stdin",
     "output_type": "stream",
     "text": [
      " 10\n"
     ]
    },
    {
     "name": "stdout",
     "output_type": "stream",
     "text": [
      "15\n"
     ]
    }
   ],
   "source": [
    "n = int(input())\n",
    "\n",
    "s = [i for i in range(n+1) if not(i%5) and (i%3)]\n",
    "print(sum(s))"
   ]
  },
  {
   "cell_type": "markdown",
   "metadata": {},
   "source": [
    "Напишите функцию common(list_a, list_b), возвращающую список общих элементов 2 списков (порядок не важен).\n"
   ]
  },
  {
   "cell_type": "code",
   "execution_count": 116,
   "metadata": {},
   "outputs": [
    {
     "name": "stdout",
     "output_type": "stream",
     "text": [
      "[0, 42, 19]\n"
     ]
    }
   ],
   "source": [
    "def common(list_a, list_b):\n",
    "    return list(set(list_a).intersection(list_b))\n",
    "\n",
    "print(common([0, 2, 3, 4, 5, 19, 42], [0, 6, 19, 33, 42, 55, 66, 77, 99, 101, 256]))\n"
   ]
  },
  {
   "cell_type": "markdown",
   "metadata": {},
   "source": [
    "front_x (с пустыми строками)\n",
    "Напишите функцию front_x(words), которая на вход принимает список строк и возвращает отсортированный по правилам:\n",
    "\n",
    "слова, начинающиеся с символа \"x\", идут первыми\n",
    "в лексикографическом порядке.\n",
    "Важно! Список может содержать пустые строки - \"\" - их нельзя выкидывать и при их обработке функция не должна \"падать\".\n",
    "\n",
    "\n",
    "\n",
    "\n",
    "\n",
    "Примечание. Пример вывода дан для words = ['mix', 'extra', '', 'x-files', 'xyz', 'xapple', 'apple']\n",
    "\n",
    "В данной задаче не требуется осуществлять вывод - проверка производится для разных списков!"
   ]
  },
  {
   "cell_type": "code",
   "execution_count": 124,
   "metadata": {},
   "outputs": [],
   "source": [
    "def front_x(words):\n",
    "    x_ls = [i for i in words if i and i[0]=='x']\n",
    "    other_ls = [i for i in words if not i or i[0]!='x']\n",
    "    return(sorted(x_ls)+sorted(other_ls))"
   ]
  },
  {
   "cell_type": "code",
   "execution_count": 125,
   "metadata": {},
   "outputs": [
    {
     "name": "stdout",
     "output_type": "stream",
     "text": [
      "['x-files', 'xapple', 'xyz', '', 'apple', 'extra', 'mix']\n"
     ]
    }
   ],
   "source": [
    "print(front_x(['x-files', 'xapple', 'xyz', '', 'apple', 'extra', 'mix']))"
   ]
  },
  {
   "cell_type": "markdown",
   "metadata": {},
   "source": [
    "Напишите функцию fib(n), возвращающую n-е число Фибоначчи.\n",
    "\n",
    "\n",
    "Примечание. Пример вывода дан для n = 1, 2, 5 и 9\n",
    "\n",
    "В данной задаче не требуется осуществлять вывод - проверка производится для разных чисел!"
   ]
  },
  {
   "cell_type": "code",
   "execution_count": 132,
   "metadata": {},
   "outputs": [
    {
     "name": "stdout",
     "output_type": "stream",
     "text": [
      "0\n",
      "1\n",
      "1\n",
      "2\n",
      "3\n"
     ]
    }
   ],
   "source": [
    "def fib(n):\n",
    "    if n == 0:\n",
    "        return 0\n",
    "    elif n == 1:\n",
    "        return 1\n",
    "    else:\n",
    "        return fib(n-1) + fib(n-2)\n",
    "\n",
    "print(fib(0))\n",
    "print(fib(1))\n",
    "print(fib(2))\n",
    "print(fib(3))\n",
    "print(fib(4))"
   ]
  },
  {
   "cell_type": "markdown",
   "metadata": {},
   "source": [
    "10. Простые числа\n",
    "Число называется простым, если оно делится только на 1 и само себя.\n",
    "\n",
    "7 - простое число\n",
    "15 - составное число, т.к. 15 = 5*3\n",
    "Напишите функцию is_prime(n), проверяющую простое ли число. Если число простое, функция должна вернуть True, иначе False (логическое значение, не строку!).\n",
    "\n",
    "\n",
    "\n",
    "Примечание. Пример вывода дан для n = 7, 15, 99 и 103\n",
    "\n",
    "В данной задаче не требуется осуществлять вывод - проверка производится для разных чисел!\n",
    "\n",
    "\n",
    "Hint: можно проверить делится ли оно на какое-то из чисел: 2, 3, 4, ... n-1."
   ]
  },
  {
   "cell_type": "code",
   "execution_count": 137,
   "metadata": {},
   "outputs": [
    {
     "name": "stdout",
     "output_type": "stream",
     "text": [
      "True\n",
      "True\n",
      "False\n",
      "False\n",
      "True\n"
     ]
    }
   ],
   "source": [
    "def is_prime(n):\n",
    "    if n % 2 == 0:\n",
    "        return n == 2\n",
    "    d = 3\n",
    "    while d * d <= n and n % d != 0:\n",
    "        d += 2\n",
    "    return d * d > n\n",
    "    \n",
    "print(is_prime(3))\n",
    "print(is_prime(7))\n",
    "print(is_prime(15))\n",
    "print(is_prime(99))\n",
    "print(is_prime(103))"
   ]
  },
  {
   "cell_type": "markdown",
   "metadata": {},
   "source": [
    "A. donuts\n",
    "Считайте строку, содержащую натуральное число - число пончиков\n",
    "\n",
    "Напишите функцию, принимающую на вход число пончиков, а возвращающую строку:\n",
    "\n",
    "\"Всего пончиков: <число>\", если пончиков не больше 9\n",
    "\"Всего пончиков: много\", если пончиков больше 9\n",
    "Выведите на печать результат работы функции для считанного числа пончиков."
   ]
  },
  {
   "cell_type": "code",
   "execution_count": 141,
   "metadata": {},
   "outputs": [
    {
     "name": "stdin",
     "output_type": "stream",
     "text": [
      " 0\n"
     ]
    },
    {
     "name": "stdout",
     "output_type": "stream",
     "text": [
      "Всего пончиков: 0\n"
     ]
    }
   ],
   "source": [
    "n = int(input())\n",
    "def donuts(n):\n",
    "    return f'Всего пончиков: {n}' if n<10 else 'Всего пончиков: много'\n",
    "\n",
    "print(donuts(n))"
   ]
  },
  {
   "cell_type": "code",
   "execution_count": 142,
   "metadata": {},
   "outputs": [
    {
     "name": "stdin",
     "output_type": "stream",
     "text": [
      " 4\n"
     ]
    },
    {
     "name": "stdout",
     "output_type": "stream",
     "text": [
      "Всего пончиков: 4\n"
     ]
    }
   ],
   "source": [
    "n = int(input())  \n",
    "print((f'Всего пончиков: {n}','Всего пончиков: много')[n>9])"
   ]
  },
  {
   "cell_type": "markdown",
   "metadata": {},
   "source": [
    "B. both_ends\n",
    "Попрактикуемся в срезах для строк.\n",
    "\n",
    "Считайте строку.\n",
    "\n",
    "Напишите функцию, которая принимает на вход строку, а возвращает 2 первых и 2 последних символа. Если длина исходной строки меньше 2 символов, необходимо вернуть пустую строку.\n",
    "\n",
    "Выведите на печать результат работы вашей функции, применённый к считанной строке."
   ]
  },
  {
   "cell_type": "code",
   "execution_count": 146,
   "metadata": {},
   "outputs": [
    {
     "name": "stdin",
     "output_type": "stream",
     "text": [
      " asd\n"
     ]
    },
    {
     "name": "stdout",
     "output_type": "stream",
     "text": [
      "assd\n"
     ]
    }
   ],
   "source": [
    "s = input()\n",
    "def both_ends(s):\n",
    "    if len(s) < 2:\n",
    "        return ''\n",
    "    \n",
    "    return s[:2] + s[-2:]\n",
    "\n",
    "print(both_ends(s))"
   ]
  },
  {
   "cell_type": "markdown",
   "metadata": {},
   "source": [
    "**Надо разобраться с такой констуркцией**"
   ]
  },
  {
   "cell_type": "code",
   "execution_count": 148,
   "metadata": {},
   "outputs": [
    {
     "name": "stdin",
     "output_type": "stream",
     "text": [
      " wew\n"
     ]
    },
    {
     "name": "stdout",
     "output_type": "stream",
     "text": [
      "weew\n"
     ]
    }
   ],
   "source": [
    "print((lambda s: (s[:2]+s[-2:],\"\")[len(s)<2])(input()))"
   ]
  },
  {
   "cell_type": "code",
   "execution_count": null,
   "metadata": {},
   "outputs": [],
   "source": []
  }
 ],
 "metadata": {
  "kernelspec": {
   "display_name": "Python 3",
   "language": "python",
   "name": "python3"
  },
  "language_info": {
   "codemirror_mode": {
    "name": "ipython",
    "version": 3
   },
   "file_extension": ".py",
   "mimetype": "text/x-python",
   "name": "python",
   "nbconvert_exporter": "python",
   "pygments_lexer": "ipython3",
   "version": "3.7.3"
  }
 },
 "nbformat": 4,
 "nbformat_minor": 4
}
