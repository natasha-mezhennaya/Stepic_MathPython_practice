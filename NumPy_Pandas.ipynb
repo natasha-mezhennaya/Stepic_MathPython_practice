{
 "cells": [
  {
   "cell_type": "markdown",
   "metadata": {},
   "source": [
    "# Векторы и матрицы"
   ]
  },
  {
   "cell_type": "code",
   "execution_count": 1,
   "metadata": {},
   "outputs": [],
   "source": [
    "import numpy as np"
   ]
  },
  {
   "cell_type": "markdown",
   "metadata": {},
   "source": [
    "внутрь конструктора numpy.array() можно передавать любой итерируемый объект"
   ]
  },
  {
   "cell_type": "code",
   "execution_count": 2,
   "metadata": {},
   "outputs": [
    {
     "data": {
      "text/plain": [
       "array([1, 2, 3, 4])"
      ]
     },
     "execution_count": 2,
     "metadata": {},
     "output_type": "execute_result"
    }
   ],
   "source": [
    "np.array((1, 2, 3, 4)) # кортеж (1, 2, 3, 4)"
   ]
  },
  {
   "cell_type": "code",
   "execution_count": 3,
   "metadata": {},
   "outputs": [
    {
     "name": "stdout",
     "output_type": "stream",
     "text": [
      "[1 2 3 4]\n"
     ]
    }
   ],
   "source": [
    "print(np.array((1, 2, 3, 4)))"
   ]
  },
  {
   "cell_type": "code",
   "execution_count": 4,
   "metadata": {},
   "outputs": [
    {
     "data": {
      "text/plain": [
       "array(1)"
      ]
     },
     "execution_count": 4,
     "metadata": {},
     "output_type": "execute_result"
    }
   ],
   "source": [
    "np.array((1))"
   ]
  },
  {
   "cell_type": "code",
   "execution_count": 8,
   "metadata": {},
   "outputs": [
    {
     "name": "stdout",
     "output_type": "stream",
     "text": [
      "1\n"
     ]
    }
   ],
   "source": [
    "print(np.array((1))) #просто значение 1"
   ]
  },
  {
   "cell_type": "code",
   "execution_count": 9,
   "metadata": {},
   "outputs": [
    {
     "name": "stdout",
     "output_type": "stream",
     "text": [
      "[1]\n"
     ]
    }
   ],
   "source": [
    "print(np.array((1,))) # кортеж из 1 элемента"
   ]
  },
  {
   "cell_type": "code",
   "execution_count": 11,
   "metadata": {},
   "outputs": [
    {
     "data": {
      "text/plain": [
       "array(['True', '2.0', '3', '4'], dtype='<U32')"
      ]
     },
     "execution_count": 11,
     "metadata": {},
     "output_type": "execute_result"
    }
   ],
   "source": [
    "np.array((True, 2., 3, '4')) # все элементы стали типа строка"
   ]
  },
  {
   "cell_type": "markdown",
   "metadata": {},
   "source": [
    "**На вход подаётся список чисел.**\n",
    "\n",
    "Создайте и сохраните:\n",
    "\n",
    "в переменную V1 Numpy вектор из этих чисел в том же порядке\n",
    "в переменную V2 Numpy вектор, содержащий только предпоследнее число (это должен быть именно вектор!)\n",
    "в переменную V3 Numpy вектор из этих чисел в обратном порядке\n",
    "в переменную V4 Numpy вектор из этих чисел, начиная с 0-ого, через 2 (т.е. каждое третье число)\n",
    "в переменную V5 Numpy вектор, созданный из генератора Range, содержащий столько элементов, сколько было передано чисел на вход\n",
    "Примечание. В этой задаче не нужно ничего выводить на печать. Только создать вектора."
   ]
  },
  {
   "cell_type": "code",
   "execution_count": 24,
   "metadata": {},
   "outputs": [
    {
     "name": "stdin",
     "output_type": "stream",
     "text": [
      " 1, 2, 3, 4, 5.0, 6, 7, 8, 9, 10\n"
     ]
    },
    {
     "name": "stdout",
     "output_type": "stream",
     "text": [
      "[ 1.  2.  3.  4.  5.  6.  7.  8.  9. 10.]\n",
      "[9.]\n",
      "[10.  9.  8.  7.  6.  5.  4.  3.  2.  1.]\n",
      "[ 1.  4.  7. 10.]\n",
      "[0 1 2 3 4 5 6 7 8 9]\n"
     ]
    }
   ],
   "source": [
    "import numpy as np\n",
    "s = input()\n",
    "\n",
    "V1 = np.array([float(i) for i in s.split(',')])\n",
    "print(V1)\n",
    "V2 = np.array((V1[-2],))\n",
    "print(V2)\n",
    "V3 = V1[::-1]\n",
    "print(V3)\n",
    "V4 = V1[::3]\n",
    "print(V4)\n",
    "V5 = np.array(range(len(V1)))\n",
    "print(V5)"
   ]
  },
  {
   "cell_type": "markdown",
   "metadata": {},
   "source": [
    "На вход подаётся 2 списка целых чисел (они представляют из себя вектора равной длины, т.е. с одинаковым количеством элементов).\n",
    "\n",
    "**Используя векторные операции создайте и сохраните:**\n",
    "\n",
    "в переменную V1 Numpy вектор с числами из 1 строки\n",
    "в переменную V2 Numpy вектор с числами из 2 строки\n",
    "в переменную V3 Numpy вектор с покоординатными суммами V1 и V2\n",
    "в переменную V4 Numpy вектор с покоординатными произведениями каждого второго числа V1 на каждое второе число V2, развёрнутого в обратном порядке\n",
    "Примечание. В этой задаче не нужно ничего выводить на печать. Только создать вектора."
   ]
  },
  {
   "cell_type": "code",
   "execution_count": 25,
   "metadata": {},
   "outputs": [
    {
     "name": "stdin",
     "output_type": "stream",
     "text": [
      " 3 3\n",
      " 4 4\n"
     ]
    }
   ],
   "source": [
    "import numpy as np\n",
    "s1 = input()\n",
    "s2 = input() \n",
    "\n",
    "#считываем, данные указав separator, а также dtype, так как по-умолчанию стоит float\n",
    "V1 = np.fromstring(s1, dtype=np.int, sep=', ')\n",
    "V2 = np.fromstring(s2, dtype=np.int, sep=', ')\n",
    "V3 = V1 + V2\n",
    "V4 = V1[::2] * V2[-1::-2]"
   ]
  },
  {
   "cell_type": "markdown",
   "metadata": {},
   "source": [
    "На вход подаётся 2 набора целых чисел.\n",
    "\n",
    "**Создайте вектор V такой, что он будет содержать числа из 1 набора, делящиеся нацело на предпоследнее число из 2 набора и разделённые на это число.**\n",
    "\n",
    "Если таких чисел не найдётся, то вектор V будет пустым (т.е. не будет содержать элементов).\n",
    "\n",
    " \n",
    "\n",
    "Примечание. В этой задаче не нужно ничего выводить на печать. Только создать вектора."
   ]
  },
  {
   "cell_type": "code",
   "execution_count": 28,
   "metadata": {},
   "outputs": [
    {
     "name": "stdin",
     "output_type": "stream",
     "text": [
      " 1, 2, 3, 4, 5, 6\n",
      " 1, 2, 3, 4\n"
     ]
    },
    {
     "name": "stdout",
     "output_type": "stream",
     "text": [
      "[1. 2.]\n"
     ]
    }
   ],
   "source": [
    "import numpy as np\n",
    "\n",
    "v1 = np.fromstring(input(), sep = ', ')\n",
    "v2 = np.fromstring(input(), sep = ', ')\n",
    "\n",
    "V = v1[v1 % v2[-2] == 0] / v2[-2]\n",
    "print(V)"
   ]
  },
  {
   "cell_type": "markdown",
   "metadata": {},
   "source": [
    "## площадь треугольника\n",
    "\n",
    "В этой задаче нам даны 3 переменные: A1, A2, A3. Каждая содержит вектор с 2 координатами соответствующей вершины треугольника.\n",
    "\n",
    "Найдите площадь треугольника и выведите её на печать.\n",
    "\n",
    " \n",
    "\n",
    "Если все 3 точки лежат на одной прямой, то площадь треугольника равна 0.\n",
    "\n",
    " \n",
    "\n",
    "Ответ проверяется с точностью до 4 знака после запятой."
   ]
  },
  {
   "cell_type": "code",
   "execution_count": 34,
   "metadata": {},
   "outputs": [
    {
     "name": "stdout",
     "output_type": "stream",
     "text": [
      "17.999999999999993\n"
     ]
    }
   ],
   "source": [
    "import numpy as np\n",
    "\n",
    "def len_a(a1, a2):\n",
    "    #длина отрезка по координатам точек a1(x1, y1) и a2(x2, y2)\n",
    "    #((a1[0] - a2[0])**2 + (a1[1] - a2[1])**2) ** 0.5\n",
    "    return sum((a1-a2)**2)**0.5 \n",
    "\n",
    "A1 = np.array((-1, 1))\n",
    "A2 = np.array((2, 5))\n",
    "A3 = np.array((5, -3))\n",
    "\n",
    "# пл. треугольника по формуле герона\n",
    "a = len_a(A1, A2)\n",
    "b = len_a(A2, A3)\n",
    "c = len_a(A1, A3)\n",
    "\n",
    "p = (a + b + c) / 2\n",
    "\n",
    "S = (p * (p - a) * (p - b) * (p - c)) ** 0.5\n",
    "\n",
    "print(S)"
   ]
  },
  {
   "cell_type": "markdown",
   "metadata": {},
   "source": [
    "Переменная M1 содержит Numpy матрицу.\n",
    "\n",
    "Произведите операции последовательно:\n",
    "\n",
    "**1. Замените значения в предпоследней строке на значения по формуле:**\n",
    "\n",
    "sin(x*pi / 6), где x - старое значение\n",
    "\n",
    "**2. Замените значения в предпоследнем столбце на значения по форуме:**\n",
    "\n",
    "e ** x \n",
    "\n",
    "Результат запишите в переменную M2\n",
    "\n",
    "\n",
    "Примечание. В этой задаче не нужно ничего выводить на печать. Только создать матрицу"
   ]
  },
  {
   "cell_type": "code",
   "execution_count": 39,
   "metadata": {},
   "outputs": [
    {
     "name": "stdout",
     "output_type": "stream",
     "text": [
      "[[1.00000000e+00 2.00000000e+00 2.00855369e+01 0.00000000e+00]\n",
      " [4.00000000e+00 5.00000000e+00 4.03428793e+02 0.00000000e+00]\n",
      " [0.00000000e+00 5.00000000e-01 1.64872127e+00 1.22464680e-16]\n",
      " [7.00000000e+00 8.00000000e+00 8.10308393e+03 0.00000000e+00]]\n",
      "[0.00000000e+00 5.00000000e-01 1.64872127e+00 1.22464680e-16]\n"
     ]
    }
   ],
   "source": [
    "M1 = np.array((\n",
    "    (1., 2., 3., 0.),\n",
    "    (4., 5., 6., 0.),\n",
    "    (0., 1., 1., 6.),\n",
    "    (7., 8., 9., 0.)\n",
    "))\n",
    "\n",
    "import numpy as np\n",
    "M1[-2] = np.sin(M1[-2] * np.pi / 6)\n",
    "\n",
    "M1[:, -2] = np.exp(M1[:, -2])\n",
    "\n",
    "M2 = np.copy(M1)"
   ]
  },
  {
   "cell_type": "code",
   "execution_count": null,
   "metadata": {},
   "outputs": [],
   "source": []
  },
  {
   "cell_type": "markdown",
   "metadata": {},
   "source": [
    "# Решение задач NumPy-100"
   ]
  },
  {
   "cell_type": "code",
   "execution_count": 40,
   "metadata": {},
   "outputs": [],
   "source": [
    "import numpy as np"
   ]
  },
  {
   "cell_type": "code",
   "execution_count": 41,
   "metadata": {},
   "outputs": [
    {
     "name": "stdout",
     "output_type": "stream",
     "text": [
      "mkl_info:\n",
      "    libraries = ['mkl_rt', 'pthread']\n",
      "    library_dirs = ['/Users/natasha/anaconda3/lib']\n",
      "    define_macros = [('SCIPY_MKL_H', None), ('HAVE_CBLAS', None)]\n",
      "    include_dirs = ['/Users/natasha/anaconda3/include']\n",
      "blas_mkl_info:\n",
      "    libraries = ['mkl_rt', 'pthread']\n",
      "    library_dirs = ['/Users/natasha/anaconda3/lib']\n",
      "    define_macros = [('SCIPY_MKL_H', None), ('HAVE_CBLAS', None)]\n",
      "    include_dirs = ['/Users/natasha/anaconda3/include']\n",
      "blas_opt_info:\n",
      "    libraries = ['mkl_rt', 'pthread']\n",
      "    library_dirs = ['/Users/natasha/anaconda3/lib']\n",
      "    define_macros = [('SCIPY_MKL_H', None), ('HAVE_CBLAS', None)]\n",
      "    include_dirs = ['/Users/natasha/anaconda3/include']\n",
      "lapack_mkl_info:\n",
      "    libraries = ['mkl_rt', 'pthread']\n",
      "    library_dirs = ['/Users/natasha/anaconda3/lib']\n",
      "    define_macros = [('SCIPY_MKL_H', None), ('HAVE_CBLAS', None)]\n",
      "    include_dirs = ['/Users/natasha/anaconda3/include']\n",
      "lapack_opt_info:\n",
      "    libraries = ['mkl_rt', 'pthread']\n",
      "    library_dirs = ['/Users/natasha/anaconda3/lib']\n",
      "    define_macros = [('SCIPY_MKL_H', None), ('HAVE_CBLAS', None)]\n",
      "    include_dirs = ['/Users/natasha/anaconda3/include']\n"
     ]
    }
   ],
   "source": [
    "np.show_config()"
   ]
  },
  {
   "cell_type": "code",
   "execution_count": 42,
   "metadata": {},
   "outputs": [
    {
     "data": {
      "text/plain": [
       "'1.16.4'"
      ]
     },
     "execution_count": 42,
     "metadata": {},
     "output_type": "execute_result"
    }
   ],
   "source": [
    "np.__version__"
   ]
  },
  {
   "cell_type": "markdown",
   "metadata": {},
   "source": [
    "## 3.1\n",
    "Считайте число n\n",
    "\n",
    "Создайте в переменной Z Numpy вектор из нулей длины n."
   ]
  },
  {
   "cell_type": "code",
   "execution_count": 44,
   "metadata": {},
   "outputs": [
    {
     "name": "stdin",
     "output_type": "stream",
     "text": [
      " 5\n"
     ]
    },
    {
     "name": "stdout",
     "output_type": "stream",
     "text": [
      "[0. 0. 0. 0. 0.]\n"
     ]
    }
   ],
   "source": [
    "import numpy as np\n",
    "\n",
    "n = int(input())\n",
    "Z = np.zeros(n)\n",
    "print(Z)"
   ]
  },
  {
   "cell_type": "markdown",
   "metadata": {},
   "source": [
    "## 3.2\n",
    "\n",
    "Считайте строку, где значения заданы через пробел shape и dtype\n",
    "\n",
    "Последнее значение в строке может быть либо числом (тогда это последнее значение кортежа shape, либо строкой dtype)\n",
    "\n",
    "shape - атрибут, задающий размеры матрицы нолей (позволяет вернуть вектор-строку, вектор-столбец, матрицу, куб и т.д.)\n",
    "dtype - тип данных, использующихся для значений матрицы. По-умолчанию используется numpy.float64.\n",
    "Создайте матрицу Z размера shape, со значениями типа dtype (если dtype не указан, используйте numpy.float64)\n",
    "\n",
    "\n",
    "\n",
    "Примечание. В этой задаче не нужно ничего выводить на печать. Только создать матрицу Z."
   ]
  },
  {
   "cell_type": "code",
   "execution_count": 57,
   "metadata": {},
   "outputs": [
    {
     "name": "stdin",
     "output_type": "stream",
     "text": [
      " 2 4 3 bool\n"
     ]
    },
    {
     "name": "stdout",
     "output_type": "stream",
     "text": [
      "[[[False False False]\n",
      "  [False False False]\n",
      "  [False False False]\n",
      "  [False False False]]\n",
      "\n",
      " [[False False False]\n",
      "  [False False False]\n",
      "  [False False False]\n",
      "  [False False False]]]\n"
     ]
    }
   ],
   "source": [
    "import numpy as np\n",
    "\n",
    "s = [int(i) if i.isdigit() else i for i in input().split()]\n",
    "\n",
    "if not str(s[-1]).isdigit():\n",
    "    s_type = np.dtype(s[-1])\n",
    "    s_shape = tuple(s[:-1:])\n",
    "else:\n",
    "    s_type = np.float64\n",
    "    s_shape = tuple(s)\n",
    "\n",
    "Z = np.zeros(s_shape, dtype=s_type)\n",
    "\n",
    "print(Z)\n",
    "\n"
   ]
  },
  {
   "cell_type": "markdown",
   "metadata": {},
   "source": [
    "## 4. Посчитайте размер матрицы Z в байтах и выведите его на печать.\n",
    "\n",
    "Чтобы узнать размер (в байтах) 1 элемента матрицы используйте атрибут https://docs.scipy.org/doc/numpy-1.15.1/reference/generated/numpy.ndarray.itemsize.html﻿\n",
    "\n",
    "Примечание. В этой задаче не нужно ничего считывать - матрица Z уже заполнена."
   ]
  },
  {
   "cell_type": "code",
   "execution_count": 65,
   "metadata": {},
   "outputs": [
    {
     "name": "stdout",
     "output_type": "stream",
     "text": [
      "24\n"
     ]
    }
   ],
   "source": [
    "\n",
    "#Z = np.zeros((10,10))\n",
    "Z = np.array([1,2,3], dtype=np.float64)\n",
    "#print(Z.data.nbytes)\n",
    "print(Z.nbytes)"
   ]
  },
  {
   "cell_type": "markdown",
   "metadata": {},
   "source": [
    "## 5. Выведите на печать встроенную документацию для функции add numpy, а потом объекта numpy.array."
   ]
  },
  {
   "cell_type": "code",
   "execution_count": null,
   "metadata": {},
   "outputs": [],
   "source": [
    "import numpy as np\n",
    "np.info(np.add)\n",
    "np.info(np.array)"
   ]
  },
  {
   "cell_type": "markdown",
   "metadata": {},
   "source": [
    "## 6 Считайте 2 числа:\n",
    "\n",
    "n - размер Numpy вектора\n",
    "x - координата элемента вектора, который должен быть равен 1. Остальные элементы вектора должны быть равны 0.\n",
    "Сохраните вектор в переменную Z.\n",
    "\n",
    "Примечание. В этой задаче не нужно ничего выводить на печать. Только создать вектор Z."
   ]
  },
  {
   "cell_type": "code",
   "execution_count": 72,
   "metadata": {},
   "outputs": [
    {
     "name": "stdin",
     "output_type": "stream",
     "text": [
      " 5\n",
      " 3\n"
     ]
    },
    {
     "name": "stdout",
     "output_type": "stream",
     "text": [
      "[0. 0. 0. 1. 0.]\n"
     ]
    }
   ],
   "source": [
    "import numpy as np\n",
    "\n",
    "n = int(input())\n",
    "x = int(input())\n",
    "\n",
    "Z = np.zeros(n)\n",
    "Z[x] = 1\n",
    "\n",
    "print(Z)"
   ]
  },
  {
   "cell_type": "code",
   "execution_count": 73,
   "metadata": {},
   "outputs": [
    {
     "name": "stdin",
     "output_type": "stream",
     "text": [
      " 5\n",
      " 3\n"
     ]
    },
    {
     "name": "stdout",
     "output_type": "stream",
     "text": [
      "[0. 0. 0. 1. 0.]\n"
     ]
    }
   ],
   "source": [
    "import numpy as np\n",
    "\n",
    "Z = np.eye(1, int(input()), int(input())).ravel()\n",
    "\n",
    "print(Z)"
   ]
  },
  {
   "cell_type": "code",
   "execution_count": 77,
   "metadata": {},
   "outputs": [
    {
     "data": {
      "text/plain": [
       "array([[0., 1., 0.],\n",
       "       [0., 0., 1.],\n",
       "       [0., 0., 0.],\n",
       "       [0., 0., 0.]])"
      ]
     },
     "execution_count": 77,
     "metadata": {},
     "output_type": "execute_result"
    }
   ],
   "source": [
    "# Функция eye возвращает матрицу с единичками на к-атой диагонали:\n",
    "np.eye(4, 3, k=1, dtype=float)"
   ]
  },
  {
   "cell_type": "markdown",
   "metadata": {},
   "source": [
    "ravel -  возвращает плоский массив"
   ]
  },
  {
   "cell_type": "markdown",
   "metadata": {},
   "source": [
    "## 7 Считайте 2 числа n, m.\n",
    "\n",
    "Создайте вектор Z состоящий из чисел от n до m.\n",
    "\n",
    "Примечание. В этой задаче не нужно ничего выводить на печать. Только создать вектор Z."
   ]
  },
  {
   "cell_type": "code",
   "execution_count": 79,
   "metadata": {},
   "outputs": [
    {
     "name": "stdin",
     "output_type": "stream",
     "text": [
      " 3\n",
      " 9\n"
     ]
    },
    {
     "name": "stdout",
     "output_type": "stream",
     "text": [
      "[3 4 5 6 7 8 9]\n"
     ]
    }
   ],
   "source": [
    "import numpy as np\n",
    "\n",
    "n, m = int(input()), int(input())\n",
    "Z = np.arange(n, m+1)\n",
    "\n",
    "print(Z)"
   ]
  },
  {
   "cell_type": "markdown",
   "metadata": {},
   "source": [
    "## 8. Дан вектор Z. \"Разверните\" его.\n",
    "\n",
    "\n",
    "\n",
    "Примечание. В этой задаче не нужно ничего выводить на печать или считывать. Только развернуть уже созданный вектор Z."
   ]
  },
  {
   "cell_type": "code",
   "execution_count": 80,
   "metadata": {},
   "outputs": [],
   "source": [
    "Z = Z[::-1]"
   ]
  },
  {
   "cell_type": "markdown",
   "metadata": {},
   "source": [
    "## 9. Считайте 3 числа:\n",
    "n - количество элементов матрицы\n",
    "m и l - размеры матрицы (число строк и столбцов соответственно)\n",
    "**Заполните матрицу Z числами от 0 до n-1 по порядку (сперва строки, потом столбцы).**\n",
    "Гарантируется, что m*l = n, т.е. все элементы \"влезут\" в матрицу и не останется пустых мест.\n",
    "\n",
    "Примечание. В этой задаче не нужно ничего выводить на печать. Только создать матрицу Z."
   ]
  },
  {
   "cell_type": "code",
   "execution_count": 89,
   "metadata": {},
   "outputs": [
    {
     "name": "stdin",
     "output_type": "stream",
     "text": [
      " 12\n",
      " 3 4\n"
     ]
    },
    {
     "name": "stdout",
     "output_type": "stream",
     "text": [
      "[[ 0  1  2  3]\n",
      " [ 4  5  6  7]\n",
      " [ 8  9 10 11]]\n"
     ]
    }
   ],
   "source": [
    "import numpy as np\n",
    "\n",
    "n = int(input())\n",
    "size = np.fromstring(input(), dtype=np.int, sep=' ')\n",
    "Z = np.arange(n).reshape(size)\n",
    "print(Z)"
   ]
  },
  {
   "cell_type": "markdown",
   "metadata": {},
   "source": [
    "## 10.1\n",
    "Дан вектор Z\n",
    "\n",
    "**Запишите в переменную NonZerros индексы ненулевых элементов.**\n",
    "\n",
    "Используйте функцию https://docs.scipy.org/doc/numpy-1.15.0/reference/generated/numpy.nonzero.html\n",
    "\n",
    "\n",
    "\n",
    "Примечание. В этой задаче не нужно ничего считывать или выводить на печать. Матрица ﻿Z уже готова, просто создайте ﻿NonZerros﻿. "
   ]
  },
  {
   "cell_type": "code",
   "execution_count": 91,
   "metadata": {},
   "outputs": [
    {
     "name": "stdout",
     "output_type": "stream",
     "text": [
      "(array([0, 2, 4, 6]),)\n"
     ]
    }
   ],
   "source": [
    "import numpy as np\n",
    "\n",
    "Z = [1, 0, 2, 0, 3, 0, 4]\n",
    "NonZerros = np.nonzero(Z)\n",
    "\n",
    "print(NonZerros)"
   ]
  },
  {
   "cell_type": "markdown",
   "metadata": {},
   "source": [
    "## 10.2\n",
    "Дана матрица чисел Z (Z может быть 1, 2 или даже 3 мерной).\n",
    "\n",
    "**Выведите на печать список чисел из этой матрицы, которые больше 3.**"
   ]
  },
  {
   "cell_type": "code",
   "execution_count": 101,
   "metadata": {},
   "outputs": [
    {
     "name": "stdout",
     "output_type": "stream",
     "text": [
      "[False False False  True]\n",
      "[4]\n"
     ]
    }
   ],
   "source": [
    "import numpy as np\n",
    "\n",
    "Z = np.array([1, 2, 3, 4])\n",
    "print(Z > 3)\n",
    "\n",
    "print(Z[Z > 3])"
   ]
  },
  {
   "cell_type": "markdown",
   "metadata": {},
   "source": [
    "## 11. Считайте число n\n",
    "\n",
    "**Создайте единичную матрицу размера n, сохраните результат в переменную Z.**\n",
    "\n",
    "\n",
    "\n",
    "Примечание. В этой задаче не нужно ничего выводить на печать. Только создать матрицу Z."
   ]
  },
  {
   "cell_type": "code",
   "execution_count": 103,
   "metadata": {},
   "outputs": [
    {
     "name": "stdin",
     "output_type": "stream",
     "text": [
      " 4\n"
     ]
    },
    {
     "name": "stdout",
     "output_type": "stream",
     "text": [
      "[[1. 0. 0. 0.]\n",
      " [0. 1. 0. 0.]\n",
      " [0. 0. 1. 0.]\n",
      " [0. 0. 0. 1.]]\n"
     ]
    }
   ],
   "source": [
    "import numpy as np\n",
    "\n",
    "n = int(input())\n",
    "Z = np.eye(n)\n",
    "\n",
    "print(Z)"
   ]
  },
  {
   "cell_type": "markdown",
   "metadata": {},
   "source": [
    "## 12. Считайте 3 числа: n, m, l.\n",
    "\n",
    "Зафиксируйте значение генератора случайных чисел Numpy с помощью\n",
    "\n",
    "numpy.random.seed(42)\n",
    "**Создайте матрицу n*m*l из случайных чисел (от 0 до 1) и сохраните результат в переменную Z.**\n",
    "\n",
    "\n",
    "Примечание. В этой задаче не нужно ничего выводить на печать. Только создать матрицу Z."
   ]
  },
  {
   "cell_type": "code",
   "execution_count": 109,
   "metadata": {},
   "outputs": [
    {
     "name": "stdin",
     "output_type": "stream",
     "text": [
      " 2 2 2\n"
     ]
    },
    {
     "name": "stdout",
     "output_type": "stream",
     "text": [
      "[[[0.37454012 0.95071431]\n",
      "  [0.73199394 0.59865848]]\n",
      "\n",
      " [[0.15601864 0.15599452]\n",
      "  [0.05808361 0.86617615]]]\n"
     ]
    }
   ],
   "source": [
    "import numpy as np\n",
    "\n",
    "np.random.seed(42)\n",
    "n, m, l = map(int, input().split())\n",
    "Z = np.random.random((n, m, l))\n",
    "\n",
    "print(Z)"
   ]
  },
  {
   "cell_type": "markdown",
   "metadata": {},
   "source": [
    "## 13. Создайте матрицу n*m из случайных чисел (от 0 до 1).\n",
    "Считайте 2 числа: n, m.\n",
    "\n",
    "Зафиксируйте значение генератора случайных чисел Numpy с помощью\n",
    "\n",
    "numpy.random.seed(42)\n",
    "Создайте матрицу n*m из случайных чисел (от 0 до 1).\n",
    "Выведите на печать значение минимального и максимального чисел в получившейся матрице (каждое с новой строки)."
   ]
  },
  {
   "cell_type": "code",
   "execution_count": 112,
   "metadata": {},
   "outputs": [
    {
     "name": "stdin",
     "output_type": "stream",
     "text": [
      " 2 3\n"
     ]
    },
    {
     "name": "stdout",
     "output_type": "stream",
     "text": [
      "0.15599452033620265\n",
      "0.9507143064099162\n"
     ]
    }
   ],
   "source": [
    "import numpy as np\n",
    "\n",
    "np.random.seed(42)\n",
    "n, m = map(int, input().split())\n",
    "Z = np.random.random((n, m))\n",
    "\n",
    "print(np.min(Z))\n",
    "print(np.max(Z))"
   ]
  },
  {
   "cell_type": "markdown",
   "metadata": {},
   "source": [
    "## 14. Среднее значение для всей матрицы\n",
    "Считайте 2 числа: n, m.\n",
    "\n",
    "Зафиксируйте значение генератора случайных чисел Numpy с помощью\n",
    "\n",
    "numpy.random.seed(42)\n",
    "Создайте матрицу n*m из случайных чисел (от 0 до 1).\n",
    "\n",
    "**Выведите на печать значение среднего для всей матрицы.**"
   ]
  },
  {
   "cell_type": "code",
   "execution_count": 113,
   "metadata": {},
   "outputs": [
    {
     "name": "stdin",
     "output_type": "stream",
     "text": [
      " 2 3\n"
     ]
    },
    {
     "name": "stdout",
     "output_type": "stream",
     "text": [
      "0.4946533353407266\n"
     ]
    }
   ],
   "source": [
    "import numpy as np\n",
    "\n",
    "np.random.seed(42)\n",
    "n, m = map(int, input().split())\n",
    "Z = np.random.random((n, m))\n",
    "\n",
    "print(np.mean(Z))"
   ]
  },
  {
   "cell_type": "markdown",
   "metadata": {},
   "source": [
    "## 14.1 Найдите среднее значение для каждого из столбцов.\n",
    "Считайте 2 числа: n, m.\n",
    "\n",
    "Зафиксируйте значение генератора случайных чисел Numpy с помощью\n",
    "\n",
    "numpy.random.seed(42)\n",
    "Создайте матрицу n*m из случайных чисел (от 0 до 1).\n",
    "\n",
    "**Найдите среднее значение для каждого из столбцов.**\n",
    "\n",
    "Выведите на печать значение минимального и максимального среднего по столбцам (каждое с новой строки)."
   ]
  },
  {
   "cell_type": "code",
   "execution_count": 116,
   "metadata": {},
   "outputs": [
    {
     "name": "stdin",
     "output_type": "stream",
     "text": [
      " 3 4\n"
     ]
    },
    {
     "name": "stdout",
     "output_type": "stream",
     "text": [
      "[0.37722459 0.60492713 0.27022068 0.81158149]\n",
      "0.270220682758469\n",
      "0.8115814940446553\n"
     ]
    }
   ],
   "source": [
    "import numpy as np\n",
    "\n",
    "np.random.seed(42)\n",
    "n, m = map(int, input().split())\n",
    "Z = np.random.random((n, m))\n",
    "\n",
    "mean_Z = np.mean(Z, axis=0)\n",
    "\n",
    "print(np.min(mean_Z))\n",
    "print(np.max(mean_Z))"
   ]
  },
  {
   "cell_type": "markdown",
   "metadata": {},
   "source": [
    "## 15\n",
    "Считайте 2 числа: n, m.\n",
    "\n",
    "**Создайте матрицу размера n*m такую что:**\n",
    "\n",
    "    На границе матрицы будут стоять 1\n",
    "    \n",
    "    Внутри матрицы будут стоять 0\n",
    "\n",
    "Сохраните матрицу в переменную Z."
   ]
  },
  {
   "cell_type": "code",
   "execution_count": 121,
   "metadata": {},
   "outputs": [
    {
     "name": "stdin",
     "output_type": "stream",
     "text": [
      " 10 10\n"
     ]
    },
    {
     "name": "stdout",
     "output_type": "stream",
     "text": [
      "[[1. 1. 1. 1. 1. 1. 1. 1. 1. 1.]\n",
      " [1. 0. 0. 0. 0. 0. 0. 0. 0. 1.]\n",
      " [1. 0. 0. 0. 0. 0. 0. 0. 0. 1.]\n",
      " [1. 0. 0. 0. 0. 0. 0. 0. 0. 1.]\n",
      " [1. 0. 0. 0. 0. 0. 0. 0. 0. 1.]\n",
      " [1. 0. 0. 0. 0. 0. 0. 0. 0. 1.]\n",
      " [1. 0. 0. 0. 0. 0. 0. 0. 0. 1.]\n",
      " [1. 0. 0. 0. 0. 0. 0. 0. 0. 1.]\n",
      " [1. 0. 0. 0. 0. 0. 0. 0. 0. 1.]\n",
      " [1. 1. 1. 1. 1. 1. 1. 1. 1. 1.]]\n"
     ]
    }
   ],
   "source": [
    "import numpy as np\n",
    "\n",
    "n, m = map(int, input().split())\n",
    "Z = np.zeros((n,m))\n",
    "Z[0] = np.ones(m)\n",
    "Z[n-1] = np.ones(m)\n",
    "Z[:, 0] = np.ones(n)\n",
    "Z[:, m-1] = np.ones(n)\n",
    "\n",
    "print(Z)"
   ]
  },
  {
   "cell_type": "code",
   "execution_count": 124,
   "metadata": {},
   "outputs": [
    {
     "name": "stdin",
     "output_type": "stream",
     "text": [
      " 10 10\n"
     ]
    },
    {
     "name": "stdout",
     "output_type": "stream",
     "text": [
      "[[1. 1. 1. 1. 1. 1. 1. 1. 1. 1.]\n",
      " [1. 0. 0. 0. 0. 0. 0. 0. 0. 1.]\n",
      " [1. 0. 0. 0. 0. 0. 0. 0. 0. 1.]\n",
      " [1. 0. 0. 0. 0. 0. 0. 0. 0. 1.]\n",
      " [1. 0. 0. 0. 0. 0. 0. 0. 0. 1.]\n",
      " [1. 0. 0. 0. 0. 0. 0. 0. 0. 1.]\n",
      " [1. 0. 0. 0. 0. 0. 0. 0. 0. 1.]\n",
      " [1. 0. 0. 0. 0. 0. 0. 0. 0. 1.]\n",
      " [1. 0. 0. 0. 0. 0. 0. 0. 0. 1.]\n",
      " [1. 1. 1. 1. 1. 1. 1. 1. 1. 1.]]\n"
     ]
    }
   ],
   "source": [
    "import numpy as np\n",
    "\n",
    "#Z = np.ones(tuple(map(int, input().split())))\n",
    "n, m = map(int, input().split())\n",
    "Z = np.ones((n,m))\n",
    "\n",
    "Z[1:-1, 1:-1] = 0\n",
    "\n",
    "print(Z)"
   ]
  },
  {
   "cell_type": "markdown",
   "metadata": {},
   "source": [
    "## 16. Имеется матрица Z. Добавьте вокруг имеющихся значений матрицы \"забор\" из 0."
   ]
  },
  {
   "cell_type": "code",
   "execution_count": 140,
   "metadata": {},
   "outputs": [
    {
     "name": "stdout",
     "output_type": "stream",
     "text": [
      "[[0 0 0 0 0]\n",
      " [0 1 2 3 0]\n",
      " [0 4 5 6 0]\n",
      " [0 7 8 9 0]\n",
      " [0 0 0 0 0]]\n"
     ]
    }
   ],
   "source": [
    "import numpy as np\n",
    "\n",
    "Z = np.array([[1, 2, 3],\n",
    "       [4, 5, 6],\n",
    "       [7, 8, 9]])\n",
    "\n",
    "\n",
    "Z = np.pad(Z, ((1, 1), (1, 1)), mode='constant', constant_values=0)\n",
    "\n",
    "print(Z)"
   ]
  },
  {
   "cell_type": "markdown",
   "metadata": {},
   "source": [
    "## 17. numpy.nan"
   ]
  },
  {
   "cell_type": "code",
   "execution_count": 130,
   "metadata": {},
   "outputs": [
    {
     "data": {
      "text/plain": [
       "True"
      ]
     },
     "execution_count": 130,
     "metadata": {},
     "output_type": "execute_result"
    }
   ],
   "source": [
    "import numpy\n",
    "numpy.isnan(numpy.nan)"
   ]
  },
  {
   "cell_type": "code",
   "execution_count": 131,
   "metadata": {},
   "outputs": [
    {
     "data": {
      "text/plain": [
       "True"
      ]
     },
     "execution_count": 131,
     "metadata": {},
     "output_type": "execute_result"
    }
   ],
   "source": [
    "import numpy\n",
    "numpy.nan in set([numpy.nan])"
   ]
  },
  {
   "cell_type": "code",
   "execution_count": 132,
   "metadata": {},
   "outputs": [
    {
     "data": {
      "text/plain": [
       "nan"
      ]
     },
     "execution_count": 132,
     "metadata": {},
     "output_type": "execute_result"
    }
   ],
   "source": [
    "\n",
    "numpy.nan - numpy.nan"
   ]
  },
  {
   "cell_type": "code",
   "execution_count": 133,
   "metadata": {},
   "outputs": [
    {
     "data": {
      "text/plain": [
       "False"
      ]
     },
     "execution_count": 133,
     "metadata": {},
     "output_type": "execute_result"
    }
   ],
   "source": [
    "\n",
    "\n",
    "numpy.nan == numpy.nan"
   ]
  },
  {
   "cell_type": "code",
   "execution_count": 134,
   "metadata": {},
   "outputs": [
    {
     "data": {
      "text/plain": [
       "nan"
      ]
     },
     "execution_count": 134,
     "metadata": {},
     "output_type": "execute_result"
    }
   ],
   "source": [
    "0 * numpy.nan"
   ]
  },
  {
   "cell_type": "code",
   "execution_count": 135,
   "metadata": {},
   "outputs": [
    {
     "data": {
      "text/plain": [
       "False"
      ]
     },
     "execution_count": 135,
     "metadata": {},
     "output_type": "execute_result"
    }
   ],
   "source": [
    "numpy.inf > numpy.nan"
   ]
  },
  {
   "cell_type": "code",
   "execution_count": 136,
   "metadata": {},
   "outputs": [
    {
     "data": {
      "text/plain": [
       "False"
      ]
     },
     "execution_count": 136,
     "metadata": {},
     "output_type": "execute_result"
    }
   ],
   "source": [
    "\n",
    "0.3 == 3 * 0.1"
   ]
  },
  {
   "cell_type": "markdown",
   "metadata": {},
   "source": [
    "## 18.1 Создайте диагональную матрицу размера n*n. На главной диагонали должны быть числа от 1 до n.\n",
    "\n",
    "Считайте число n.\n",
    "\n",
    "**Создайте диагональную матрицу размера n*n. На главной диагонали должны быть числа от 1 до n.**\n",
    "Сохраните матрицу в переменную Z.\n",
    "\n",
    "Примечание. В этой задаче не нужно ничего выводить на печать. Только создать матрицу Z."
   ]
  },
  {
   "cell_type": "code",
   "execution_count": 144,
   "metadata": {},
   "outputs": [
    {
     "name": "stdin",
     "output_type": "stream",
     "text": [
      " 4\n"
     ]
    },
    {
     "name": "stdout",
     "output_type": "stream",
     "text": [
      "[[1 0 0 0]\n",
      " [0 2 0 0]\n",
      " [0 0 3 0]\n",
      " [0 0 0 4]]\n"
     ]
    }
   ],
   "source": [
    "import numpy as np\n",
    "\n",
    "n = int(input())\n",
    "\n",
    "diag = np.arange(1, n+1)\n",
    "Z = np.diag(diag)\n",
    "\n",
    "print(Z)"
   ]
  },
  {
   "cell_type": "markdown",
   "metadata": {},
   "source": [
    "## 18.2 Диагональная матрица со сдвигом диагонали\n",
    "\n",
    "Считайте 2 числа:\n",
    "\n",
    "x - сдвиг для единственной ненулевой диагонали в матрице.\n",
    "k - верхняя граница для интервала чисел на диагонали (т.е. если k = 5, то на диагонали будут стоять числа 1, 2, 3, 4 и 5)\n",
    "Договоримся о значениях x:\n",
    "\n",
    "x = 0 - это главная диагональ матрицы\n",
    "x<0 - диагональ сдвигается вниз на |x| ячеек (если x = -1, то первая не нулевая ячейка будет с координатами (1,0))\n",
    "x>0 - диагональ сдвигается вправо на |x| ячеек (если x = 1, то первая ненулевая ячейка будет с координатами (0,1))\n",
    "\n",
    "\n",
    "Обратите внимание, что размер матрицы изменяется в зависимости от сдвига, т.к. вам надо уместить все числа от 1 до k!\n",
    "Сохраните такую матрицу в переменную Z.\n",
    "\n",
    "\n",
    "\n",
    "Примечание. В этой задаче не нужно ничего выводить на печать. Только создать матрицу Z."
   ]
  },
  {
   "cell_type": "code",
   "execution_count": 150,
   "metadata": {},
   "outputs": [
    {
     "name": "stdin",
     "output_type": "stream",
     "text": [
      " 1 5\n"
     ]
    },
    {
     "name": "stdout",
     "output_type": "stream",
     "text": [
      "[[0 1 0 0 0 0]\n",
      " [0 0 2 0 0 0]\n",
      " [0 0 0 3 0 0]\n",
      " [0 0 0 0 4 0]\n",
      " [0 0 0 0 0 5]\n",
      " [0 0 0 0 0 0]]\n"
     ]
    }
   ],
   "source": [
    "import numpy as np\n",
    "\n",
    "x, k = map(int, input().split())\n",
    "\n",
    "d = np.arange(1, k+1)\n",
    "\n",
    "Z = np.diag(d, x)\n",
    "\n",
    "print(Z)"
   ]
  },
  {
   "cell_type": "markdown",
   "metadata": {},
   "source": [
    "## 19 (21) Матрица в шахматном порядке\n",
    "\n",
    "\n",
    "Считайте 2 числа: n, m.\n",
    "Создайте матрицу размера n*m и \"раскрасьте\" её в шахматную раскраску.\n",
    "0 - \"чёрное\"\n",
    "1 - \"белое\"\n",
    "Ячейка с координатами (0, 0) всегда \"чёрная\" (т.е. элемент (0, 0) равен 0).\n",
    "Матрицу сохраните в переменную Z."
   ]
  },
  {
   "cell_type": "code",
   "execution_count": 156,
   "metadata": {},
   "outputs": [
    {
     "name": "stdin",
     "output_type": "stream",
     "text": [
      " 3 3\n"
     ]
    },
    {
     "name": "stdout",
     "output_type": "stream",
     "text": [
      "[[0. 1. 0. 1. 0. 1. 0. 1. 0. 1.]\n",
      " [1. 0. 1. 0. 1. 0. 1. 0. 1. 0.]\n",
      " [0. 1. 0. 1. 0. 1. 0. 1. 0. 1.]\n",
      " [1. 0. 1. 0. 1. 0. 1. 0. 1. 0.]]\n"
     ]
    }
   ],
   "source": [
    "import numpy as np\n",
    "\n",
    "x, k = map(int, input().split())\n",
    "\n",
    "Z = np.ones((n, m))\n",
    "Z[::2,::2] = 0\n",
    "Z[1::2,1::2] = 0\n",
    "\n",
    "print(Z)"
   ]
  },
  {
   "cell_type": "markdown",
   "metadata": {},
   "source": [
    "## 20. Функция numpy.unravel_index\n",
    "\n",
    "Если у нас есть матрица (или numpy массив большей размерности), то её можно представить в линейном виде:\n",
    "\n",
    "\n",
    "\n",
    "Идея в том, что можно каждому элементу матрицы можно поставить в соответствие индекс.\n",
    "Функция numpy.unravel_index проводит обратную операцию - по индексу элемента определяет его \"координаты\" в матрице.\n",
    "\n",
    "\n",
    "\n",
    "Даны:\n",
    "\n",
    "индекс i\n",
    "numpy массив Z\n",
    "Определите \"координаты\" элемента с индексом i в Z и выведите кортеж с координатами на печать.\n",
    "\n",
    "\n",
    "\n",
    "Примечание. В этой задаче не нужно ничего считывать. i и Z уже заполнены."
   ]
  },
  {
   "cell_type": "code",
   "execution_count": 166,
   "metadata": {},
   "outputs": [
    {
     "name": "stdout",
     "output_type": "stream",
     "text": [
      "(1, 1)\n"
     ]
    }
   ],
   "source": [
    "import numpy as np\n",
    "\n",
    "i = 5\n",
    "Z = np.array([[ 0,  1,  2,  3],\n",
    "       [ 4,  5,  6,  7],\n",
    "       [ 8,  9, 10, 11]])\n",
    "\n",
    "print(np.unravel_index(i, Z.shape))"
   ]
  },
  {
   "cell_type": "code",
   "execution_count": 177,
   "metadata": {},
   "outputs": [
    {
     "name": "stdout",
     "output_type": "stream",
     "text": [
      "[20 13 24 31 34 15 60 27 84 29 10 21]\n",
      "15\n",
      "[[20 13 24 31]\n",
      " [34 15 60 27]\n",
      " [84 29 10 21]]\n",
      "(1, 1)\n",
      "[[20 13 24]\n",
      " [31 34 15]\n",
      " [60 27 84]\n",
      " [29 10 21]]\n",
      "(1, 2)\n"
     ]
    }
   ],
   "source": [
    "# принцип работы\n",
    "# сначала массив как бы разворачивается в линию - в плоский, фенкция ravel\n",
    "# затем белем индекс i из линейного массива\n",
    "# сворачиваем линейный массив в другой с размерностью shape\n",
    "# выводим новые координаты элемента с индексом i из линейного массива в новом массиве\n",
    "\n",
    "import numpy as np\n",
    "\n",
    "i = 5\n",
    "Z = np.array([[ 20,  13,  24,  31],\n",
    "       [ 34,  15,  60,  27],\n",
    "       [ 84,  29, 10, 21]])\n",
    "\n",
    "Z_lin = np.ravel(Z)\n",
    "print(Z_lin)\n",
    "print(Z_lin[i])\n",
    "\n",
    "Z = np.reshape(Z, (3,4))\n",
    "print(Z)\n",
    "print(np.unravel_index(i, Z.shape))\n",
    "\n",
    "Z = np.reshape(Z, (4,3))\n",
    "print(Z)\n",
    "print(np.unravel_index(i, Z.shape))\n",
    "\n"
   ]
  },
  {
   "cell_type": "markdown",
   "metadata": {},
   "source": [
    "## 22 Нормализация\n",
    "Используйте формулу $x_{new} = \\frac {x - \\mu}{\\sigma}$\n",
    "\n",
    "\n",
    "где\n",
    "\n",
    "$x$ - старое значение\n",
    "\n",
    "$x_{new}$  - новое значение\n",
    "\n",
    "$μ$ - среднее значение (по всей матрице)\n",
    "\n",
    "$σ$ - стандартное отклонение (по всей матрице)\n",
    "\n",
    "для того чтобы \"нормализовать\" матрицу.\n",
    "\n",
    "Мы пока не будем углубляться в математическую суть этой операции, важно лишь, что оба значения для матрицы могут быть вычислены стандартными функциями numpy и вам не нужно звать на помощь статистику)\n",
    "\n",
    "Переменная Y содержит исходную матрицу\n",
    "\n",
    "В переменную Z сохраните её \"нормализованный\" вид, округлив каждое значение в матрице до 2 знака после запятой с помощью numpy.around.\n",
    "\n",
    "Примечание. В этой задаче не нужно ничего выводить на печать. Только создать матрицу Z."
   ]
  },
  {
   "cell_type": "code",
   "execution_count": 182,
   "metadata": {},
   "outputs": [
    {
     "name": "stdout",
     "output_type": "stream",
     "text": [
      "[[-1.  1.]\n",
      " [ 1. -1.]]\n"
     ]
    }
   ],
   "source": [
    "import numpy as np\n",
    "\n",
    "Y = [[1, 2], [2, 1]]\n",
    "\n",
    "Z = (Y - np.mean(Y))/np.std(Y)\n",
    "Z = np.around(Z, decimals=1)\n",
    "\n",
    "print(Z)"
   ]
  },
  {
   "cell_type": "markdown",
   "metadata": {},
   "source": [
    "## 24.1 Скалярное произведение векторов\n",
    "Переменные A и B содержат по numpy вектору. Найдите их скалярное произведение и сохраните в переменную Z.\n",
    "\n",
    "A и B могут содержать как int, так и float.\n",
    "\n",
    "Примечание. В этой задаче не нужно ничего выводить на печать. Только создать Z."
   ]
  },
  {
   "cell_type": "code",
   "execution_count": 184,
   "metadata": {},
   "outputs": [
    {
     "name": "stdout",
     "output_type": "stream",
     "text": [
      "-54\n"
     ]
    }
   ],
   "source": [
    "import numpy as np\n",
    "\n",
    "#A = np.array([1.5, 2.5, 3.5])\n",
    "#B = np.array([4, 5, 6])\n",
    "\n",
    "A = np.array([1, 3, 5, 7, 9])\n",
    "B = np.array([-2, 4, -6, 8, -10])\n",
    "\n",
    "Z = np.dot(A, B)\n",
    "\n",
    "print(Z)"
   ]
  },
  {
   "cell_type": "markdown",
   "metadata": {},
   "source": [
    "## 24.2 Умножение матриц\n",
    "Даны 2 матрицы: A и B.\n",
    "\n",
    "Найдите произведение матриц и сохраните его в переменную Z.\n",
    "\n",
    "Если найти произведение матриц невозможно, то запишите в Z строку:\n",
    "\n",
    "Упс! Что-то пошло не так...\n",
    "\n",
    "Примечание. В этой задаче не нужно ничего выводить на печать. Только создать Z."
   ]
  },
  {
   "cell_type": "code",
   "execution_count": 188,
   "metadata": {},
   "outputs": [
    {
     "name": "stdout",
     "output_type": "stream",
     "text": [
      "Упс! Что-то пошло не так...\n"
     ]
    }
   ],
   "source": [
    "import numpy as np\n",
    "\n",
    "A = np.array([\n",
    "    [1, 2, 3],\n",
    "    [4, 5, 6]\n",
    "])\n",
    "B = np.array([\n",
    "    [11.5],\n",
    "    [12.5],\n",
    "    [13.5]\n",
    "])\n",
    "\n",
    "A = np.array([\n",
    "    [1, 2, 3],\n",
    "    [4, 5, 6]\n",
    "])\n",
    "B = np.array([\n",
    "    [11.5, 12.5, 13.5]\n",
    "])\n",
    "\n",
    "if A.shape[1] == B.shape[0]:\n",
    "    Z = np.dot(A, B)\n",
    "else:\n",
    "    Z = 'Упс! Что-то пошло не так...'\n",
    "\n",
    "print(Z)"
   ]
  },
  {
   "cell_type": "markdown",
   "metadata": {},
   "source": [
    "## 25. Поменяйте знак всех чисел из интервала (3; 9), хранящихся в векторе Z.\n",
    "\n",
    "Примечание. В этой задаче не нужно ничего выводить на печать. Только заменить некоторые элементы Z."
   ]
  },
  {
   "cell_type": "code",
   "execution_count": 203,
   "metadata": {},
   "outputs": [
    {
     "name": "stdout",
     "output_type": "stream",
     "text": [
      "[ 0  1  2  3 -4 -5 -6 -7 -8  9 10]\n"
     ]
    }
   ],
   "source": [
    "Z = np.arange(11)\n",
    "\n",
    "Z[(3<Z) & (Z<9)] *= -1\n",
    "\n",
    "print(Z)"
   ]
  },
  {
   "cell_type": "markdown",
   "metadata": {},
   "source": [
    "## 26. Что выведет на печать код:\n"
   ]
  },
  {
   "cell_type": "code",
   "execution_count": 204,
   "metadata": {},
   "outputs": [
    {
     "name": "stdout",
     "output_type": "stream",
     "text": [
      "9\n",
      "10\n"
     ]
    }
   ],
   "source": [
    "print(sum(range(5),-1))\n",
    "from numpy import *\n",
    "print(sum(range(5),-1))"
   ]
  },
  {
   "cell_type": "markdown",
   "metadata": {},
   "source": [
    "Получается по доке, что в случае numpy.sum второй параметр(-1) это ось (axis) и она не складывается никак с первым параметром, а лишь указывает направление как считать. При  axis = -1 считает по осям в обратном порядке, начиная с последней до первой. Здесь массив линейный, ось одна, и этот параметр ни на что не влияет."
   ]
  },
  {
   "cell_type": "markdown",
   "metadata": {},
   "source": [
    "## 27. Какие из операций возможны (не приведут к ошибке)?\n",
    "\n",
    "Предположим, Z - целочисленный вектор, например:\n",
    "\n",
    "Z = np.array([1, 2, 3, 4, 5, 6, 7])\n"
   ]
  },
  {
   "cell_type": "code",
   "execution_count": 205,
   "metadata": {},
   "outputs": [],
   "source": [
    "Z = np.array([1, 2, 3, 4, 5, 6, 7])"
   ]
  },
  {
   "cell_type": "code",
   "execution_count": 206,
   "metadata": {},
   "outputs": [
    {
     "data": {
      "text/plain": [
       "array([ 1,  2,  4,  8, 16, 32, 64])"
      ]
     },
     "execution_count": 206,
     "metadata": {},
     "output_type": "execute_result"
    }
   ],
   "source": [
    "2 << Z >> 2"
   ]
  },
  {
   "cell_type": "code",
   "execution_count": 207,
   "metadata": {},
   "outputs": [
    {
     "data": {
      "text/plain": [
       "array([False, False, False, False, False, False, False])"
      ]
     },
     "execution_count": 207,
     "metadata": {},
     "output_type": "execute_result"
    }
   ],
   "source": [
    "Z <- Z"
   ]
  },
  {
   "cell_type": "code",
   "execution_count": 208,
   "metadata": {},
   "outputs": [
    {
     "data": {
      "text/plain": [
       "array([     1,      4,     27,    256,   3125,  46656, 823543])"
      ]
     },
     "execution_count": 208,
     "metadata": {},
     "output_type": "execute_result"
    }
   ],
   "source": [
    "Z**Z"
   ]
  },
  {
   "cell_type": "code",
   "execution_count": 210,
   "metadata": {},
   "outputs": [
    {
     "data": {
      "text/plain": [
       "array([1., 2., 3., 4., 5., 6., 7.])"
      ]
     },
     "execution_count": 210,
     "metadata": {},
     "output_type": "execute_result"
    }
   ],
   "source": [
    "Z/1/1"
   ]
  },
  {
   "cell_type": "code",
   "execution_count": 211,
   "metadata": {},
   "outputs": [
    {
     "data": {
      "text/plain": [
       "array([0.+1.j, 0.+2.j, 0.+3.j, 0.+4.j, 0.+5.j, 0.+6.j, 0.+7.j])"
      ]
     },
     "execution_count": 211,
     "metadata": {},
     "output_type": "execute_result"
    }
   ],
   "source": [
    "1j*Z"
   ]
  },
  {
   "cell_type": "code",
   "execution_count": null,
   "metadata": {},
   "outputs": [],
   "source": []
  },
  {
   "cell_type": "code",
   "execution_count": null,
   "metadata": {},
   "outputs": [],
   "source": []
  },
  {
   "cell_type": "code",
   "execution_count": 212,
   "metadata": {},
   "outputs": [
    {
     "name": "stderr",
     "output_type": "stream",
     "text": [
      "/Users/natasha/anaconda3/lib/python3.7/site-packages/ipykernel_launcher.py:1: RuntimeWarning: invalid value encountered in true_divide\n",
      "  \"\"\"Entry point for launching an IPython kernel.\n"
     ]
    },
    {
     "data": {
      "text/plain": [
       "nan"
      ]
     },
     "execution_count": 212,
     "metadata": {},
     "output_type": "execute_result"
    }
   ],
   "source": [
    "np.array(0) / np.array(0)"
   ]
  },
  {
   "cell_type": "code",
   "execution_count": 213,
   "metadata": {},
   "outputs": [
    {
     "name": "stderr",
     "output_type": "stream",
     "text": [
      "/Users/natasha/anaconda3/lib/python3.7/site-packages/ipykernel_launcher.py:1: RuntimeWarning: divide by zero encountered in floor_divide\n",
      "  \"\"\"Entry point for launching an IPython kernel.\n"
     ]
    },
    {
     "data": {
      "text/plain": [
       "0"
      ]
     },
     "execution_count": 213,
     "metadata": {},
     "output_type": "execute_result"
    }
   ],
   "source": [
    "np.array(0) // np.array(0)"
   ]
  },
  {
   "cell_type": "code",
   "execution_count": 216,
   "metadata": {},
   "outputs": [
    {
     "data": {
      "text/plain": [
       "array([-9.22337204e+18])"
      ]
     },
     "execution_count": 216,
     "metadata": {},
     "output_type": "execute_result"
    }
   ],
   "source": [
    "np.array([np.nan]).astype(int).astype(float)"
   ]
  },
  {
   "cell_type": "code",
   "execution_count": 217,
   "metadata": {},
   "outputs": [
    {
     "data": {
      "text/plain": [
       "array([inf])"
      ]
     },
     "execution_count": 217,
     "metadata": {},
     "output_type": "execute_result"
    }
   ],
   "source": [
    "array([inf])"
   ]
  },
  {
   "cell_type": "code",
   "execution_count": 219,
   "metadata": {},
   "outputs": [
    {
     "data": {
      "text/plain": [
       "array([-2.14748365e+09])"
      ]
     },
     "execution_count": 219,
     "metadata": {},
     "output_type": "execute_result"
    }
   ],
   "source": [
    "array([-2.14748365e+09])"
   ]
  },
  {
   "cell_type": "code",
   "execution_count": 218,
   "metadata": {},
   "outputs": [
    {
     "data": {
      "text/plain": [
       "inf"
      ]
     },
     "execution_count": 218,
     "metadata": {},
     "output_type": "execute_result"
    }
   ],
   "source": [
    "inf"
   ]
  },
  {
   "cell_type": "code",
   "execution_count": null,
   "metadata": {},
   "outputs": [],
   "source": []
  },
  {
   "cell_type": "markdown",
   "metadata": {},
   "source": [
    "## 29. Округлите их до целых и результат запишите в переменную Z.\n",
    "\n",
    "Вектор A содержит float числа как больше, так и меньше нуля.\n",
    "\n",
    "Округлите их до целых и результат запишите в переменную Z. Округление должно быть \"от нуля\", т.е.:\n",
    "\n",
    "положительные числа округляем всегда вверх до целого\n",
    "отрицательные числа округляем всегда вниз до целого\n",
    "0 остаётся 0\n",
    "\n",
    "\n",
    "Примечание. В этой задаче не нужно ничего выводить на печать. Только создать вектор Z."
   ]
  },
  {
   "cell_type": "code",
   "execution_count": 225,
   "metadata": {},
   "outputs": [
    {
     "name": "stdout",
     "output_type": "stream",
     "text": [
      "[-4. -6.  0.  3. 10.]\n"
     ]
    }
   ],
   "source": [
    "A = np.array([-3.1, -5.9, 0, 2.2, 9.8])\n",
    "\n",
    "Z = np.copy(A)\n",
    "Z[Z>0] = np.ceil(Z[Z>0])\n",
    "Z[Z<0] = np.floor(Z[Z<0])\n",
    "\n",
    "print(Z)"
   ]
  },
  {
   "cell_type": "code",
   "execution_count": 227,
   "metadata": {},
   "outputs": [
    {
     "name": "stdout",
     "output_type": "stream",
     "text": [
      "[-4. -6.  0.  3. 10.]\n"
     ]
    }
   ],
   "source": [
    "# вариант покороче\n",
    "Z = np.where(A>0,np.ceil(A),np.floor(A))\n",
    "print(Z)"
   ]
  },
  {
   "cell_type": "markdown",
   "metadata": {},
   "source": [
    "## 30. Найдите числа, встречающиеся в обоих векторах и составьте их по возрастанию в вектор Z.\n",
    "Даны 2 вектора целых чисел A и B.\n",
    "\n",
    "Найдите числа, встречающиеся в обоих векторах и составьте их по возрастанию в вектор Z.\n",
    "\n",
    "Если пересечений нет, то вектор Z будет пустым.\n",
    "\n",
    "Примечание. В этой задаче не нужно ничего выводить на печать. Только создать вектор Z."
   ]
  },
  {
   "cell_type": "code",
   "execution_count": 228,
   "metadata": {},
   "outputs": [
    {
     "name": "stdout",
     "output_type": "stream",
     "text": [
      "[1 3 7]\n"
     ]
    }
   ],
   "source": [
    "A = np.array([0, 9, 7, 1, 3, 7, 5, 2, 5, 1])\n",
    "B = np.array([3, 1, 3, 7, 4, 1, 8, 1, 1, 8])\n",
    "\n",
    "Z = np.intersect1d(A, B)\n",
    "print(Z)"
   ]
  },
  {
   "cell_type": "markdown",
   "metadata": {},
   "source": [
    "## 31. numpy.seterr - устанавливает как обрабатываются ошибки\n",
    "\n",
    "\\# Suicide mode on\n",
    "\n",
    "В Numpy можно предусмотреть различное поведение в случае ошибок (а не только то, что мы наблюдали в задаче 28). Для этого используется функция https://docs.scipy.org/doc/numpy-1.15.0/reference/generated/numpy.seterr.html\n",
    "\n",
    "Отключите вывод всех ошибок (это довольно опасное поведение)"
   ]
  },
  {
   "cell_type": "code",
   "execution_count": 238,
   "metadata": {},
   "outputs": [
    {
     "data": {
      "text/plain": [
       "array([nan, inf, inf])"
      ]
     },
     "execution_count": 238,
     "metadata": {},
     "output_type": "execute_result"
    }
   ],
   "source": [
    "numpy.seterr('ignore')\n",
    "\n",
    "numpy.arange(3)/0"
   ]
  },
  {
   "cell_type": "code",
   "execution_count": 241,
   "metadata": {},
   "outputs": [
    {
     "ename": "FloatingPointError",
     "evalue": "divide by zero encountered in true_divide",
     "output_type": "error",
     "traceback": [
      "\u001b[0;31m---------------------------------------------------------------------------\u001b[0m",
      "\u001b[0;31mFloatingPointError\u001b[0m                        Traceback (most recent call last)",
      "\u001b[0;32m<ipython-input-241-ca24049b51bb>\u001b[0m in \u001b[0;36m<module>\u001b[0;34m\u001b[0m\n\u001b[1;32m      1\u001b[0m \u001b[0mnumpy\u001b[0m\u001b[0;34m.\u001b[0m\u001b[0mseterr\u001b[0m\u001b[0;34m(\u001b[0m\u001b[0;34m'raise'\u001b[0m\u001b[0;34m)\u001b[0m\u001b[0;34m\u001b[0m\u001b[0;34m\u001b[0m\u001b[0m\n\u001b[1;32m      2\u001b[0m \u001b[0;34m\u001b[0m\u001b[0m\n\u001b[0;32m----> 3\u001b[0;31m \u001b[0mnumpy\u001b[0m\u001b[0;34m.\u001b[0m\u001b[0marange\u001b[0m\u001b[0;34m(\u001b[0m\u001b[0;36m3\u001b[0m\u001b[0;34m)\u001b[0m\u001b[0;34m/\u001b[0m\u001b[0;36m0\u001b[0m\u001b[0;34m\u001b[0m\u001b[0;34m\u001b[0m\u001b[0m\n\u001b[0m",
      "\u001b[0;31mFloatingPointError\u001b[0m: divide by zero encountered in true_divide"
     ]
    }
   ],
   "source": [
    "numpy.seterr('raise')\n",
    "\n",
    "numpy.arange(3)/0"
   ]
  },
  {
   "cell_type": "code",
   "execution_count": 247,
   "metadata": {},
   "outputs": [
    {
     "data": {
      "text/plain": [
       "{'divide': 'raise', 'over': 'raise', 'under': 'raise', 'invalid': 'raise'}"
      ]
     },
     "execution_count": 247,
     "metadata": {},
     "output_type": "execute_result"
    }
   ],
   "source": [
    "numpy.seterr('warn')"
   ]
  },
  {
   "cell_type": "code",
   "execution_count": 248,
   "metadata": {},
   "outputs": [
    {
     "name": "stdout",
     "output_type": "stream",
     "text": [
      "False\n"
     ]
    },
    {
     "name": "stderr",
     "output_type": "stream",
     "text": [
      "/Users/natasha/anaconda3/lib/python3.7/site-packages/ipykernel_launcher.py:1: RuntimeWarning: invalid value encountered in sqrt\n",
      "  \"\"\"Entry point for launching an IPython kernel.\n"
     ]
    }
   ],
   "source": [
    "print(np.sqrt(-1) == np.emath.sqrt(-1))\n",
    "    "
   ]
  },
  {
   "cell_type": "code",
   "execution_count": 249,
   "metadata": {},
   "outputs": [
    {
     "data": {
      "text/plain": [
       "{'divide': 'warn', 'over': 'warn', 'under': 'warn', 'invalid': 'warn'}"
      ]
     },
     "execution_count": 249,
     "metadata": {},
     "output_type": "execute_result"
    }
   ],
   "source": [
    "numpy.seterr('raise')"
   ]
  },
  {
   "cell_type": "markdown",
   "metadata": {},
   "source": [
    "## 33 работа с датой"
   ]
  },
  {
   "cell_type": "code",
   "execution_count": 250,
   "metadata": {},
   "outputs": [
    {
     "data": {
      "text/plain": [
       "numpy.datetime64('2020-04-05')"
      ]
     },
     "execution_count": 250,
     "metadata": {},
     "output_type": "execute_result"
    }
   ],
   "source": [
    "np.datetime64('today')"
   ]
  },
  {
   "cell_type": "code",
   "execution_count": 251,
   "metadata": {},
   "outputs": [
    {
     "data": {
      "text/plain": [
       "numpy.datetime64('NaT')"
      ]
     },
     "execution_count": 251,
     "metadata": {},
     "output_type": "execute_result"
    }
   ],
   "source": [
    "np.datetime64('nat')"
   ]
  },
  {
   "cell_type": "code",
   "execution_count": 252,
   "metadata": {},
   "outputs": [
    {
     "ename": "ValueError",
     "evalue": "Error parsing datetime string \"tomorrow\" at position 0",
     "output_type": "error",
     "traceback": [
      "\u001b[0;31m---------------------------------------------------------------------------\u001b[0m",
      "\u001b[0;31mValueError\u001b[0m                                Traceback (most recent call last)",
      "\u001b[0;32m<ipython-input-252-4af087ea7a04>\u001b[0m in \u001b[0;36m<module>\u001b[0;34m\u001b[0m\n\u001b[0;32m----> 1\u001b[0;31m \u001b[0mnp\u001b[0m\u001b[0;34m.\u001b[0m\u001b[0mdatetime64\u001b[0m\u001b[0;34m(\u001b[0m\u001b[0;34m'tomorrow'\u001b[0m\u001b[0;34m)\u001b[0m\u001b[0;34m\u001b[0m\u001b[0;34m\u001b[0m\u001b[0m\n\u001b[0m",
      "\u001b[0;31mValueError\u001b[0m: Error parsing datetime string \"tomorrow\" at position 0"
     ]
    }
   ],
   "source": [
    "np.datetime64('tomorrow')"
   ]
  },
  {
   "cell_type": "code",
   "execution_count": 253,
   "metadata": {},
   "outputs": [
    {
     "data": {
      "text/plain": [
       "numpy.datetime64('NaT')"
      ]
     },
     "execution_count": 253,
     "metadata": {},
     "output_type": "execute_result"
    }
   ],
   "source": [
    "np.datetime64('nat')+1"
   ]
  },
  {
   "cell_type": "code",
   "execution_count": 254,
   "metadata": {},
   "outputs": [
    {
     "data": {
      "text/plain": [
       "numpy.datetime64('2020-04-06')"
      ]
     },
     "execution_count": 254,
     "metadata": {},
     "output_type": "execute_result"
    }
   ],
   "source": [
    "np.datetime64('today')+1"
   ]
  },
  {
   "cell_type": "code",
   "execution_count": 255,
   "metadata": {},
   "outputs": [
    {
     "data": {
      "text/plain": [
       "numpy.datetime64('NaT')"
      ]
     },
     "execution_count": 255,
     "metadata": {},
     "output_type": "execute_result"
    }
   ],
   "source": [
    "np.datetime64('nat')-1"
   ]
  },
  {
   "cell_type": "code",
   "execution_count": 256,
   "metadata": {},
   "outputs": [
    {
     "ename": "ValueError",
     "evalue": "Error parsing datetime string \"yesterday\" at position 0",
     "output_type": "error",
     "traceback": [
      "\u001b[0;31m---------------------------------------------------------------------------\u001b[0m",
      "\u001b[0;31mValueError\u001b[0m                                Traceback (most recent call last)",
      "\u001b[0;32m<ipython-input-256-c60c80f448d6>\u001b[0m in \u001b[0;36m<module>\u001b[0;34m\u001b[0m\n\u001b[0;32m----> 1\u001b[0;31m \u001b[0mnp\u001b[0m\u001b[0;34m.\u001b[0m\u001b[0mdatetime64\u001b[0m\u001b[0;34m(\u001b[0m\u001b[0;34m'yesterday'\u001b[0m\u001b[0;34m)\u001b[0m\u001b[0;34m\u001b[0m\u001b[0;34m\u001b[0m\u001b[0m\n\u001b[0m",
      "\u001b[0;31mValueError\u001b[0m: Error parsing datetime string \"yesterday\" at position 0"
     ]
    }
   ],
   "source": [
    "np.datetime64('yesterday')"
   ]
  },
  {
   "cell_type": "code",
   "execution_count": 257,
   "metadata": {},
   "outputs": [
    {
     "data": {
      "text/plain": [
       "numpy.datetime64('2020-04-04')"
      ]
     },
     "execution_count": 257,
     "metadata": {},
     "output_type": "execute_result"
    }
   ],
   "source": [
    "np.datetime64('today')-1"
   ]
  },
  {
   "cell_type": "code",
   "execution_count": 258,
   "metadata": {},
   "outputs": [
    {
     "data": {
      "text/plain": [
       "numpy.datetime64('2020-04-05T05:47:23')"
      ]
     },
     "execution_count": 258,
     "metadata": {},
     "output_type": "execute_result"
    }
   ],
   "source": [
    "np.datetime64('now')"
   ]
  },
  {
   "cell_type": "markdown",
   "metadata": {},
   "source": [
    "## 34 Массив из дат\n",
    "1-я входная строка - год (опционально месяц и день) в формате ISO начала отсчёта\n",
    "\n",
    "2-я входная строка - год (опционально месяц и день) в формате ISO окончания отсчёта\n",
    "\n",
    "Составьте список (numpy array) дат с шагом в 1 день от начала до окончания отсчёта (последний день не включается).\n",
    "\n",
    "Результат должен представлять из себя список дат в формате ISO.\n",
    "\n",
    "Пример - 2005-02-25, где\n",
    "\n",
    "2005 - год\n",
    "02 - месяц\n",
    "25 - день\n",
    "\n",
    "Запишите результат в переменную Z"
   ]
  },
  {
   "cell_type": "code",
   "execution_count": 261,
   "metadata": {},
   "outputs": [
    {
     "name": "stdin",
     "output_type": "stream",
     "text": [
      " 2016-07\n",
      " 2016-08\n"
     ]
    },
    {
     "name": "stdout",
     "output_type": "stream",
     "text": [
      "['2016-07-01' '2016-07-02' '2016-07-03' '2016-07-04' '2016-07-05'\n",
      " '2016-07-06' '2016-07-07' '2016-07-08' '2016-07-09' '2016-07-10'\n",
      " '2016-07-11' '2016-07-12' '2016-07-13' '2016-07-14' '2016-07-15'\n",
      " '2016-07-16' '2016-07-17' '2016-07-18' '2016-07-19' '2016-07-20'\n",
      " '2016-07-21' '2016-07-22' '2016-07-23' '2016-07-24' '2016-07-25'\n",
      " '2016-07-26' '2016-07-27' '2016-07-28' '2016-07-29' '2016-07-30'\n",
      " '2016-07-31']\n"
     ]
    }
   ],
   "source": [
    "import numpy as np\n",
    "\n",
    "Z = np.arange(input(), input(), dtype='datetime64[D]')\n",
    "print(Z)"
   ]
  },
  {
   "cell_type": "markdown",
   "metadata": {},
   "source": [
    "## 36. Существует по крайней мере 5 способов получить из вектора случайных float чисел вектор чисел только с целой частью:\n",
    "\n",
    "Целочисленное деление и векторные операции\n",
    "\n",
    "Округление \"вниз\"\n",
    "\n",
    "Округление \"вверх\" и вычет 1 (важно, что этот способ работает только для \"случайных\" чисел. Если число УЖЕ целое, то такая манипуляция приведёт к получению числа на 1 меньше исходного, т.е. ошибке)\n",
    "\n",
    "Приведение к целочисленному типу\n",
    "\n",
    "\"Усечение\" или округление в сторону нуля с помощью функции https://docs.scipy.org/doc/numpy-1.15.0/reference/generated/numpy.trunc.html"
   ]
  },
  {
   "cell_type": "code",
   "execution_count": 265,
   "metadata": {},
   "outputs": [
    {
     "name": "stdout",
     "output_type": "stream",
     "text": [
      "[6.07544852 1.70524124 0.65051593 9.48885537 9.65632033 8.08397348\n",
      " 3.04613769 0.97672114 6.84233027 4.40152494]\n",
      "1: [6. 1. 0. 9. 9. 8. 3. 0. 6. 4.]\n",
      "2: [6. 1. 0. 9. 9. 8. 3. 0. 6. 4.]\n",
      "2: [6. 1. 0. 9. 9. 8. 3. 0. 6. 4.]\n",
      "4: [6 1 0 9 9 8 3 0 6 4]\n",
      "5: [6. 1. 0. 9. 9. 8. 3. 0. 6. 4.]\n"
     ]
    }
   ],
   "source": [
    "Z = np.random.uniform(0,10,10)\n",
    "# array([1.45929438, 7.67176895, 4.30717228, 3.87291767, 1.12721643, 2.44432376, 9.03933531, 2.09715241, 2.61381042, 4.27172585])\n",
    "print(Z)\n",
    "\n",
    "#1\n",
    "X = Z - Z%1\n",
    "print('1:', X)\n",
    "\n",
    "#2\n",
    "X = np.floor(Z)\n",
    "print('2:', X)\n",
    "\n",
    "#3\n",
    "X = np.ceil(Z)-1\n",
    "print('2:', X)\n",
    "\n",
    "#4\n",
    "X = Z.astype(int)\n",
    "print('4:', X)\n",
    "\n",
    "#5\n",
    "X = np.trunc(Z)\n",
    "print('5:', X)"
   ]
  },
  {
   "cell_type": "markdown",
   "metadata": {},
   "source": [
    "## 37.1 Создайте матрицу размера n*m такую, что каждая её строка содержит числа от k до k+m-1 (с шагом 1).\n",
    "\n",
    "На вход подаётся 2 строки:\n",
    "\n",
    "1-я строка содержит 2 натуральных числа: n, m\n",
    "\n",
    "2-я строка содержит число k\n",
    "\n",
    "Создайте матрицу размера n*m такую, что каждая её строка содержит числа от k до k+m-1 (с шагом 1).\n",
    "\n",
    "Ответ запишите в переменную Z"
   ]
  },
  {
   "cell_type": "code",
   "execution_count": 16,
   "metadata": {},
   "outputs": [
    {
     "name": "stdin",
     "output_type": "stream",
     "text": [
      " 3 5\n",
      " -4\n"
     ]
    },
    {
     "name": "stdout",
     "output_type": "stream",
     "text": [
      "[[-4. -3. -2. -1.  0.]\n",
      " [-4. -3. -2. -1.  0.]\n",
      " [-4. -3. -2. -1.  0.]]\n"
     ]
    }
   ],
   "source": [
    "import numpy as np\n",
    "\n",
    "n, m = map(int, input().split())\n",
    "k = float(input())\n",
    "\n",
    "Z = np.tile(np.arange(k, k+m), n).reshape((n, m))\n",
    "\n",
    "print(Z)"
   ]
  },
  {
   "cell_type": "markdown",
   "metadata": {},
   "source": [
    "## 37.2 Создайте матрицу размера n*m такую, что каждый её столбец содержит числа от k до k+n-1 (с шагом 1).\n",
    "На вход подаётся 2 строки:\n",
    "\n",
    "1-я строка содержит 2 натуральных числа: n, m\n",
    "\n",
    "2-я строка содержит число k\n",
    "\n",
    "Создайте матрицу размера n*m такую, что каждый её столбец содержит числа от k до k+n-1 (с шагом 1).\n",
    "\n",
    "Ответ запишите в переменную Z"
   ]
  },
  {
   "cell_type": "code",
   "execution_count": 19,
   "metadata": {},
   "outputs": [
    {
     "name": "stdin",
     "output_type": "stream",
     "text": [
      " 3 4\n",
      " -1\n"
     ]
    },
    {
     "name": "stdout",
     "output_type": "stream",
     "text": [
      "[[-1.  0.  1.]\n",
      " [-1.  0.  1.]\n",
      " [-1.  0.  1.]\n",
      " [-1.  0.  1.]]\n",
      "[[-1. -1. -1. -1.]\n",
      " [ 0.  0.  0.  0.]\n",
      " [ 1.  1.  1.  1.]]\n"
     ]
    }
   ],
   "source": [
    "import numpy as np\n",
    "\n",
    "n, m = map(int, input().split())\n",
    "k = float(input())\n",
    "\n",
    "#создаю матрицу другого размера столбцы на строки: m на n\n",
    "Z = np.tile(np.arange(k, k+n), m).reshape((m, n))\n",
    "\n",
    "#транспонирую матрицу\n",
    "Z = Z.T\n",
    "print(Z)"
   ]
  },
  {
   "cell_type": "code",
   "execution_count": null,
   "metadata": {},
   "outputs": [],
   "source": []
  }
 ],
 "metadata": {
  "kernelspec": {
   "display_name": "Python 3",
   "language": "python",
   "name": "python3"
  },
  "language_info": {
   "codemirror_mode": {
    "name": "ipython",
    "version": 3
   },
   "file_extension": ".py",
   "mimetype": "text/x-python",
   "name": "python",
   "nbconvert_exporter": "python",
   "pygments_lexer": "ipython3",
   "version": "3.7.3"
  }
 },
 "nbformat": 4,
 "nbformat_minor": 4
}
