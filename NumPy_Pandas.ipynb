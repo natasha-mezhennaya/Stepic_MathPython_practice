{
 "cells": [
  {
   "cell_type": "markdown",
   "metadata": {},
   "source": [
    "# Векторы и матрицы"
   ]
  },
  {
   "cell_type": "code",
   "execution_count": 1,
   "metadata": {},
   "outputs": [],
   "source": [
    "import numpy as np"
   ]
  },
  {
   "cell_type": "markdown",
   "metadata": {},
   "source": [
    "внутрь конструктора numpy.array() можно передавать любой итерируемый объект"
   ]
  },
  {
   "cell_type": "code",
   "execution_count": 2,
   "metadata": {},
   "outputs": [
    {
     "data": {
      "text/plain": [
       "array([1, 2, 3, 4])"
      ]
     },
     "execution_count": 2,
     "metadata": {},
     "output_type": "execute_result"
    }
   ],
   "source": [
    "np.array((1, 2, 3, 4)) # кортеж (1, 2, 3, 4)"
   ]
  },
  {
   "cell_type": "code",
   "execution_count": 3,
   "metadata": {},
   "outputs": [
    {
     "name": "stdout",
     "output_type": "stream",
     "text": [
      "[1 2 3 4]\n"
     ]
    }
   ],
   "source": [
    "print(np.array((1, 2, 3, 4)))"
   ]
  },
  {
   "cell_type": "code",
   "execution_count": 4,
   "metadata": {},
   "outputs": [
    {
     "data": {
      "text/plain": [
       "array(1)"
      ]
     },
     "execution_count": 4,
     "metadata": {},
     "output_type": "execute_result"
    }
   ],
   "source": [
    "np.array((1))"
   ]
  },
  {
   "cell_type": "code",
   "execution_count": 8,
   "metadata": {},
   "outputs": [
    {
     "name": "stdout",
     "output_type": "stream",
     "text": [
      "1\n"
     ]
    }
   ],
   "source": [
    "print(np.array((1))) #просто значение 1"
   ]
  },
  {
   "cell_type": "code",
   "execution_count": 9,
   "metadata": {},
   "outputs": [
    {
     "name": "stdout",
     "output_type": "stream",
     "text": [
      "[1]\n"
     ]
    }
   ],
   "source": [
    "print(np.array((1,))) # кортеж из 1 элемента"
   ]
  },
  {
   "cell_type": "code",
   "execution_count": 11,
   "metadata": {},
   "outputs": [
    {
     "data": {
      "text/plain": [
       "array(['True', '2.0', '3', '4'], dtype='<U32')"
      ]
     },
     "execution_count": 11,
     "metadata": {},
     "output_type": "execute_result"
    }
   ],
   "source": [
    "np.array((True, 2., 3, '4')) # все элементы стали типа строка"
   ]
  },
  {
   "cell_type": "markdown",
   "metadata": {},
   "source": [
    "**На вход подаётся список чисел.**\n",
    "\n",
    "Создайте и сохраните:\n",
    "\n",
    "в переменную V1 Numpy вектор из этих чисел в том же порядке\n",
    "в переменную V2 Numpy вектор, содержащий только предпоследнее число (это должен быть именно вектор!)\n",
    "в переменную V3 Numpy вектор из этих чисел в обратном порядке\n",
    "в переменную V4 Numpy вектор из этих чисел, начиная с 0-ого, через 2 (т.е. каждое третье число)\n",
    "в переменную V5 Numpy вектор, созданный из генератора Range, содержащий столько элементов, сколько было передано чисел на вход\n",
    "Примечание. В этой задаче не нужно ничего выводить на печать. Только создать вектора."
   ]
  },
  {
   "cell_type": "code",
   "execution_count": 24,
   "metadata": {},
   "outputs": [
    {
     "name": "stdin",
     "output_type": "stream",
     "text": [
      " 1, 2, 3, 4, 5.0, 6, 7, 8, 9, 10\n"
     ]
    },
    {
     "name": "stdout",
     "output_type": "stream",
     "text": [
      "[ 1.  2.  3.  4.  5.  6.  7.  8.  9. 10.]\n",
      "[9.]\n",
      "[10.  9.  8.  7.  6.  5.  4.  3.  2.  1.]\n",
      "[ 1.  4.  7. 10.]\n",
      "[0 1 2 3 4 5 6 7 8 9]\n"
     ]
    }
   ],
   "source": [
    "import numpy as np\n",
    "s = input()\n",
    "\n",
    "V1 = np.array([float(i) for i in s.split(',')])\n",
    "print(V1)\n",
    "V2 = np.array((V1[-2],))\n",
    "print(V2)\n",
    "V3 = V1[::-1]\n",
    "print(V3)\n",
    "V4 = V1[::3]\n",
    "print(V4)\n",
    "V5 = np.array(range(len(V1)))\n",
    "print(V5)"
   ]
  },
  {
   "cell_type": "markdown",
   "metadata": {},
   "source": [
    "На вход подаётся 2 списка целых чисел (они представляют из себя вектора равной длины, т.е. с одинаковым количеством элементов).\n",
    "\n",
    "**Используя векторные операции создайте и сохраните:**\n",
    "\n",
    "в переменную V1 Numpy вектор с числами из 1 строки\n",
    "в переменную V2 Numpy вектор с числами из 2 строки\n",
    "в переменную V3 Numpy вектор с покоординатными суммами V1 и V2\n",
    "в переменную V4 Numpy вектор с покоординатными произведениями каждого второго числа V1 на каждое второе число V2, развёрнутого в обратном порядке\n",
    "Примечание. В этой задаче не нужно ничего выводить на печать. Только создать вектора."
   ]
  },
  {
   "cell_type": "code",
   "execution_count": 25,
   "metadata": {},
   "outputs": [
    {
     "name": "stdin",
     "output_type": "stream",
     "text": [
      " 3 3\n",
      " 4 4\n"
     ]
    }
   ],
   "source": [
    "import numpy as np\n",
    "s1 = input()\n",
    "s2 = input() \n",
    "\n",
    "#считываем, данные указав separator, а также dtype, так как по-умолчанию стоит float\n",
    "V1 = np.fromstring(s1, dtype=np.int, sep=', ')\n",
    "V2 = np.fromstring(s2, dtype=np.int, sep=', ')\n",
    "V3 = V1 + V2\n",
    "V4 = V1[::2] * V2[-1::-2]"
   ]
  },
  {
   "cell_type": "markdown",
   "metadata": {},
   "source": [
    "На вход подаётся 2 набора целых чисел.\n",
    "\n",
    "**Создайте вектор V такой, что он будет содержать числа из 1 набора, делящиеся нацело на предпоследнее число из 2 набора и разделённые на это число.**\n",
    "\n",
    "Если таких чисел не найдётся, то вектор V будет пустым (т.е. не будет содержать элементов).\n",
    "\n",
    " \n",
    "\n",
    "Примечание. В этой задаче не нужно ничего выводить на печать. Только создать вектора."
   ]
  },
  {
   "cell_type": "code",
   "execution_count": 28,
   "metadata": {},
   "outputs": [
    {
     "name": "stdin",
     "output_type": "stream",
     "text": [
      " 1, 2, 3, 4, 5, 6\n",
      " 1, 2, 3, 4\n"
     ]
    },
    {
     "name": "stdout",
     "output_type": "stream",
     "text": [
      "[1. 2.]\n"
     ]
    }
   ],
   "source": [
    "import numpy as np\n",
    "\n",
    "v1 = np.fromstring(input(), sep = ', ')\n",
    "v2 = np.fromstring(input(), sep = ', ')\n",
    "\n",
    "V = v1[v1 % v2[-2] == 0] / v2[-2]\n",
    "print(V)"
   ]
  },
  {
   "cell_type": "markdown",
   "metadata": {},
   "source": [
    "## площадь треугольника\n",
    "\n",
    "В этой задаче нам даны 3 переменные: A1, A2, A3. Каждая содержит вектор с 2 координатами соответствующей вершины треугольника.\n",
    "\n",
    "Найдите площадь треугольника и выведите её на печать.\n",
    "\n",
    " \n",
    "\n",
    "Если все 3 точки лежат на одной прямой, то площадь треугольника равна 0.\n",
    "\n",
    " \n",
    "\n",
    "Ответ проверяется с точностью до 4 знака после запятой."
   ]
  },
  {
   "cell_type": "code",
   "execution_count": 34,
   "metadata": {},
   "outputs": [
    {
     "name": "stdout",
     "output_type": "stream",
     "text": [
      "17.999999999999993\n"
     ]
    }
   ],
   "source": [
    "import numpy as np\n",
    "\n",
    "def len_a(a1, a2):\n",
    "    #длина отрезка по координатам точек a1(x1, y1) и a2(x2, y2)\n",
    "    #((a1[0] - a2[0])**2 + (a1[1] - a2[1])**2) ** 0.5\n",
    "    return sum((a1-a2)**2)**0.5 \n",
    "\n",
    "A1 = np.array((-1, 1))\n",
    "A2 = np.array((2, 5))\n",
    "A3 = np.array((5, -3))\n",
    "\n",
    "# пл. треугольника по формуле герона\n",
    "a = len_a(A1, A2)\n",
    "b = len_a(A2, A3)\n",
    "c = len_a(A1, A3)\n",
    "\n",
    "p = (a + b + c) / 2\n",
    "\n",
    "S = (p * (p - a) * (p - b) * (p - c)) ** 0.5\n",
    "\n",
    "print(S)"
   ]
  },
  {
   "cell_type": "markdown",
   "metadata": {},
   "source": [
    "Переменная M1 содержит Numpy матрицу.\n",
    "\n",
    "Произведите операции последовательно:\n",
    "\n",
    "**1. Замените значения в предпоследней строке на значения по формуле:**\n",
    "\n",
    "sin(x*pi / 6), где x - старое значение\n",
    "\n",
    "**2. Замените значения в предпоследнем столбце на значения по форуме:**\n",
    "\n",
    "e ** x \n",
    "\n",
    "Результат запишите в переменную M2\n",
    "\n",
    "\n",
    "Примечание. В этой задаче не нужно ничего выводить на печать. Только создать матрицу"
   ]
  },
  {
   "cell_type": "code",
   "execution_count": 39,
   "metadata": {},
   "outputs": [
    {
     "name": "stdout",
     "output_type": "stream",
     "text": [
      "[[1.00000000e+00 2.00000000e+00 2.00855369e+01 0.00000000e+00]\n",
      " [4.00000000e+00 5.00000000e+00 4.03428793e+02 0.00000000e+00]\n",
      " [0.00000000e+00 5.00000000e-01 1.64872127e+00 1.22464680e-16]\n",
      " [7.00000000e+00 8.00000000e+00 8.10308393e+03 0.00000000e+00]]\n",
      "[0.00000000e+00 5.00000000e-01 1.64872127e+00 1.22464680e-16]\n"
     ]
    }
   ],
   "source": [
    "M1 = np.array((\n",
    "    (1., 2., 3., 0.),\n",
    "    (4., 5., 6., 0.),\n",
    "    (0., 1., 1., 6.),\n",
    "    (7., 8., 9., 0.)\n",
    "))\n",
    "\n",
    "import numpy as np\n",
    "M1[-2] = np.sin(M1[-2] * np.pi / 6)\n",
    "\n",
    "M1[:, -2] = np.exp(M1[:, -2])\n",
    "\n",
    "M2 = np.copy(M1)"
   ]
  },
  {
   "cell_type": "code",
   "execution_count": null,
   "metadata": {},
   "outputs": [],
   "source": []
  },
  {
   "cell_type": "markdown",
   "metadata": {},
   "source": [
    "# Решение задач NumPy-100"
   ]
  },
  {
   "cell_type": "code",
   "execution_count": 40,
   "metadata": {},
   "outputs": [],
   "source": [
    "import numpy as np"
   ]
  },
  {
   "cell_type": "code",
   "execution_count": 41,
   "metadata": {},
   "outputs": [
    {
     "name": "stdout",
     "output_type": "stream",
     "text": [
      "mkl_info:\n",
      "    libraries = ['mkl_rt', 'pthread']\n",
      "    library_dirs = ['/Users/natasha/anaconda3/lib']\n",
      "    define_macros = [('SCIPY_MKL_H', None), ('HAVE_CBLAS', None)]\n",
      "    include_dirs = ['/Users/natasha/anaconda3/include']\n",
      "blas_mkl_info:\n",
      "    libraries = ['mkl_rt', 'pthread']\n",
      "    library_dirs = ['/Users/natasha/anaconda3/lib']\n",
      "    define_macros = [('SCIPY_MKL_H', None), ('HAVE_CBLAS', None)]\n",
      "    include_dirs = ['/Users/natasha/anaconda3/include']\n",
      "blas_opt_info:\n",
      "    libraries = ['mkl_rt', 'pthread']\n",
      "    library_dirs = ['/Users/natasha/anaconda3/lib']\n",
      "    define_macros = [('SCIPY_MKL_H', None), ('HAVE_CBLAS', None)]\n",
      "    include_dirs = ['/Users/natasha/anaconda3/include']\n",
      "lapack_mkl_info:\n",
      "    libraries = ['mkl_rt', 'pthread']\n",
      "    library_dirs = ['/Users/natasha/anaconda3/lib']\n",
      "    define_macros = [('SCIPY_MKL_H', None), ('HAVE_CBLAS', None)]\n",
      "    include_dirs = ['/Users/natasha/anaconda3/include']\n",
      "lapack_opt_info:\n",
      "    libraries = ['mkl_rt', 'pthread']\n",
      "    library_dirs = ['/Users/natasha/anaconda3/lib']\n",
      "    define_macros = [('SCIPY_MKL_H', None), ('HAVE_CBLAS', None)]\n",
      "    include_dirs = ['/Users/natasha/anaconda3/include']\n"
     ]
    }
   ],
   "source": [
    "np.show_config()"
   ]
  },
  {
   "cell_type": "code",
   "execution_count": 42,
   "metadata": {},
   "outputs": [
    {
     "data": {
      "text/plain": [
       "'1.16.4'"
      ]
     },
     "execution_count": 42,
     "metadata": {},
     "output_type": "execute_result"
    }
   ],
   "source": [
    "np.__version__"
   ]
  },
  {
   "cell_type": "markdown",
   "metadata": {},
   "source": [
    "## 3.1\n",
    "Считайте число n\n",
    "\n",
    "Создайте в переменной Z Numpy вектор из нулей длины n."
   ]
  },
  {
   "cell_type": "code",
   "execution_count": 44,
   "metadata": {},
   "outputs": [
    {
     "name": "stdin",
     "output_type": "stream",
     "text": [
      " 5\n"
     ]
    },
    {
     "name": "stdout",
     "output_type": "stream",
     "text": [
      "[0. 0. 0. 0. 0.]\n"
     ]
    }
   ],
   "source": [
    "import numpy as np\n",
    "\n",
    "n = int(input())\n",
    "Z = np.zeros(n)\n",
    "print(Z)"
   ]
  },
  {
   "cell_type": "markdown",
   "metadata": {},
   "source": [
    "## 3.2\n",
    "\n",
    "Считайте строку, где значения заданы через пробел shape и dtype\n",
    "\n",
    "Последнее значение в строке может быть либо числом (тогда это последнее значение кортежа shape, либо строкой dtype)\n",
    "\n",
    "shape - атрибут, задающий размеры матрицы нолей (позволяет вернуть вектор-строку, вектор-столбец, матрицу, куб и т.д.)\n",
    "dtype - тип данных, использующихся для значений матрицы. По-умолчанию используется numpy.float64.\n",
    "Создайте матрицу Z размера shape, со значениями типа dtype (если dtype не указан, используйте numpy.float64)\n",
    "\n",
    "\n",
    "\n",
    "Примечание. В этой задаче не нужно ничего выводить на печать. Только создать матрицу Z."
   ]
  },
  {
   "cell_type": "code",
   "execution_count": 57,
   "metadata": {},
   "outputs": [
    {
     "name": "stdin",
     "output_type": "stream",
     "text": [
      " 2 4 3 bool\n"
     ]
    },
    {
     "name": "stdout",
     "output_type": "stream",
     "text": [
      "[[[False False False]\n",
      "  [False False False]\n",
      "  [False False False]\n",
      "  [False False False]]\n",
      "\n",
      " [[False False False]\n",
      "  [False False False]\n",
      "  [False False False]\n",
      "  [False False False]]]\n"
     ]
    }
   ],
   "source": [
    "import numpy as np\n",
    "\n",
    "s = [int(i) if i.isdigit() else i for i in input().split()]\n",
    "\n",
    "if not str(s[-1]).isdigit():\n",
    "    s_type = np.dtype(s[-1])\n",
    "    s_shape = tuple(s[:-1:])\n",
    "else:\n",
    "    s_type = np.float64\n",
    "    s_shape = tuple(s)\n",
    "\n",
    "Z = np.zeros(s_shape, dtype=s_type)\n",
    "\n",
    "print(Z)\n",
    "\n"
   ]
  },
  {
   "cell_type": "markdown",
   "metadata": {},
   "source": [
    "## 4. Посчитайте размер матрицы Z в байтах и выведите его на печать.\n",
    "\n",
    "Чтобы узнать размер (в байтах) 1 элемента матрицы используйте атрибут https://docs.scipy.org/doc/numpy-1.15.1/reference/generated/numpy.ndarray.itemsize.html﻿\n",
    "\n",
    "Примечание. В этой задаче не нужно ничего считывать - матрица Z уже заполнена."
   ]
  },
  {
   "cell_type": "code",
   "execution_count": 65,
   "metadata": {},
   "outputs": [
    {
     "name": "stdout",
     "output_type": "stream",
     "text": [
      "24\n"
     ]
    }
   ],
   "source": [
    "\n",
    "#Z = np.zeros((10,10))\n",
    "Z = np.array([1,2,3], dtype=np.float64)\n",
    "#print(Z.data.nbytes)\n",
    "print(Z.nbytes)"
   ]
  },
  {
   "cell_type": "markdown",
   "metadata": {},
   "source": [
    "## 5. Выведите на печать встроенную документацию для функции add numpy, а потом объекта numpy.array."
   ]
  },
  {
   "cell_type": "code",
   "execution_count": null,
   "metadata": {},
   "outputs": [],
   "source": [
    "import numpy as np\n",
    "np.info(np.add)\n",
    "np.info(np.array)"
   ]
  },
  {
   "cell_type": "markdown",
   "metadata": {},
   "source": [
    "## 6 Считайте 2 числа:\n",
    "\n",
    "n - размер Numpy вектора\n",
    "x - координата элемента вектора, который должен быть равен 1. Остальные элементы вектора должны быть равны 0.\n",
    "Сохраните вектор в переменную Z.\n",
    "\n",
    "Примечание. В этой задаче не нужно ничего выводить на печать. Только создать вектор Z."
   ]
  },
  {
   "cell_type": "code",
   "execution_count": 72,
   "metadata": {},
   "outputs": [
    {
     "name": "stdin",
     "output_type": "stream",
     "text": [
      " 5\n",
      " 3\n"
     ]
    },
    {
     "name": "stdout",
     "output_type": "stream",
     "text": [
      "[0. 0. 0. 1. 0.]\n"
     ]
    }
   ],
   "source": [
    "import numpy as np\n",
    "\n",
    "n = int(input())\n",
    "x = int(input())\n",
    "\n",
    "Z = np.zeros(n)\n",
    "Z[x] = 1\n",
    "\n",
    "print(Z)"
   ]
  },
  {
   "cell_type": "code",
   "execution_count": 73,
   "metadata": {},
   "outputs": [
    {
     "name": "stdin",
     "output_type": "stream",
     "text": [
      " 5\n",
      " 3\n"
     ]
    },
    {
     "name": "stdout",
     "output_type": "stream",
     "text": [
      "[0. 0. 0. 1. 0.]\n"
     ]
    }
   ],
   "source": [
    "import numpy as np\n",
    "\n",
    "Z = np.eye(1, int(input()), int(input())).ravel()\n",
    "\n",
    "print(Z)"
   ]
  },
  {
   "cell_type": "code",
   "execution_count": 77,
   "metadata": {},
   "outputs": [
    {
     "data": {
      "text/plain": [
       "array([[0., 1., 0.],\n",
       "       [0., 0., 1.],\n",
       "       [0., 0., 0.],\n",
       "       [0., 0., 0.]])"
      ]
     },
     "execution_count": 77,
     "metadata": {},
     "output_type": "execute_result"
    }
   ],
   "source": [
    "# Функция eye возвращает матрицу с единичками на к-атой диагонали:\n",
    "np.eye(4, 3, k=1, dtype=float)"
   ]
  },
  {
   "cell_type": "markdown",
   "metadata": {},
   "source": [
    "ravel -  возвращает плоский массив"
   ]
  },
  {
   "cell_type": "markdown",
   "metadata": {},
   "source": [
    "## 7 Считайте 2 числа n, m.\n",
    "\n",
    "Создайте вектор Z состоящий из чисел от n до m.\n",
    "\n",
    "Примечание. В этой задаче не нужно ничего выводить на печать. Только создать вектор Z."
   ]
  },
  {
   "cell_type": "code",
   "execution_count": 79,
   "metadata": {},
   "outputs": [
    {
     "name": "stdin",
     "output_type": "stream",
     "text": [
      " 3\n",
      " 9\n"
     ]
    },
    {
     "name": "stdout",
     "output_type": "stream",
     "text": [
      "[3 4 5 6 7 8 9]\n"
     ]
    }
   ],
   "source": [
    "import numpy as np\n",
    "\n",
    "n, m = int(input()), int(input())\n",
    "Z = np.arange(n, m+1)\n",
    "\n",
    "print(Z)"
   ]
  },
  {
   "cell_type": "markdown",
   "metadata": {},
   "source": [
    "## 8. Дан вектор Z. \"Разверните\" его.\n",
    "\n",
    "\n",
    "\n",
    "Примечание. В этой задаче не нужно ничего выводить на печать или считывать. Только развернуть уже созданный вектор Z."
   ]
  },
  {
   "cell_type": "code",
   "execution_count": 80,
   "metadata": {},
   "outputs": [],
   "source": [
    "Z = Z[::-1]"
   ]
  },
  {
   "cell_type": "markdown",
   "metadata": {},
   "source": [
    "## 9. Считайте 3 числа:\n",
    "n - количество элементов матрицы\n",
    "m и l - размеры матрицы (число строк и столбцов соответственно)\n",
    "**Заполните матрицу Z числами от 0 до n-1 по порядку (сперва строки, потом столбцы).**\n",
    "Гарантируется, что m*l = n, т.е. все элементы \"влезут\" в матрицу и не останется пустых мест.\n",
    "\n",
    "Примечание. В этой задаче не нужно ничего выводить на печать. Только создать матрицу Z."
   ]
  },
  {
   "cell_type": "code",
   "execution_count": 89,
   "metadata": {},
   "outputs": [
    {
     "name": "stdin",
     "output_type": "stream",
     "text": [
      " 12\n",
      " 3 4\n"
     ]
    },
    {
     "name": "stdout",
     "output_type": "stream",
     "text": [
      "[[ 0  1  2  3]\n",
      " [ 4  5  6  7]\n",
      " [ 8  9 10 11]]\n"
     ]
    }
   ],
   "source": [
    "import numpy as np\n",
    "\n",
    "n = int(input())\n",
    "size = np.fromstring(input(), dtype=np.int, sep=' ')\n",
    "Z = np.arange(n).reshape(size)\n",
    "print(Z)"
   ]
  },
  {
   "cell_type": "markdown",
   "metadata": {},
   "source": [
    "## 10.1\n",
    "Дан вектор Z\n",
    "\n",
    "**Запишите в переменную NonZerros индексы ненулевых элементов.**\n",
    "\n",
    "Используйте функцию https://docs.scipy.org/doc/numpy-1.15.0/reference/generated/numpy.nonzero.html\n",
    "\n",
    "\n",
    "\n",
    "Примечание. В этой задаче не нужно ничего считывать или выводить на печать. Матрица ﻿Z уже готова, просто создайте ﻿NonZerros﻿. "
   ]
  },
  {
   "cell_type": "code",
   "execution_count": 91,
   "metadata": {},
   "outputs": [
    {
     "name": "stdout",
     "output_type": "stream",
     "text": [
      "(array([0, 2, 4, 6]),)\n"
     ]
    }
   ],
   "source": [
    "import numpy as np\n",
    "\n",
    "Z = [1, 0, 2, 0, 3, 0, 4]\n",
    "NonZerros = np.nonzero(Z)\n",
    "\n",
    "print(NonZerros)"
   ]
  },
  {
   "cell_type": "markdown",
   "metadata": {},
   "source": [
    "## 10.2\n",
    "Дана матрица чисел Z (Z может быть 1, 2 или даже 3 мерной).\n",
    "\n",
    "**Выведите на печать список чисел из этой матрицы, которые больше 3.**"
   ]
  },
  {
   "cell_type": "code",
   "execution_count": 101,
   "metadata": {},
   "outputs": [
    {
     "name": "stdout",
     "output_type": "stream",
     "text": [
      "[False False False  True]\n",
      "[4]\n"
     ]
    }
   ],
   "source": [
    "import numpy as np\n",
    "\n",
    "Z = np.array([1, 2, 3, 4])\n",
    "print(Z > 3)\n",
    "\n",
    "print(Z[Z > 3])"
   ]
  },
  {
   "cell_type": "code",
   "execution_count": null,
   "metadata": {},
   "outputs": [],
   "source": []
  }
 ],
 "metadata": {
  "kernelspec": {
   "display_name": "Python 3",
   "language": "python",
   "name": "python3"
  },
  "language_info": {
   "codemirror_mode": {
    "name": "ipython",
    "version": 3
   },
   "file_extension": ".py",
   "mimetype": "text/x-python",
   "name": "python",
   "nbconvert_exporter": "python",
   "pygments_lexer": "ipython3",
   "version": "3.7.3"
  }
 },
 "nbformat": 4,
 "nbformat_minor": 4
}
