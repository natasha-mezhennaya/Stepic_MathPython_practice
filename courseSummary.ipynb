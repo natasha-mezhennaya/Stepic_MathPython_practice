{
 "cells": [
  {
   "cell_type": "markdown",
   "metadata": {},
   "source": [
    "# Курс Практикум по математике и Python"
   ]
  },
  {
   "cell_type": "markdown",
   "metadata": {},
   "source": [
    "## Основы Python"
   ]
  },
  {
   "cell_type": "markdown",
   "metadata": {},
   "source": [
    "**Математические операции**"
   ]
  },
  {
   "cell_type": "markdown",
   "metadata": {},
   "source": [
    "Даны длины 2 диагоналей ромба (каждая с новой строки).\n",
    "Значения могут быть дробными.\n",
    "\n",
    "Найдите площадь ромба S. В качестве ответа запишите (каждое с новой строки) следующие значения:\n",
    "S, приведённое к целочисленному типу\n",
    "S, округлённое до 1 знака после запятой с помощью функции  round()\n",
    "S, точное значение без округления"
   ]
  },
  {
   "cell_type": "code",
   "execution_count": null,
   "metadata": {},
   "outputs": [],
   "source": [
    "a, b = (int(input()) for i in range(2))\n",
    "\n",
    "S = a * b / 2\n",
    "\n",
    "print(int(S))\n",
    "print(round(S, 1))\n",
    "print(S)"
   ]
  },
  {
   "cell_type": "markdown",
   "metadata": {},
   "source": [
    "Нарисован правильный шестиугольник со стороной a.\n",
    "\n",
    "К 5 сторонам этого шестиугольника снаружи дорисовали по правильному треугольнику.\n",
    "\n",
    "Найдите площадь получившейся фигуры.\n",
    "\n",
    "\n",
    "На вход подаётся 1 строка - длина стороны правильного шестиугольника.\n",
    "\n",
    "Ответ округлите до целых."
   ]
  },
  {
   "cell_type": "code",
   "execution_count": null,
   "metadata": {},
   "outputs": [],
   "source": [
    "a = int(input())\n",
    "s = (a ** 2)*(3 ** 0.5) / 4\n",
    "print(round(s * 11))"
   ]
  },
  {
   "cell_type": "markdown",
   "metadata": {},
   "source": [
    "На плоскости нарисован правильный шестиугольник с длиной стороны a.\n",
    "\n",
    "У 3 сторон шестиугольника нарисовали по квадрату с длиной стороны, равной стороне шестиугольника.\n",
    "\n",
    "Оставшиеся 3 стороны разделили пополам, после чего нарисовали по равностороннему треугольнику, касающемуся каждого из получившихся половинных отрезков.\n",
    "\n",
    "\n",
    "Image: https://ucarecdn.com/6244aaf8-2910-4445-b8ab-ef734eafdb52/\n",
    "\n",
    "Найдите площадь получившейся фигуры."
   ]
  },
  {
   "cell_type": "code",
   "execution_count": null,
   "metadata": {},
   "outputs": [],
   "source": [
    "a = int(input())\n",
    "s6 = 6 * ((a ** 2)*(3 ** 0.5) / 4)\n",
    "s3 = 6 * ((a / 2) ** 2)*(3 ** 0.5) / 4\n",
    "s4 = 3 * a**2\n",
    "print(round(s6 + s3 + s4))"
   ]
  },
  {
   "cell_type": "markdown",
   "metadata": {},
   "source": [
    "На вход программа получает 1 строку - длину ребра **додекаэдра**.\n",
    "\n",
    "Используя формулы из Wiki найдите площадь поверхности и объём фигуры.\n",
    "Ответ округлите до 2 знака после запятой.\n",
    "{\\displaystyle S=3a^{2}{\\sqrt {5(5+2{\\sqrt {5}})}}\\approx 20{,}65a^{2}}"
   ]
  },
  {
   "cell_type": "code",
   "execution_count": null,
   "metadata": {},
   "outputs": [],
   "source": [
    "a = int(input())\n",
    "\n",
    "S = 3 * a**2 * ((5*(5 + 2 * 5**0.5))**0.5)\n",
    "V = (15 + 7 * 5**0.5) * a**3 / 4\n",
    "\n",
    "print(round(S, 2))\n",
    "print(round(V, 2))"
   ]
  },
  {
   "cell_type": "markdown",
   "metadata": {},
   "source": [
    "Задача фон Неймана о мухе и поездах\n",
    "Два поезда находятся на расстоянии LL км друг от друга и приближаются по одной колее, развивают скорости v_1v \n",
    "1\n",
    "​\t\n",
    "  км/ч и v_2v \n",
    "2\n",
    "​\t\n",
    "  км/ч, соответственно. С ветрового стекла одного локомотива в начальный момент движения взлетает муха и принимается летать со скоростью v_mv \n",
    "m\n",
    "​\t\n",
    "  км/ч вперед и назад между поездами, пока те, столкнувшись, не раздавят ее.\n",
    "\n",
    "Какое расстояние успевает пролететь муха до столкновения поездов?\n",
    "\n",
    "На вход подаётся 4 натуральных числа:\n",
    "\n",
    "LL\n",
    "v_1v \n",
    "1\n",
    "​\t\n",
    " \n",
    "v_2v \n",
    "2\n",
    "​\t\n",
    " \n",
    "v_mv \n",
    "m\n",
    "​\t\n",
    " \n",
    "Ответом будет 1 натуральное число\n",
    "\n",
    "\n",
    "\n",
    "Примечание. Это простая математическая задача, здесь не нужны циклы или ряды. Условие задачи гарантирует, что v_m \\gt v_1, v_m \\gt v_2v \n",
    "m\n",
    "​\t\n",
    " >v \n",
    "1\n",
    "​\t\n",
    " ,v \n",
    "m\n",
    "​\t\n",
    " >v \n",
    "2\n",
    "​\t"
   ]
  },
  {
   "cell_type": "code",
   "execution_count": null,
   "metadata": {},
   "outputs": [],
   "source": [
    "L, V1, V2, Vm  = (int(input()) for i in range(4))\n",
    "\n",
    "# время до столкновения\n",
    "t = L / (V1 + V2)\n",
    "\n",
    "# сколько за это время налетает муха\n",
    "s = Vm * t\n",
    "\n",
    "print(round(s))"
   ]
  },
  {
   "cell_type": "markdown",
   "metadata": {},
   "source": [
    "**Списки**"
   ]
  },
  {
   "cell_type": "markdown",
   "metadata": {},
   "source": [
    "На вход подаётся строка из 3 целых чисел.\n",
    "\n",
    "Найдите сумму чисел."
   ]
  },
  {
   "cell_type": "code",
   "execution_count": null,
   "metadata": {},
   "outputs": [],
   "source": [
    "s = [int(i) for i in input().split()]\n",
    "print(sum(s))"
   ]
  },
  {
   "cell_type": "markdown",
   "metadata": {},
   "source": [
    "Считайте 2 строки. Каждая строка содержит по 3 натуральных числа.\n",
    "\n",
    "Найдите сумму чисел в каждой строке и выведите на печать одной строкой.\n",
    "\n",
    "В качестве разделителя между двумя получившимися числами используйте символ \"#\""
   ]
  },
  {
   "cell_type": "code",
   "execution_count": null,
   "metadata": {},
   "outputs": [],
   "source": [
    "s1 = [int(i) for i in input().split()]\n",
    "s2 = [int(i) for i in input().split()]\n",
    "print('#'.join([str(sum(s1)), str(sum(s2))]))"
   ]
  },
  {
   "cell_type": "markdown",
   "metadata": {},
   "source": [
    "На вход подаётся 1 строка, слова в которой разделены символом \"&\".\n",
    "\n",
    "Необходимо вывести все слова из строки (без дубликатов) с пробелом в качестве разделителя."
   ]
  },
  {
   "cell_type": "code",
   "execution_count": null,
   "metadata": {},
   "outputs": [],
   "source": [
    "s = set(input().split('&'))\n",
    "print(*s)"
   ]
  },
  {
   "cell_type": "markdown",
   "metadata": {},
   "source": [
    "На вход подаётся строка, слова в которой разделены между собой пробелами.\n",
    "\n",
    "Напечатайте 2, 3 и предпоследнее слова из строки (через пробел)"
   ]
  },
  {
   "cell_type": "code",
   "execution_count": null,
   "metadata": {},
   "outputs": [],
   "source": [
    "s = input().split()\n",
    "print(s[1], s[2], s[-2])"
   ]
  },
  {
   "cell_type": "markdown",
   "metadata": {},
   "source": [
    "На вход подаётся 1 строка, слова в которой разделены пробелами.\n",
    "\n",
    "Напечатайте слова из этой строки в обратном порядке, используя в качестве разделителя \"-$-\""
   ]
  },
  {
   "cell_type": "code",
   "execution_count": null,
   "metadata": {},
   "outputs": [],
   "source": [
    "s = input().split()\n",
    "print('-$-'.join(s[::-1]))"
   ]
  },
  {
   "cell_type": "markdown",
   "metadata": {},
   "source": [
    "**Методы списков (List)**\n",
    "* list.append(x)Добавляет элемент в конец списка\n",
    "* list.extend(L)Расширяет список list, добавляя в конец все элементы списка L\n",
    "* list.insert(i, x)Вставляет на i-ый элемент значение x\n",
    "* list.remove(x)Удаляет первый элемент в списке, имеющий значение x. ValueError, если такого элемента не существует\n",
    "* list.pop([i])Удаляет i-ый элемент и возвращает его. Если индекс не указан, удаляется последний элемент\n",
    "* list.index(x, [start [, end]])Возвращает положение первого элемента со значением x (при этом поиск ведется от start до end)\n",
    "* list.count(x)Возвращает количество элементов со значением x\n",
    "* list.sort([key=функция])Сортирует список на основе функции\n",
    "* list.reverse()Разворачивает список\n",
    "* list.copy()Поверхностная копия списка\n",
    "* list.clear()Очищает список\n"
   ]
  },
  {
   "cell_type": "markdown",
   "metadata": {},
   "source": [
    "На вход подаётся 1 строка, слова в которой разделены пробелами.\n",
    "\n",
    "Напечатайте через пробел число слов в строке и число слов \"one\" в строке.\n",
    "\n",
    "\n",
    "\n",
    "Примечание1. Учитывайте вхождение только слова полностью в нижнем регистре - \"one\". \"One\", \"ONE\" и т.п. не учитывайте.\n",
    "\n",
    "Примечание2. Число элементов списка L можно получить с помощью конструкции len(L)"
   ]
  },
  {
   "cell_type": "code",
   "execution_count": 84,
   "metadata": {},
   "outputs": [
    {
     "name": "stdin",
     "output_type": "stream",
     "text": [
      " one cat and one dog are friends\n"
     ]
    },
    {
     "name": "stdout",
     "output_type": "stream",
     "text": [
      "7 2\n"
     ]
    }
   ],
   "source": [
    "s = input().split()\n",
    "\n",
    "print(len(s), s.count('one'))"
   ]
  },
  {
   "cell_type": "markdown",
   "metadata": {},
   "source": [
    "**map**\n",
    "Функция map позволяет применить какую-то функцию к каждому элементу списка.\n",
    "\n",
    "Такая операция будет полезна для перевода большого числа чисел из строкового типа (например, после получения их из input() в целочисленный (int) или тип с плавающей точкой (float)).\n",
    "\n",
    "Важно учитывать, что map возвращает не список, а итератор (что это такое мы обсудим позже). Поэтому имеет смысл привести результат к типу списка.\n",
    "\n",
    "\n",
    "\n",
    "map может работать с различными типами (а не только числами и строками), например, отсортируем числа в дочерних списках (но сами списки оставим на своих местах):\n",
    "\n",
    "для пущей ясности:\n",
    "\n",
    "L=[[2,6,3],[3,5,2],[3,9,1]]\n",
    "\n",
    "list(map(sorted, L))\n",
    "[[2, 3, 6], [2, 3, 5], [1, 3, 9]]\n",
    "\n",
    "L.sort()\n",
    "[[1, 3, 9], [2, 3, 5], [2, 3, 6]]\n",
    "\n",
    "list(map(min,L))\n",
    "[1, 2, 2]\n",
    "\n",
    "\n",
    "\n",
    "Примечание. Функция map может принимать любую функцию, в том числе вашу собственную."
   ]
  },
  {
   "cell_type": "markdown",
   "metadata": {},
   "source": [
    "Считайте строку, содержащую произвольное количество целых чисел и найдите их сумму."
   ]
  },
  {
   "cell_type": "code",
   "execution_count": 86,
   "metadata": {},
   "outputs": [
    {
     "name": "stdin",
     "output_type": "stream",
     "text": [
      " 99 234 34 1 0 -5 55 666 42\n"
     ]
    },
    {
     "name": "stdout",
     "output_type": "stream",
     "text": [
      "1126\n"
     ]
    }
   ],
   "source": [
    "s = list(map(int, input().split()))\n",
    "print(sum(s))"
   ]
  },
  {
   "cell_type": "markdown",
   "metadata": {},
   "source": [
    "**zip**\n",
    "Полезная функция, для манипуляций со списками. Самое распространённое применение - создание нового списка из \"пар\" соответствующих элементов.\n",
    "\n",
    "Следует учитывать, что zip возвращает итератор в python3 (об итераторах позднее) и непосредственно список в python2:\n"
   ]
  },
  {
   "cell_type": "code",
   "execution_count": 87,
   "metadata": {},
   "outputs": [
    {
     "data": {
      "text/plain": [
       "<zip at 0x10818e148>"
      ]
     },
     "execution_count": 87,
     "metadata": {},
     "output_type": "execute_result"
    }
   ],
   "source": [
    "L1 = (1, 2, 3)\n",
    "L2 = ('one', 'two', 'three')\n",
    "\n",
    "zip(L1, L2)"
   ]
  },
  {
   "cell_type": "code",
   "execution_count": 88,
   "metadata": {},
   "outputs": [
    {
     "data": {
      "text/plain": [
       "[(1, 'one'), (2, 'two'), (3, 'three')]"
      ]
     },
     "execution_count": 88,
     "metadata": {},
     "output_type": "execute_result"
    }
   ],
   "source": [
    "list(zip(L1, L2))"
   ]
  },
  {
   "cell_type": "markdown",
   "metadata": {},
   "source": [
    "Конечно же на самом деле далеко не обязательно пары. Если в zip передать несколько объектов, то он объединит в каждом кортеже по 1 элементу из каждого:"
   ]
  },
  {
   "cell_type": "code",
   "execution_count": 89,
   "metadata": {},
   "outputs": [
    {
     "data": {
      "text/plain": [
       "[(1, 'one', '111'), (2, 'two', '222'), (3, 'three', 333)]"
      ]
     },
     "execution_count": 89,
     "metadata": {},
     "output_type": "execute_result"
    }
   ],
   "source": [
    "L3 = ('111', '222', 333)\n",
    "list(zip(L1, L2, L3))"
   ]
  },
  {
   "cell_type": "markdown",
   "metadata": {},
   "source": [
    "Т.к. на вход была передано 3 списка, то получился список троек.\n",
    "\n",
    "\n",
    "Следует быть аккуратными с объектами разной длины, т.к. результат будет соответствовать минимальному списку.\n",
    "\n",
    "Добавим список длины 4 (на 1 больше, чем остальные):"
   ]
  },
  {
   "cell_type": "code",
   "execution_count": 90,
   "metadata": {},
   "outputs": [
    {
     "data": {
      "text/plain": [
       "[(1, 'one', '111', 'один'), (2, 'two', '222', 'два'), (3, 'three', 333, 'три')]"
      ]
     },
     "execution_count": 90,
     "metadata": {},
     "output_type": "execute_result"
    }
   ],
   "source": [
    "L4 = ('один', 'два', 'три', 'четыре')\n",
    "list(zip(L1, L2, L3, L4))"
   ]
  },
  {
   "cell_type": "markdown",
   "metadata": {},
   "source": [
    "Как видим строка \"четыре\" потерялась...\n",
    "\n",
    "Передавать в zip можно не только списки, но и любые итерируемые объекты, например, строки и генераторы. Добавим индексы (начиная с 0), используя генератор range:"
   ]
  },
  {
   "cell_type": "code",
   "execution_count": 93,
   "metadata": {},
   "outputs": [
    {
     "data": {
      "text/plain": [
       "[(0, 1, 'one', '111'), (1, 2, 'two', '222'), (2, 3, 'three', 333)]"
      ]
     },
     "execution_count": 93,
     "metadata": {},
     "output_type": "execute_result"
    }
   ],
   "source": [
    "list(zip(range(len(L1)), L1, L2, L3))"
   ]
  },
  {
   "cell_type": "markdown",
   "metadata": {},
   "source": [
    "**zip(*[iter(s)] * n)**\n",
    "\n",
    "Конструкция для кластеризации.\n",
    "\n",
    "Например, для превращения плоского списка чисел от 1 до 9 в матрицу 3 на 3:"
   ]
  },
  {
   "cell_type": "code",
   "execution_count": 95,
   "metadata": {},
   "outputs": [
    {
     "data": {
      "text/plain": [
       "[(1, 2, 3), (4, 5, 6), (7, 8, 9)]"
      ]
     },
     "execution_count": 95,
     "metadata": {},
     "output_type": "execute_result"
    }
   ],
   "source": [
    "L = [1, 2, 3, 4, 5, 6, 7, 8, 9]\n",
    "list(zip(*[iter(L)] * 3))"
   ]
  },
  {
   "cell_type": "code",
   "execution_count": 105,
   "metadata": {},
   "outputs": [
    {
     "name": "stdout",
     "output_type": "stream",
     "text": [
      "<list_iterator object at 0x103cc6198>\n",
      "[<list_iterator object at 0x103cc6198>, <list_iterator object at 0x103cc6198>, <list_iterator object at 0x103cc6198>]\n",
      "[<list_iterator object at 0x103cc6198>, <list_iterator object at 0x103cc6198>, <list_iterator object at 0x103cc6198>]\n",
      "[(1, 2, 3), (4, 5, 6), (7, 8, 9)]\n",
      "[(1, 2, 3), (4, 5, 6), (7, 8, 9)]\n"
     ]
    }
   ],
   "source": [
    "# что тут происходит:\n",
    "# создаем итератор для списка L\n",
    "iterator = iter(L)\n",
    "print(iterator)\n",
    "\n",
    "# умножаем его на n и получаем n одинаковых итераторов\n",
    "# походе на умножение строки - повторение n раз\n",
    "n = 3\n",
    "iters = [iterator] * n\n",
    "print(iters)\n",
    "\n",
    "# что аналогично такой записи\n",
    "print([iterator, iterator, iterator])\n",
    "\n",
    "# распаковываем список итераторов для передачи в zip и передаем\n",
    "print(list(zip(*iters)))\n",
    "\n",
    "# что аналогично записи\n",
    "iterator = iter(L)\n",
    "print(list(zip(iterator, iterator, iterator)))"
   ]
  },
  {
   "cell_type": "markdown",
   "metadata": {},
   "source": [
    "**Копирование списков**\n",
    "\n",
    "Поверхностное копирование\n",
    "Подходит для копирования одноуровневых списков, т.е. списков вида:\n",
    "\n",
    "    L = [1, 'two', 3.0]\n",
    "\n",
    "1. метод copy()\n",
    "2. срез по всем элементам [:]\n",
    "3. Конструктор list()\n",
    "\n",
    "\n",
    "\n",
    "**А как же многоуровневые списки?**\n",
    "Т.е. списки списков:\n",
    "\n",
    "L = [[1, 2, 3], [4, 5, 6], [7, 8 ,9]]\n",
    "\n",
    "К сожалению, ни один из выше упомянутых способов не гарантирует сохранности их содержимого\n",
    "\n",
    "**Глубокое копирование**\n",
    "Можно всегда пройтись по дочерним элементам списка (и по их дочерним элементам), если необходимо в цикле. Однако есть более эффективный путь:\n",
    "\n",
    "4. функция deepcopy модуля copy\n",
    "\n",
    "https://docs.python.org/3/library/copy.html\n",
    "\n",
    "Т.е. процесс состоит из 2 частей:\n",
    "импортируем модуль copy (или только функцию deepcopy из него)\n",
    "применяем функцию deepcopy к исходному списку, а полученный результат сохраняем в новую переменную\n",
    "\n",
    "Например:\n",
    "\n",
    "from copy import deepcopy\n",
    "L2 = deepcopy(L1) "
   ]
  },
  {
   "cell_type": "code",
   "execution_count": 109,
   "metadata": {},
   "outputs": [
    {
     "name": "stdout",
     "output_type": "stream",
     "text": [
      "['mix', 'extra', '', 'x-files', 'xyz', 'xapple', 'apple']\n"
     ]
    }
   ],
   "source": [
    "s = \"['mix', 'extra', '', 'x-files', 'xyz', 'xapple', 'apple']\"\n",
    "L = list(s[2:-2].split(\"', '\"))\n",
    "print(L)"
   ]
  },
  {
   "cell_type": "markdown",
   "metadata": {},
   "source": [
    "Считайте число (см таблицу) в арабской записи и выведите на печать, соответствующую ему римскую цифру:\n",
    "1 - I\n",
    "5 - V\n",
    "10 - X\n",
    "50 - L\n",
    "100 - C\n",
    "500 - D\n",
    "1000 - M\n"
   ]
  },
  {
   "cell_type": "code",
   "execution_count": 111,
   "metadata": {},
   "outputs": [
    {
     "name": "stdin",
     "output_type": "stream",
     "text": [
      " 100\n"
     ]
    },
    {
     "name": "stdout",
     "output_type": "stream",
     "text": [
      "C\n"
     ]
    }
   ],
   "source": [
    "d = {1: 'I', 5: 'V', 10: 'X', 50: 'L', 100: 'C', 500: 'D', 1000: 'M'}\n",
    "n = int(input())\n",
    "print(d[n])"
   ]
  },
  {
   "cell_type": "markdown",
   "metadata": {},
   "source": [
    "Считайте строку.\n",
    "\n",
    "Если она содержит число 0, выведите на печать фразу \"Division by zero!\"\n",
    "\n",
    "Если она содержит число, отличное от 0, то считайте ещё одну строку, содержащую число, и напечатайте результат деления 2-ого числа на 1-е. Результат деления округлите до 1 знака после запятой (используйте round)."
   ]
  },
  {
   "cell_type": "code",
   "execution_count": 113,
   "metadata": {},
   "outputs": [
    {
     "name": "stdin",
     "output_type": "stream",
     "text": [
      " 0\n"
     ]
    },
    {
     "name": "stdout",
     "output_type": "stream",
     "text": [
      "Division by zero!\n"
     ]
    }
   ],
   "source": [
    "s1 = int(input())\n",
    "if s1 == 0:\n",
    "    print('Division by zero!')\n",
    "else:\n",
    "    s2 = int(input())\n",
    "    print(round(s2 / s1, 1))"
   ]
  },
  {
   "cell_type": "markdown",
   "metadata": {},
   "source": [
    "Пора объединить полученные знания.\n",
    "\n",
    "Считайте 1 строку. Она содержит строку с названием типа последующих данных. Возможны 3 типа:\n",
    "\n",
    "int\n",
    "str\n",
    "list\n",
    "В случае получения другого типа выведите на печать строку \"Unknown type\".\n",
    "\n",
    "\n",
    "Если получен тип 'int':\n",
    "\n",
    "Считайте ещё 2 строки. Каждая будет содержать целое число.\n",
    "\n",
    "Если оба числа равны 0, выведите на печать строку \"Empty Ints\"\n",
    "Иначе выведите на печать сумму этих чисел\n",
    "\n",
    "\n",
    "Если получен тип 'str':\n",
    "\n",
    "Считайте ещё 1 строку.\n",
    "\n",
    "Если строка пустая, выведите на печать строку \"Empty String\"\n",
    "Иначе напечатайте эту строку\n",
    "\n",
    "\n",
    "Если получен тип 'list':\n",
    "\n",
    "Считайте 1 строку и разрежьте её на элементы с помощью split().\n",
    "\n",
    "Если получившийся список пустой, выведите на печать строку \"Empty List\"\n",
    "Иначе выведите на печать последний элемент списка. Примечание, используйте отрицательный индекс.\n",
    "\n",
    "Используйте приведение типов для определения пустых списков и строк, а так же чисел, равных 0."
   ]
  },
  {
   "cell_type": "code",
   "execution_count": 120,
   "metadata": {},
   "outputs": [
    {
     "name": "stdin",
     "output_type": "stream",
     "text": [
      " list\n",
      " 2 3 4\n"
     ]
    },
    {
     "name": "stdout",
     "output_type": "stream",
     "text": [
      "4\n"
     ]
    }
   ],
   "source": [
    "s = input()\n",
    "\n",
    "if s not in ('int', 'str', 'list'):\n",
    "    print('Unknown type')\n",
    "\n",
    "if s == 'int':\n",
    "    n1, n2 = (int(input()) for i in range(2))\n",
    "    if n1 or n2:\n",
    "        print(n1 + n2)\n",
    "    else:\n",
    "        print('Empty Ints')\n",
    "        \n",
    "if s == 'str':\n",
    "    s1 = input()\n",
    "    print(s1 if s1 else 'Empty String')\n",
    "    \n",
    "if s == 'list':\n",
    "    s1 = input().split()\n",
    "    print(s1[-1] if s1 else 'Empty List')"
   ]
  },
  {
   "cell_type": "code",
   "execution_count": null,
   "metadata": {},
   "outputs": [],
   "source": [
    "Считайте натуральное число n.\n",
    "\n",
    "Выведите на печать все числа от 0 до n, включительно, каждое с новой строки"
   ]
  },
  {
   "cell_type": "code",
   "execution_count": 126,
   "metadata": {},
   "outputs": [
    {
     "name": "stdin",
     "output_type": "stream",
     "text": [
      " 5\n"
     ]
    },
    {
     "name": "stdout",
     "output_type": "stream",
     "text": [
      "0\n",
      "1\n",
      "2\n",
      "3\n",
      "4\n",
      "5\n"
     ]
    }
   ],
   "source": [
    "n = int(input())\n",
    "for i in range(n+1):\n",
    "    print(i)\n",
    "   "
   ]
  },
  {
   "cell_type": "code",
   "execution_count": 127,
   "metadata": {},
   "outputs": [
    {
     "name": "stdin",
     "output_type": "stream",
     "text": [
      " 3\n"
     ]
    },
    {
     "name": "stdout",
     "output_type": "stream",
     "text": [
      "0\n",
      "1\n",
      "2\n",
      "3\n"
     ]
    },
    {
     "data": {
      "text/plain": [
       "[None, None, None, None]"
      ]
     },
     "execution_count": 127,
     "metadata": {},
     "output_type": "execute_result"
    }
   ],
   "source": [
    "[print(i) for i in range(int(input())+1)]"
   ]
  },
  {
   "cell_type": "markdown",
   "metadata": {},
   "source": [
    "Считайте натуральное число n.\n",
    "\n",
    "Выведите на печать все квадраты чётных чисел от 0 до n-1 (включительно), каждый с новой строки."
   ]
  },
  {
   "cell_type": "code",
   "execution_count": 137,
   "metadata": {},
   "outputs": [
    {
     "name": "stdin",
     "output_type": "stream",
     "text": [
      " 5\n"
     ]
    },
    {
     "name": "stdout",
     "output_type": "stream",
     "text": [
      "0\n",
      "4\n",
      "16\n",
      "0\n",
      "4\n",
      "16\n"
     ]
    }
   ],
   "source": [
    "n = int(input())\n",
    "kv = [i ** 2 for i in range(0, n, 2)]\n",
    "    \n",
    "print(*kv, sep = '\\n')"
   ]
  },
  {
   "cell_type": "markdown",
   "metadata": {},
   "source": [
    "Считывайте целые числа из потока ввода по одному до тех пор, пока не встретите строку \"The End\".\n",
    "\n",
    "Выведите на печать сумму считанных чисел."
   ]
  },
  {
   "cell_type": "code",
   "execution_count": 140,
   "metadata": {},
   "outputs": [
    {
     "name": "stdin",
     "output_type": "stream",
     "text": [
      " 0\n",
      " 2\n",
      " 3\n",
      " 5\n",
      " The End\n"
     ]
    },
    {
     "name": "stdout",
     "output_type": "stream",
     "text": [
      "10\n"
     ]
    }
   ],
   "source": [
    "s = input()\n",
    "summa = 0\n",
    "while s != 'The End':\n",
    "    summa += int(s)\n",
    "    s = input()\n",
    "print(summa)"
   ]
  },
  {
   "cell_type": "markdown",
   "metadata": {},
   "source": [
    "На вход подаётся строка, некоторые слова в которой \"испорчены\".\n",
    "\n",
    "Признак \"испорченного\" слова - 1я буква в нём заменена на *.\n",
    "\n",
    "Выведете на печать только \"не испорченные\" слова, каждое с новой строки"
   ]
  },
  {
   "cell_type": "code",
   "execution_count": 141,
   "metadata": {},
   "outputs": [
    {
     "name": "stdin",
     "output_type": "stream",
     "text": [
      " exaggeration *romotion run into admit exactly *idelity *erspective treat check certain\n"
     ]
    },
    {
     "name": "stdout",
     "output_type": "stream",
     "text": [
      "exaggeration\n",
      "run\n",
      "into\n",
      "admit\n",
      "exactly\n",
      "treat\n",
      "check\n",
      "certain\n"
     ]
    }
   ],
   "source": [
    "s = input().split()\n",
    "\n",
    "for word in s:\n",
    "    if word[0] == '*':\n",
    "        continue\n",
    "    print(word)"
   ]
  },
  {
   "cell_type": "markdown",
   "metadata": {},
   "source": [
    "Считайте натуральное число n\n",
    "Найдите самый маленький натуральный делитель числа n, отличный от 1 (2 <= n <= 30000)."
   ]
  },
  {
   "cell_type": "code",
   "execution_count": 146,
   "metadata": {},
   "outputs": [
    {
     "name": "stdin",
     "output_type": "stream",
     "text": [
      " 30000\n"
     ]
    },
    {
     "name": "stdout",
     "output_type": "stream",
     "text": [
      "2\n"
     ]
    }
   ],
   "source": [
    "n = int(input())\n",
    "for i in range(2, n + 1):\n",
    "    if not n % i:\n",
    "        print(i)\n",
    "        break"
   ]
  },
  {
   "cell_type": "markdown",
   "metadata": {},
   "source": [
    "Считайте целое число n\n",
    "Напечатайте кубы всех натуральных чисел, меньших |n|, каждое с новой строки."
   ]
  },
  {
   "cell_type": "code",
   "execution_count": 147,
   "metadata": {},
   "outputs": [
    {
     "name": "stdin",
     "output_type": "stream",
     "text": [
      " 3\n"
     ]
    },
    {
     "name": "stdout",
     "output_type": "stream",
     "text": [
      "0\n",
      "1\n",
      "8\n"
     ]
    }
   ],
   "source": [
    "n = int(input())\n",
    "\n",
    "for i in range(abs(n)):\n",
    "    print(i ** 3)"
   ]
  },
  {
   "cell_type": "markdown",
   "metadata": {},
   "source": [
    "Напишите функцию Hello, которая принимает 1 необязательный параметр:\n",
    "\n",
    "Если параметр не задан, то функция выводит на печать сообщение \"Hello, %UserName%!\"\n",
    "Если параметр задан, то вместо %UserName% в приветствии выводится переданное значение\n",
    "\n",
    "\n",
    "Примечание. В этой задаче не нужно вызывать функцию, ничего считывать и ничего выводить на печать. Только реализовать функцию, которая умеет печатать."
   ]
  },
  {
   "cell_type": "code",
   "execution_count": 156,
   "metadata": {},
   "outputs": [],
   "source": [
    "def Hello(name = '%UserName%'):\n",
    "    print(f'Hello, {name}!')"
   ]
  },
  {
   "cell_type": "markdown",
   "metadata": {},
   "source": [
    "Напишите функцию, для нахождения двойного факториала числа dfactorial(n).\n",
    "\n",
    "Двойной факториал числа n обозначается n‼ и определяется как произведение всех натуральных чисел в отрезке [1,n], имеющих ту же чётность, что и n.\n",
    "\n",
    "Для чётного n:     n!!=2⋅4⋅6⋅…⋅nn!!=2⋅4⋅6⋅…⋅n\n",
    "Для нечётного n: n!!=1⋅3⋅5⋅…⋅nn!!=1⋅3⋅5⋅…⋅n"
   ]
  },
  {
   "cell_type": "code",
   "execution_count": 158,
   "metadata": {},
   "outputs": [],
   "source": [
    "def dfactorial(n):\n",
    "    if n <= 0:\n",
    "        return 1\n",
    "    return n * dfactorial(n - 2)"
   ]
  },
  {
   "cell_type": "code",
   "execution_count": 165,
   "metadata": {},
   "outputs": [
    {
     "data": {
      "text/plain": [
       "15"
      ]
     },
     "execution_count": 165,
     "metadata": {},
     "output_type": "execute_result"
    }
   ],
   "source": [
    "dfactorial(5)"
   ]
  },
  {
   "cell_type": "markdown",
   "metadata": {},
   "source": [
    "Напишите функцию для нахождения кратного факториала числа Kfactorial.\n",
    "\n",
    "Функция factorial должна иметь 2 параметра:\n",
    "\n",
    "n - число для которого вычисляется факториал (обязательный)\n",
    "k - кратность факториала (необязательный, значение по-умолчанию - 1)\n",
    "По сути кратный факториал это продолжение идеи двойного факториала. Только теперь \"шаг\" при вычислении не 2, а k.\n",
    "\n",
    "Математика:\n",
    "\n",
    "n\\underbrace{!!\\ldots !}_m = \\prod_{i=1}^k (mi-r) = (m\\cdot 1 - r)\\cdot (m\\cdot 2 - r)\\cdot (m\\cdot 3 - r)\\cdot \\ldots \\cdot (m\\cdot (k-1) - r) \\cdot (m\\cdot k - r)n \n",
    "m\n",
    "!!…!\n",
    "​\t\n",
    " \n",
    "​\t\n",
    " =∏ \n",
    "i=1\n",
    "k\n",
    "​\t\n",
    " (mi−r)=(m⋅1−r)⋅(m⋅2−r)⋅(m⋅3−r)⋅…⋅(m⋅(k−1)−r)⋅(m⋅k−r)\n",
    "\n",
    "где, rr - число из множества \\{0,1, \\ldots , m-1\\}{0,1,…,m−1} , т.е. \"остаток\" от kk уменьшений исходного числа nn на mm за 1 шаг.\n",
    "\n",
    "Тогда легко показать, что для числа n-m аналогичный кратный факториал будет:\n",
    "\n",
    "(n-m)\\underbrace{!!\\ldots !}_m = \\prod_{i=1}^{k-1} (mi-r) = (m\\cdot 1 - r)\\cdot (m\\cdot 2 - r)\\cdot (m\\cdot 3 - r)\\cdot \\ldots \\cdot (m\\cdot (k-1) - r)(n−m) \n",
    "m\n",
    "!!…!\n",
    "​\t\n",
    " \n",
    "​\t\n",
    " =∏ \n",
    "i=1\n",
    "k−1\n",
    "​\t\n",
    " (mi−r)=(m⋅1−r)⋅(m⋅2−r)⋅(m⋅3−r)⋅…⋅(m⋅(k−1)−r)\n",
    "\n",
    "Это позволяет нам получить связь между \"шагами\" факториала:\n",
    "\n",
    "n\\underbrace{!!\\ldots !}_m = (n-m)\\underbrace{!!\\ldots !}_m \\cdot (m\\cdot k - r)n \n",
    "m\n",
    "!!…!\n",
    "​\t\n",
    " \n",
    "​\t\n",
    " =(n−m) \n",
    "m\n",
    "!!…!\n",
    "​\t\n",
    " \n",
    "​\t\n",
    " ⋅(m⋅k−r)\n",
    "\n",
    "При этом легко заметить, что последним шагом будет:\n",
    "\n",
    "\\tilde{n}\\underbrace{!!\\ldots !}_m = (m - r) \n",
    "n\n",
    "~\n",
    "  \n",
    "m\n",
    "!!…!\n",
    "​\t\n",
    " \n",
    "​\t\n",
    " =(m−r) , при условии, что \\tilde{n} \\lt m \n",
    "n\n",
    "~\n",
    " <m\n",
    "\n",
    "\n",
    "\n",
    "Пример:\n",
    "\n",
    "5!! = (2 \\cdot 1 - 1) \\cdot (2 \\cdot 2 - 1) \\cdot (2 \\cdot 3 - 1) = 1 \\cdot 3 \\cdot 55!!=(2⋅1−1)⋅(2⋅2−1)⋅(2⋅3−1)=1⋅3⋅5\n",
    "\n",
    "5!!! = (3 \\cdot 1 - 1) \\cdot (3 \\cdot 2 - 1) = 2 \\cdot 55!!!=(3⋅1−1)⋅(3⋅2−1)=2⋅5\n",
    "\n",
    "\n",
    "\n",
    "Отсюда легко сформулировать 2 правила:\n",
    "\n",
    "Условие остановки рекурсии - Kfactorial(n, k) = n, если n<=k\n",
    "Шаг рекурсии -  Kfactorial(n, k) = n *  Kfactorial(n-k, k), если n > k\n",
    "\n",
    "\n",
    "ВАЖНО!\n",
    "\n",
    "Не забываем про числа, кратные степени факториала:\n",
    "\n",
    "6!!! = (3 \\cdot 1 - 0) \\cdot (3 \\cdot 2 - 0) = 3 \\cdot 66!!!=(3⋅1−0)⋅(3⋅2−0)=3⋅6\n",
    "\n",
    "Примечание. В этой задаче не нужно ничего считывать и ничего выводить на печать. Только реализовать функцию."
   ]
  },
  {
   "cell_type": "code",
   "execution_count": 181,
   "metadata": {},
   "outputs": [],
   "source": [
    "def Kfactorial(n, k = 1):\n",
    "    if n in (0, 1):\n",
    "        return 1\n",
    "    if n <= k:\n",
    "        return n\n",
    "    return n * Kfactorial(n - k, k)"
   ]
  },
  {
   "cell_type": "markdown",
   "metadata": {},
   "source": [
    "Напишите функцию convert(L), принимающую на вход список, состоящий из чисел и строк вида:\n",
    "\n",
    "[1, 2, '3', '4', '5', 6]\n",
    "и возвращающую список целых чисел (в том же порядке):\n",
    "\n",
    "[1, 2, 3, 4, 5, 6]\n",
    "Примечание. В этой задаче не нужно ничего считывать и ничего выводить на печать. Только реализовать функцию."
   ]
  },
  {
   "cell_type": "code",
   "execution_count": 190,
   "metadata": {},
   "outputs": [
    {
     "data": {
      "text/plain": [
       "[1, 2, 3, 4, 5, 6]"
      ]
     },
     "execution_count": 190,
     "metadata": {},
     "output_type": "execute_result"
    }
   ],
   "source": [
    "def convert(L):\n",
    "    return [int(i) for i in L]\n",
    "\n",
    "convert([1, 2, '3', '4', '5', 6])"
   ]
  },
  {
   "cell_type": "markdown",
   "metadata": {},
   "source": [
    "Напишите функцию перевода числа из десятичной системы счисления в систему с основанием n\n",
    "\n",
    "Функция translate должна принимать 2 параметра:\n",
    "\n",
    "обязательный (исходное целое число в десятичной системе счисления)\n",
    "необязательный, по-умолчанию 2 (основание новой системы счисления, в которую переводится число)\n",
    "Примечание 1. Все новые системы счисления имеют основание меньше 10\n",
    "\n",
    "Примечание 2. В этой задаче не нужно ничего считывать и ничего выводить на печать. Только реализовать функцию.\n",
    "\n",
    "\n",
    "\n",
    "\n",
    "\n",
    "Для перевода из привычной нам десятичной системы исчисления в систему по основанию n, необходимо:\n",
    "\n",
    "разделить исходное число на n\n",
    "записать остаток от деления (шаг 1)\n",
    "для результата деления (шаг 1) повторить операцию с шага 1\n",
    "если результат деления равен 0, прекратить операцию\n",
    "Составить число в новой системе счисления из остатков (от последнего вычисленного к первому)\n",
    "На примере перевода из десятичной системы в двоичную:\n",
    "\n",
    "Допустим, нам нужно перевести число 19 в двоичное. Вы можете воспользоваться следующей процедурой :\n",
    "\n",
    "19 /2 = 9 с остатком 1\n",
    "9 /2 = 4 c остатком 1\n",
    "4 /2 = 2 без остатка 0\n",
    "2 /2 = 1 без остатка 0\n",
    "1 /2 = 0 с остатком 1\n",
    "\n",
    "Итак, мы делим каждое частное на 2 и записываем остаток в конец двоичной записи. Продолжаем деление до тех пор, пока в частном не будет 0. Результат записываем справа налево. То есть нижняя цифра (1) будет самой левой и т.д. В результате получаем число 19 в двоичной записи: 10011.\n",
    "\n"
   ]
  },
  {
   "cell_type": "code",
   "execution_count": 207,
   "metadata": {},
   "outputs": [
    {
     "name": "stdout",
     "output_type": "stream",
     "text": [
      "10011\n"
     ]
    }
   ],
   "source": [
    "def translate(n, k=2):\n",
    "    s = ''\n",
    "    while n > 0:\n",
    "        s = str(n % k) + s\n",
    "        n = n // k\n",
    "    return s\n",
    "\n",
    "print(translate(19, 2))"
   ]
  },
  {
   "cell_type": "code",
   "execution_count": 208,
   "metadata": {},
   "outputs": [],
   "source": [
    "# с рекурсией\n",
    "def translate(n, k=2):\n",
    "    return n % k if n < k else n % k + translate(n // k, k)*10"
   ]
  },
  {
   "cell_type": "code",
   "execution_count": 209,
   "metadata": {},
   "outputs": [
    {
     "data": {
      "text/plain": [
       "10011"
      ]
     },
     "execution_count": 209,
     "metadata": {},
     "output_type": "execute_result"
    }
   ],
   "source": [
    "translate(19, 2)"
   ]
  },
  {
   "cell_type": "markdown",
   "metadata": {},
   "source": [
    "Напишите 2 функции:\n",
    "\n",
    "для нахождения факториала числа factorial(n) = n!=1\\cdot2\\cdot3\\cdot \\ldots \\cdot nfactorial(n)=n!=1⋅2⋅3⋅…⋅n\n",
    "для нахождения суперфакториала числа - {\\displaystyle \\operatorname {sf} (n)=1!\\cdot 2!\\cdot 3!\\cdot \\ldots \\cdot n!}sf(n)=1!⋅2!⋅3!⋅…⋅n!\n",
    "Используйте функцию факториала для вычисления суперфакториала, чтобы сократить объём кода.\n",
    "\n",
    " \n",
    "\n",
    "Примечание. В этой задаче не нужно ничего считывать и ничего выводить на печать. Только реализовать функцию.\n"
   ]
  },
  {
   "cell_type": "code",
   "execution_count": 211,
   "metadata": {},
   "outputs": [],
   "source": [
    "def factorial(n):\n",
    "    if n < 1:\n",
    "        return 1\n",
    "    return n * factorial(n - 1)\n",
    "\n",
    "def sf(n):\n",
    "    if n < 1:\n",
    "        return 1\n",
    "    return factorial(n) * sf(n - 1)"
   ]
  },
  {
   "cell_type": "code",
   "execution_count": 215,
   "metadata": {},
   "outputs": [
    {
     "name": "stdout",
     "output_type": "stream",
     "text": [
      "1 1\n",
      "1 1\n",
      "2 2\n",
      "6 12\n",
      "24 288\n",
      "120 34560\n"
     ]
    }
   ],
   "source": [
    "print(factorial(0), sf(0))\n",
    "print(factorial(1), sf(1))\n",
    "print(factorial(2), sf(2))\n",
    "print(factorial(3), sf(3))\n",
    "print(factorial(4), sf(4))\n",
    "print(factorial(5), sf(5))"
   ]
  },
  {
   "cell_type": "markdown",
   "metadata": {},
   "source": [
    "Напишите функцию maxId(L), принимающую на вход список чисел и строк вида:\n",
    "\n",
    "[1, 2, '42', '3', '4', '5', 6, 13]\n",
    "без повторений, и находящую индекс максимального целого числа в списке.\n",
    "\n",
    "Используйте ранее написанную функцию convert(L).\n",
    "\n",
    "\n",
    "\n",
    "Примечание. В этой задаче не нужно ничего считывать и ничего выводить на печать. Только реализовать функцию."
   ]
  },
  {
   "cell_type": "code",
   "execution_count": 218,
   "metadata": {},
   "outputs": [],
   "source": [
    "def convert(L):\n",
    "    return [int(i) for i in L]\n",
    "\n",
    "def maxId(L):\n",
    "    L = convert(L)\n",
    "    k = 0\n",
    "    max_el = L[0]\n",
    "    for i in range(1, len(L)):\n",
    "        if L[i] > max_el:\n",
    "            k = i\n",
    "            max_el = L[i]\n",
    "    return k"
   ]
  },
  {
   "cell_type": "code",
   "execution_count": 219,
   "metadata": {},
   "outputs": [
    {
     "data": {
      "text/plain": [
       "2"
      ]
     },
     "execution_count": 219,
     "metadata": {},
     "output_type": "execute_result"
    }
   ],
   "source": [
    "maxId([1, 2, '42', '3', '4', '5', 6, 13])"
   ]
  },
  {
   "cell_type": "code",
   "execution_count": 220,
   "metadata": {},
   "outputs": [],
   "source": [
    "def maxId(L):\n",
    "    L = list(map(int, L))\n",
    "    return L.index(max(L))"
   ]
  },
  {
   "cell_type": "code",
   "execution_count": 221,
   "metadata": {},
   "outputs": [
    {
     "data": {
      "text/plain": [
       "2"
      ]
     },
     "execution_count": 221,
     "metadata": {},
     "output_type": "execute_result"
    }
   ],
   "source": [
    "maxId([1, 2, '42', '3', '4', '5', 6, 13])"
   ]
  },
  {
   "cell_type": "markdown",
   "metadata": {},
   "source": [
    "**Работа с Файлами**"
   ]
  },
  {
   "cell_type": "code",
   "execution_count": null,
   "metadata": {},
   "outputs": [],
   "source": [
    "Откройте файл, имя которого передаётся на вход, и выведите содержимое на печать."
   ]
  },
  {
   "cell_type": "code",
   "execution_count": 222,
   "metadata": {},
   "outputs": [
    {
     "name": "stdin",
     "output_type": "stream",
     "text": [
      " file.txt\n"
     ]
    },
    {
     "name": "stdout",
     "output_type": "stream",
     "text": [
      "file_txt.txt\n",
      "file_ans.txt\n",
      "2\n"
     ]
    }
   ],
   "source": [
    "s = input()\n",
    "with open(s) as f:\n",
    "    s = f.read()\n",
    "print(s)"
   ]
  },
  {
   "cell_type": "code",
   "execution_count": null,
   "metadata": {},
   "outputs": [],
   "source": [
    "Откройте файл, имя которого передаётся на вход.\n",
    "\n",
    "Файл содержит произвольное количество целых чисел, каждое с новой строки.\n",
    "\n",
    "Выведите на печать сумму всех целых чисел, записанных в файле."
   ]
  },
  {
   "cell_type": "code",
   "execution_count": null,
   "metadata": {},
   "outputs": [],
   "source": [
    "s = []\n",
    "with open(input()) as f:\n",
    "    s = list(map(int,f.readlines()))\n",
    "print(sum(s))"
   ]
  },
  {
   "cell_type": "markdown",
   "metadata": {},
   "source": [
    "Откройте файл, имя которого передаётся на вход.\n",
    "\n",
    "Выведите на печать предпоследнюю строку."
   ]
  },
  {
   "cell_type": "code",
   "execution_count": null,
   "metadata": {},
   "outputs": [],
   "source": [
    "with open(input()) as f:\n",
    "    print(f.readlines()[-2])"
   ]
  },
  {
   "cell_type": "markdown",
   "metadata": {},
   "source": [
    "Представьте себя сотрудником деканата. Преподаватели предоставляют вам по 2 файла, имена которых находятся в переменных:\n",
    "\n",
    "sheet - экзаменационную ведомость с фамилиями, именами и отчествами (если есть), оценками и статусами\n",
    "mean - среднюю оценку по группе\n",
    "Ведомость может выглядеть следующим образом:\n",
    "\n",
    "Аттила 2 (экзамен)\n",
    "Бонапарт Наполеон (неявка)\n",
    "Гассан Абдуррахман ибн Хоттаб 5 (автомат)\n",
    "Задойный Алексей Владимирович 5 (экзамен)\n",
    "Колонна-Валевский Александр Флориан Жозеф (недопуск)\n",
    "Цезарь Гай Юлий 4 (экзамен)\n",
    "Последнее значение (в скобках) - статус:\n",
    "\n",
    "экзамен - человек пришёл на экзамен и получил там оценку\n",
    "автомат - человек хорошо учился и получил оценку \"автоматом\" до экзамена\n",
    "неявка - человек не пришёл на экзамен и у него нет оценки\n",
    "недопуск - человек не сдал зачёт по физкультуре, а потому его не допустили к нашему экзамену\n",
    "Средняя оценка вычисляется только для тех, кто сдавал экзамен очно или получил автомат\n",
    "\n",
    "Ваша задача считать данные по всем студентам из файла, вычислить средний балл и сравнить его с тем, что указал преподаватель в mean.\n",
    "\n",
    "Если средний балл верен - напечатать \"OK\"\n",
    "\n",
    "Если средний балл рассчитан с ошибкой - напечатать \"ERROR\""
   ]
  },
  {
   "cell_type": "code",
   "execution_count": 232,
   "metadata": {},
   "outputs": [
    {
     "name": "stdout",
     "output_type": "stream",
     "text": [
      "[['Аттила', '2', '(экзамен)'], ['Бонапарт', 'Наполеон', '(неявка)'], ['Гассан', 'Абдуррахман', 'ибн', 'Хоттаб', '5', '(автомат)'], ['Задойный', 'Алексей', 'Владимирович', '5', '(экзамен)'], ['Колонна-Валевский', 'Александр', 'Флориан', 'Жозеф', '(недопуск)'], ['Цезарь', 'Гай', 'Юлий', '4', '(экзамен)']]\n",
      "экзамен\n",
      "неявка\n",
      "автомат\n",
      "экзамен\n",
      "недопуск\n",
      "экзамен\n",
      "ERROR\n"
     ]
    }
   ],
   "source": [
    "with open('sheet1.txt') as f:\n",
    "    s = [i.strip().split() for i in f.readlines()]\n",
    "\n",
    "\"\"\"with open(mean) as f:\n",
    "    m = int(f.readline().strip())\"\"\"\n",
    "print(s)    \n",
    "avg  = []\n",
    "for i in s:\n",
    "    print(i[-1][1: -1])\n",
    "    if i[-1][1: -1] in ('экзамен', 'автомат'):\n",
    "        avg.append(int(i[-2]))\n",
    "if 3.0 == sum(avg) / len(avg):\n",
    "    print('OK')\n",
    "else:\n",
    "    print('ERROR')"
   ]
  },
  {
   "cell_type": "code",
   "execution_count": null,
   "metadata": {},
   "outputs": [],
   "source": [
    "На вход подаётся полный путь к файлу относительно текущего каталога.\n",
    "\n",
    "Проверьте есть ли такой файл (и файл ли это) и если он есть - выведите содержимое. Иначе выведите одну из 2 ошибок."
   ]
  },
  {
   "cell_type": "code",
   "execution_count": 238,
   "metadata": {},
   "outputs": [
    {
     "name": "stdin",
     "output_type": "stream",
     "text": [
      " tmp\n"
     ]
    },
    {
     "name": "stdout",
     "output_type": "stream",
     "text": [
      "Это каталог, а не файл\n"
     ]
    }
   ],
   "source": [
    "p = input()\n",
    "import os.path\n",
    "if os.path.exists(p):\n",
    "    if os.path.isfile(p):\n",
    "        with open(p) as f:\n",
    "            print(f.read())\n",
    "    else:\n",
    "        print('Это каталог, а не файл')\n",
    "else:\n",
    "    print('Файл не существует')"
   ]
  },
  {
   "cell_type": "markdown",
   "metadata": {},
   "source": [
    "Считайте строку, подаваемую на вход и запишите её в файл \"output.txt\""
   ]
  },
  {
   "cell_type": "code",
   "execution_count": 243,
   "metadata": {},
   "outputs": [
    {
     "name": "stdin",
     "output_type": "stream",
     "text": [
      " jjjjj\n"
     ]
    }
   ],
   "source": [
    "with open('output.txt', 'w') as f:\n",
    "    f.write(input())"
   ]
  },
  {
   "cell_type": "markdown",
   "metadata": {},
   "source": [
    "event - переменная с текстом события\n",
    "file_name - имя файла с логом\n",
    "Файл с логом содержит записи о некоторых событиях вида:\n",
    "\n",
    "event 3 - 'git log -2'\n",
    "event 2 - 'git log'\n",
    "event 1 - 'git status'\n",
    "Пример нового события:\n",
    "\n",
    "git fetch origin\n",
    "Дополните лог в файле так, чтобы новое событие было записано вверху. Не забудьте указать порядковый номер события.\n",
    "\n",
    "event 4 - 'git fetch origin'\n",
    "event 3 - 'git log -2'\n",
    "event 2 - 'git log'\n",
    "event 1 - 'git status'\n",
    "Если файл отсутствует или не содержит записей, начните нумеровать события с 1.\n",
    "\n",
    "Не забывайте про переносы строк!\n",
    "\n",
    " \n",
    "\n",
    "Примечание. Гарантируется, что путь не указывает на каталог. Т.е. ситуация когда файла нет и его невозможно создать исключена.\n",
    "\n",
    "Примечание. В логе могут быть пустые строки"
   ]
  },
  {
   "cell_type": "code",
   "execution_count": 277,
   "metadata": {},
   "outputs": [
    {
     "name": "stdout",
     "output_type": "stream",
     "text": [
      "[[\"event 6 - 'efefef'\", 6], [\"event 5 - 'efefef'\", 5], '', [\"event 4 - 'efefef'\", 4], '', '', [\"event 3 - 'efefef'\", 3]]\n",
      "[[\"event 3 - 'efefef'\", 3], '', '', [\"event 4 - 'efefef'\", 4], '', [\"event 5 - 'efefef'\", 5], [\"event 6 - 'efefef'\", 6]]\n",
      "[[\"event 3 - 'efefef'\", 3], '', '', [\"event 4 - 'efefef'\", 4], '', [\"event 5 - 'efefef'\", 5], [\"event 6 - 'efefef'\", 6], [\"event 7 - 'efefef'\"]]\n"
     ]
    }
   ],
   "source": [
    "event = 'efefef'\n",
    "file_name = 'log1.txt'\n",
    "\n",
    "import os.path\n",
    "\n",
    "num = 1\n",
    "new = []\n",
    "\n",
    "if os.path.isfile(file_name):\n",
    "    old = []\n",
    "    with open(file_name) as f:\n",
    "        for i in f.readlines():\n",
    "            i = i.strip()\n",
    "            if i :\n",
    "                old.append([i, int(i.split()[1])])\n",
    "            else:\n",
    "                old.append('')\n",
    "\n",
    "    print(old)\n",
    "\n",
    "\n",
    "    if old :\n",
    "        new = old[:: -1]\n",
    "        print(new)\n",
    "        for i in old:\n",
    "            if i:\n",
    "                num = int(i[1])+1\n",
    "                break    \n",
    "\n",
    "    \n",
    "new.append([f'event {num} - \\'{event}\\''])\n",
    "print(new)    \n",
    "\n",
    "with open(file_name, 'w') as f:\n",
    "    for i in new[:: -1]:\n",
    "        f.write('\\n' if not i else i[0] + '\\n')"
   ]
  },
  {
   "cell_type": "code",
   "execution_count": 282,
   "metadata": {},
   "outputs": [
    {
     "ename": "IndexError",
     "evalue": "list index out of range",
     "output_type": "error",
     "traceback": [
      "\u001b[0;31m---------------------------------------------------------------------------\u001b[0m",
      "\u001b[0;31mIndexError\u001b[0m                                Traceback (most recent call last)",
      "\u001b[0;32m<ipython-input-282-1827725ce714>\u001b[0m in \u001b[0;36m<module>\u001b[0;34m\u001b[0m\n\u001b[1;32m      2\u001b[0m     \u001b[0;32mwith\u001b[0m \u001b[0mopen\u001b[0m\u001b[0;34m(\u001b[0m\u001b[0mfile_name\u001b[0m\u001b[0;34m,\u001b[0m \u001b[0;34m'r'\u001b[0m\u001b[0;34m)\u001b[0m \u001b[0;32mas\u001b[0m \u001b[0mf\u001b[0m\u001b[0;34m:\u001b[0m\u001b[0;34m\u001b[0m\u001b[0;34m\u001b[0m\u001b[0m\n\u001b[1;32m      3\u001b[0m         \u001b[0ml\u001b[0m \u001b[0;34m=\u001b[0m \u001b[0;34m[\u001b[0m\u001b[0mi\u001b[0m\u001b[0;34m.\u001b[0m\u001b[0msplit\u001b[0m\u001b[0;34m(\u001b[0m\u001b[0;34m)\u001b[0m \u001b[0;32mfor\u001b[0m \u001b[0mi\u001b[0m \u001b[0;32min\u001b[0m \u001b[0mf\u001b[0m\u001b[0;34m.\u001b[0m\u001b[0mreadlines\u001b[0m\u001b[0;34m(\u001b[0m\u001b[0;34m)\u001b[0m\u001b[0;34m]\u001b[0m\u001b[0;34m\u001b[0m\u001b[0;34m\u001b[0m\u001b[0m\n\u001b[0;32m----> 4\u001b[0;31m         \u001b[0mn\u001b[0m \u001b[0;34m=\u001b[0m \u001b[0mint\u001b[0m\u001b[0;34m(\u001b[0m\u001b[0ml\u001b[0m\u001b[0;34m[\u001b[0m\u001b[0;36m0\u001b[0m\u001b[0;34m]\u001b[0m\u001b[0;34m[\u001b[0m\u001b[0;36m1\u001b[0m\u001b[0;34m]\u001b[0m\u001b[0;34m)\u001b[0m \u001b[0;34m+\u001b[0m \u001b[0;36m1\u001b[0m\u001b[0;34m\u001b[0m\u001b[0;34m\u001b[0m\u001b[0m\n\u001b[0m\u001b[1;32m      5\u001b[0m \u001b[0;32mexcept\u001b[0m \u001b[0mFileNotFoundError\u001b[0m\u001b[0;34m:\u001b[0m\u001b[0;34m\u001b[0m\u001b[0;34m\u001b[0m\u001b[0m\n\u001b[1;32m      6\u001b[0m     \u001b[0mn\u001b[0m \u001b[0;34m=\u001b[0m \u001b[0;36m1\u001b[0m\u001b[0;34m\u001b[0m\u001b[0;34m\u001b[0m\u001b[0m\n",
      "\u001b[0;31mIndexError\u001b[0m: list index out of range"
     ]
    }
   ],
   "source": [
    "# чужое решение - падает если в файле первая строка пустая\n",
    "try:  \n",
    "    with open(file_name, 'r') as f:\n",
    "        l = [i.split() for i in f.readlines()]\n",
    "        n = int(l[0][1]) + 1\n",
    "except FileNotFoundError:\n",
    "    n = 1\n",
    "    l = []\n",
    "    \n",
    "temp = ['event', str(n), '-', \"'\" + event + \"'\"]\n",
    "l.insert(0, temp)\n",
    "\n",
    "with open(file_name, 'w') as f:\n",
    "    for i in l:\n",
    "        f.writelines(' '.join(i) + '\\n')"
   ]
  },
  {
   "cell_type": "code",
   "execution_count": null,
   "metadata": {},
   "outputs": [],
   "source": []
  },
  {
   "cell_type": "code",
   "execution_count": null,
   "metadata": {},
   "outputs": [],
   "source": []
  }
 ],
 "metadata": {
  "kernelspec": {
   "display_name": "Python 3",
   "language": "python",
   "name": "python3"
  },
  "language_info": {
   "codemirror_mode": {
    "name": "ipython",
    "version": 3
   },
   "file_extension": ".py",
   "mimetype": "text/x-python",
   "name": "python",
   "nbconvert_exporter": "python",
   "pygments_lexer": "ipython3",
   "version": "3.7.3"
  }
 },
 "nbformat": 4,
 "nbformat_minor": 4
}
