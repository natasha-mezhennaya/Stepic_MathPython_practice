{
 "cells": [
  {
   "cell_type": "markdown",
   "metadata": {},
   "source": [
    "# Курс Практикум по математике и Python"
   ]
  },
  {
   "cell_type": "markdown",
   "metadata": {},
   "source": [
    "## Основы Python"
   ]
  },
  {
   "cell_type": "markdown",
   "metadata": {},
   "source": [
    "**Математические операции**"
   ]
  },
  {
   "cell_type": "markdown",
   "metadata": {},
   "source": [
    "Даны длины 2 диагоналей ромба (каждая с новой строки).\n",
    "Значения могут быть дробными.\n",
    "\n",
    "Найдите площадь ромба S. В качестве ответа запишите (каждое с новой строки) следующие значения:\n",
    "S, приведённое к целочисленному типу\n",
    "S, округлённое до 1 знака после запятой с помощью функции  round()\n",
    "S, точное значение без округления"
   ]
  },
  {
   "cell_type": "code",
   "execution_count": 63,
   "metadata": {},
   "outputs": [
    {
     "name": "stdin",
     "output_type": "stream",
     "text": [
      " 2\n",
      " 10\n"
     ]
    },
    {
     "name": "stdout",
     "output_type": "stream",
     "text": [
      "10\n",
      "10.0\n",
      "10.0\n"
     ]
    }
   ],
   "source": [
    "a, b = (int(input()) for i in range(2))\n",
    "\n",
    "S = a * b / 2\n",
    "\n",
    "print(int(S))\n",
    "print(round(S, 1))\n",
    "print(S)"
   ]
  },
  {
   "cell_type": "markdown",
   "metadata": {},
   "source": [
    "Нарисован правильный шестиугольник со стороной a.\n",
    "\n",
    "К 5 сторонам этого шестиугольника снаружи дорисовали по правильному треугольнику.\n",
    "\n",
    "Найдите площадь получившейся фигуры.\n",
    "\n",
    "\n",
    "На вход подаётся 1 строка - длина стороны правильного шестиугольника.\n",
    "\n",
    "Ответ округлите до целых."
   ]
  },
  {
   "cell_type": "code",
   "execution_count": 64,
   "metadata": {},
   "outputs": [
    {
     "name": "stdin",
     "output_type": "stream",
     "text": [
      " 2\n"
     ]
    },
    {
     "name": "stdout",
     "output_type": "stream",
     "text": [
      "19\n"
     ]
    }
   ],
   "source": [
    "a = int(input())\n",
    "s = (a ** 2)*(3 ** 0.5) / 4\n",
    "print(round(s * 11))"
   ]
  },
  {
   "cell_type": "markdown",
   "metadata": {},
   "source": [
    "На плоскости нарисован правильный шестиугольник с длиной стороны a.\n",
    "\n",
    "У 3 сторон шестиугольника нарисовали по квадрату с длиной стороны, равной стороне шестиугольника.\n",
    "\n",
    "Оставшиеся 3 стороны разделили пополам, после чего нарисовали по равностороннему треугольнику, касающемуся каждого из получившихся половинных отрезков.\n",
    "\n",
    "\n",
    "Image: https://ucarecdn.com/6244aaf8-2910-4445-b8ab-ef734eafdb52/\n",
    "\n",
    "Найдите площадь получившейся фигуры."
   ]
  },
  {
   "cell_type": "code",
   "execution_count": 66,
   "metadata": {},
   "outputs": [
    {
     "name": "stdin",
     "output_type": "stream",
     "text": [
      " 8\n"
     ]
    },
    {
     "name": "stdout",
     "output_type": "stream",
     "text": [
      "400\n"
     ]
    }
   ],
   "source": [
    "a = int(input())\n",
    "s6 = 6 * ((a ** 2)*(3 ** 0.5) / 4)\n",
    "s3 = 6 * ((a / 2) ** 2)*(3 ** 0.5) / 4\n",
    "s4 = 3 * a**2\n",
    "print(round(s6 + s3 + s4))"
   ]
  },
  {
   "cell_type": "markdown",
   "metadata": {},
   "source": [
    "На вход программа получает 1 строку - длину ребра **додекаэдра**.\n",
    "\n",
    "Используя формулы из Wiki найдите площадь поверхности и объём фигуры.\n",
    "Ответ округлите до 2 знака после запятой.\n",
    "{\\displaystyle S=3a^{2}{\\sqrt {5(5+2{\\sqrt {5}})}}\\approx 20{,}65a^{2}}"
   ]
  },
  {
   "cell_type": "code",
   "execution_count": 71,
   "metadata": {},
   "outputs": [
    {
     "name": "stdin",
     "output_type": "stream",
     "text": [
      " 2\n"
     ]
    },
    {
     "name": "stdout",
     "output_type": "stream",
     "text": [
      "82.58\n",
      "61.3\n"
     ]
    }
   ],
   "source": [
    "a = int(input())\n",
    "\n",
    "S = 3 * a**2 * ((5*(5 + 2 * 5**0.5))**0.5)\n",
    "V = (15 + 7 * 5**0.5) * a**3 / 4\n",
    "\n",
    "print(round(S, 2))\n",
    "print(round(V, 2))"
   ]
  },
  {
   "cell_type": "markdown",
   "metadata": {},
   "source": [
    "Задача фон Неймана о мухе и поездах\n",
    "Два поезда находятся на расстоянии LL км друг от друга и приближаются по одной колее, развивают скорости v_1v \n",
    "1\n",
    "​\t\n",
    "  км/ч и v_2v \n",
    "2\n",
    "​\t\n",
    "  км/ч, соответственно. С ветрового стекла одного локомотива в начальный момент движения взлетает муха и принимается летать со скоростью v_mv \n",
    "m\n",
    "​\t\n",
    "  км/ч вперед и назад между поездами, пока те, столкнувшись, не раздавят ее.\n",
    "\n",
    "Какое расстояние успевает пролететь муха до столкновения поездов?\n",
    "\n",
    "На вход подаётся 4 натуральных числа:\n",
    "\n",
    "LL\n",
    "v_1v \n",
    "1\n",
    "​\t\n",
    " \n",
    "v_2v \n",
    "2\n",
    "​\t\n",
    " \n",
    "v_mv \n",
    "m\n",
    "​\t\n",
    " \n",
    "Ответом будет 1 натуральное число\n",
    "\n",
    "\n",
    "\n",
    "Примечание. Это простая математическая задача, здесь не нужны циклы или ряды. Условие задачи гарантирует, что v_m \\gt v_1, v_m \\gt v_2v \n",
    "m\n",
    "​\t\n",
    " >v \n",
    "1\n",
    "​\t\n",
    " ,v \n",
    "m\n",
    "​\t\n",
    " >v \n",
    "2\n",
    "​\t"
   ]
  },
  {
   "cell_type": "code",
   "execution_count": 73,
   "metadata": {},
   "outputs": [
    {
     "name": "stdin",
     "output_type": "stream",
     "text": [
      " 10\n",
      " 2\n",
      " 3\n",
      " 5\n"
     ]
    },
    {
     "name": "stdout",
     "output_type": "stream",
     "text": [
      "10\n"
     ]
    }
   ],
   "source": [
    "L, V1, V2, Vm  = (int(input()) for i in range(4))\n",
    "\n",
    "# время до столкновения\n",
    "t = L / (V1 + V2)\n",
    "\n",
    "# сколько за это время налетает муха\n",
    "s = Vm * t\n",
    "\n",
    "print(round(s))"
   ]
  },
  {
   "cell_type": "markdown",
   "metadata": {},
   "source": [
    "**Списки**"
   ]
  },
  {
   "cell_type": "markdown",
   "metadata": {},
   "source": [
    "На вход подаётся строка из 3 целых чисел.\n",
    "\n",
    "Найдите сумму чисел."
   ]
  },
  {
   "cell_type": "code",
   "execution_count": 75,
   "metadata": {},
   "outputs": [
    {
     "name": "stdin",
     "output_type": "stream",
     "text": [
      " 1 2 3\n"
     ]
    },
    {
     "name": "stdout",
     "output_type": "stream",
     "text": [
      "6\n"
     ]
    }
   ],
   "source": [
    "s = [int(i) for i in input().split()]\n",
    "print(sum(s))"
   ]
  },
  {
   "cell_type": "markdown",
   "metadata": {},
   "source": [
    "Считайте 2 строки. Каждая строка содержит по 3 натуральных числа.\n",
    "\n",
    "Найдите сумму чисел в каждой строке и выведите на печать одной строкой.\n",
    "\n",
    "В качестве разделителя между двумя получившимися числами используйте символ \"#\""
   ]
  },
  {
   "cell_type": "code",
   "execution_count": 77,
   "metadata": {},
   "outputs": [
    {
     "name": "stdin",
     "output_type": "stream",
     "text": [
      " 2 3 2\n",
      " 8 1 9\n"
     ]
    },
    {
     "name": "stdout",
     "output_type": "stream",
     "text": [
      "7#18\n"
     ]
    }
   ],
   "source": [
    "s1 = [int(i) for i in input().split()]\n",
    "s2 = [int(i) for i in input().split()]\n",
    "print('#'.join([str(sum(s1)), str(sum(s2))]))"
   ]
  },
  {
   "cell_type": "markdown",
   "metadata": {},
   "source": [
    "На вход подаётся 1 строка, слова в которой разделены символом \"&\".\n",
    "\n",
    "Необходимо вывести все слова из строки (без дубликатов) с пробелом в качестве разделителя."
   ]
  },
  {
   "cell_type": "code",
   "execution_count": null,
   "metadata": {},
   "outputs": [],
   "source": []
  }
 ],
 "metadata": {
  "kernelspec": {
   "display_name": "Python 3",
   "language": "python",
   "name": "python3"
  },
  "language_info": {
   "codemirror_mode": {
    "name": "ipython",
    "version": 3
   },
   "file_extension": ".py",
   "mimetype": "text/x-python",
   "name": "python",
   "nbconvert_exporter": "python",
   "pygments_lexer": "ipython3",
   "version": "3.7.3"
  }
 },
 "nbformat": 4,
 "nbformat_minor": 4
}
