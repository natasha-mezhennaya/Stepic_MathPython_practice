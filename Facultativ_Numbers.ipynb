{
 "cells": [
  {
   "cell_type": "markdown",
   "metadata": {},
   "source": [
    "# Факультатив удивительные числа"
   ]
  },
  {
   "cell_type": "markdown",
   "metadata": {},
   "source": [
    "4.2. numerics(n)\n",
    "\n",
    "Напишите функцию numerics(n), принимающую на вход 1 натуральное 4х значное число, а возвращающую список цифр из которых состоит число.\n",
    "\n",
    "Если какая-то цифра встречается в исходном числе несколько раз, то и в ответе она должна встретиться несколько раз (это критично, т.к. потом мы будем составлять из этих цифр снова 4х значные числа). Порядок цифр в ответе не важен.\n",
    "\n",
    "\n",
    "\n",
    "Примечание. В этой задаче не нужно ничего считывать и ничего выводить на печать. Только реализовать функцию."
   ]
  },
  {
   "cell_type": "code",
   "execution_count": 4,
   "metadata": {},
   "outputs": [
    {
     "name": "stdin",
     "output_type": "stream",
     "text": [
      " 3214\n"
     ]
    },
    {
     "name": "stdout",
     "output_type": "stream",
     "text": [
      "[3, 2, 1, 4]\n"
     ]
    }
   ],
   "source": [
    "def numerics(n):\n",
    "    return [int(i) for i in str(n)]\n",
    "\n",
    "print(numerics(input()))"
   ]
  },
  {
   "cell_type": "code",
   "execution_count": null,
   "metadata": {},
   "outputs": [],
   "source": []
  }
 ],
 "metadata": {
  "kernelspec": {
   "display_name": "Python 3",
   "language": "python",
   "name": "python3"
  },
  "language_info": {
   "codemirror_mode": {
    "name": "ipython",
    "version": 3
   },
   "file_extension": ".py",
   "mimetype": "text/x-python",
   "name": "python",
   "nbconvert_exporter": "python",
   "pygments_lexer": "ipython3",
   "version": "3.7.3"
  }
 },
 "nbformat": 4,
 "nbformat_minor": 4
}
