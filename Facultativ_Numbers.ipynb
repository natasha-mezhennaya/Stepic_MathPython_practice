{
 "cells": [
  {
   "cell_type": "markdown",
   "metadata": {},
   "source": [
    "# Факультатив удивительные числа"
   ]
  },
  {
   "cell_type": "markdown",
   "metadata": {},
   "source": [
    "## 4.2. numerics(n)\n",
    "\n",
    "Напишите функцию numerics(n), принимающую на вход 1 натуральное 4х значное число, а возвращающую список цифр из которых состоит число.\n",
    "\n",
    "Если какая-то цифра встречается в исходном числе несколько раз, то и в ответе она должна встретиться несколько раз (это критично, т.к. потом мы будем составлять из этих цифр снова 4х значные числа). Порядок цифр в ответе не важен.\n",
    "\n",
    "\n",
    "\n",
    "Примечание. В этой задаче не нужно ничего считывать и ничего выводить на печать. Только реализовать функцию."
   ]
  },
  {
   "cell_type": "code",
   "execution_count": 4,
   "metadata": {},
   "outputs": [
    {
     "name": "stdin",
     "output_type": "stream",
     "text": [
      " 3214\n"
     ]
    },
    {
     "name": "stdout",
     "output_type": "stream",
     "text": [
      "[3, 2, 1, 4]\n"
     ]
    }
   ],
   "source": [
    "def numerics(n):\n",
    "    return [int(i) for i in str(n)]\n",
    "\n",
    "print(numerics(input()))"
   ]
  },
  {
   "cell_type": "markdown",
   "metadata": {},
   "source": [
    "## kaprekar_step(L)\n",
    "\n",
    "Напишите функцию kaprekar_step(L), принимающую на вход список натуральных чисел (цифр из которых состоит число, проходящее через процесс Капрекара), проводит 1 шаг сходимости к постоянной Капрекара и возвращает 4х значное число.\n",
    "\n",
    "Функция должна сформировать внутри 2 числа:\n",
    "в порядке увеличения цифр в исходном списке\n",
    "в порядке уменьшения цифр в исходном списке\n",
    "Вычесть из большего числа меньшее и вернуть результат.\n",
    "\n",
    "Примечание. В этой задаче не нужно ничего считывать и ничего выводить на печать. Только реализовать функцию."
   ]
  },
  {
   "cell_type": "code",
   "execution_count": 21,
   "metadata": {},
   "outputs": [
    {
     "name": "stdout",
     "output_type": "stream",
     "text": [
      "3087\n"
     ]
    }
   ],
   "source": [
    "def kaprekar_step(L):\n",
    "    n1 = int(''.join(str(i) for i in sorted(L)))\n",
    "    n2 = int(''.join(str(i) for i in sorted(L, reverse=True)))\n",
    "    return abs(n1 - n2)\n",
    "\n",
    "print(kaprekar_step([3, 2, 1, 4]))"
   ]
  },
  {
   "cell_type": "markdown",
   "metadata": {},
   "source": [
    "## kaprekar_loop(n)\n",
    "\n",
    "Напишите функцию kaprekar_loop(n), которая принимает целое 4х значное число (больше 1000, содержащее хотя бы 2 разные цифры), и запускающую \"Процесс Капрекара\", выводящую на печать каждое число цикла с новой строки до тех пор, пока не будет получено число 6174.\n",
    "\n",
    "Для написания вашей функции используйте написанные на предыдущих шагах функции numerics(n) и\n",
    "kaprekar_step(L).\n",
    "\n",
    "Примечание. В этой задаче не нужно ничего считывать и ничего выводить на печать. Только реализовать функцию."
   ]
  },
  {
   "cell_type": "code",
   "execution_count": 27,
   "metadata": {},
   "outputs": [
    {
     "name": "stdout",
     "output_type": "stream",
     "text": [
      "6174\n"
     ]
    }
   ],
   "source": [
    "def numerics(n):\n",
    "    return [int(i) for i in str(n)]\n",
    "\n",
    "def kaprekar_step(L):\n",
    "    n1 = int(''.join(str(i) for i in sorted(L)))\n",
    "    n2 = int(''.join(str(i) for i in sorted(L, reverse=True)))\n",
    "    return abs(n1 - n2)\n",
    "\n",
    "def kaprekar_loop(n):\n",
    "    new_n = n\n",
    "    while new_n != 6174:\n",
    "        print(new_n)\n",
    "        new_n = kaprekar_step(numerics(new_n))\n",
    "    print('6174')\n",
    "    \n",
    "# kaprekar_loop(8654)\n",
    "kaprekar_loop(6174)"
   ]
  },
  {
   "cell_type": "code",
   "execution_count": null,
   "metadata": {},
   "outputs": [],
   "source": []
  }
 ],
 "metadata": {
  "kernelspec": {
   "display_name": "Python 3",
   "language": "python",
   "name": "python3"
  },
  "language_info": {
   "codemirror_mode": {
    "name": "ipython",
    "version": 3
   },
   "file_extension": ".py",
   "mimetype": "text/x-python",
   "name": "python",
   "nbconvert_exporter": "python",
   "pygments_lexer": "ipython3",
   "version": "3.7.3"
  }
 },
 "nbformat": 4,
 "nbformat_minor": 4
}
